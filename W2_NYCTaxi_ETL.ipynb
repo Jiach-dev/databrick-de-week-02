{
 "cells": [
  {
   "cell_type": "markdown",
   "metadata": {
    "application/vnd.databricks.v1+cell": {
     "cellMetadata": {},
     "inputWidgets": {},
     "nuid": "ebbf8ca3-17ff-4e6c-bc4a-77d82845f2e9",
     "showTitle": false,
     "tableResultSettingsMap": {},
     "title": ""
    }
   },
   "source": [
    "Action 1.1: Download and Understand the Dataset & Dictionary\n",
    "\n",
    "Download the Yellow Taxi Trip Records for January 2024 (Parquet format) from the NYC TLC website. (Direct link: https://d37ci6vzurychx.cloudfront.net/trip-data/yellow_tripdata_2024-01.parquet)\n",
    "Download the corresponding data dictionary. Thoroughly read and internalize the data dictionary. This is critical for all subsequent tasks.\n",
    "\n",
    "Deliverable Snippet (for your report): \n",
    "\n",
    "In your notebook (and later, your report), create a markdown section summarizing:\n",
    "- The key columns you anticipate being most relevant for an initial ETL and potential business analysis (justify your choices).\n",
    "- Any coded values (e.g., RatecodeID, payment_type) and their meanings as per the dictionary.\n",
    "- Initial thoughts on data types and potential data quality issues based on the dictionary's descriptions."
   ]
  },
  {
   "cell_type": "markdown",
   "metadata": {
    "application/vnd.databricks.v1+cell": {
     "cellMetadata": {},
     "inputWidgets": {},
     "nuid": "01fbc0c2-f649-4708-be46-8eee8736a647",
     "showTitle": false,
     "tableResultSettingsMap": {},
     "title": ""
    }
   },
   "source": [
    "## Summary for Initial ETL and Business Analysis\n",
    "\n",
    "### Key Columns\n",
    "- `tpep_pickup_datetime` and `tpep_dropoff_datetime`: Essential for time-based analysis and trip duration calculation.\n",
    "- `passenger_count`: Important for understanding trip occupancy and demand.\n",
    "- `trip_distance`: Key for distance-based fare and efficiency analysis.\n",
    "- `RatecodeID`: Indicates fare type, useful for segmenting trips.\n",
    "- `PULocationID` and `DOLocationID`: Critical for geographic analysis of trip origins and destinations.\n",
    "- `payment_type`: Important for payment method analysis.\n",
    "- `fare_amount`, `tip_amount`, `total_amount`: Core financial metrics for revenue analysis.\n",
    "- `congestion_surcharge`, `airport_fee`, `cbd_congestion_fee`: Relevant for surcharge impact studies.\n",
    "\n",
    "### Coded Values and Meanings\n",
    "- `RatecodeID`:\n",
    "    - 1 = Standard\n",
    "    - 2 = JFK\n",
    "    - 3 = Newark\n",
    "    - 4 = Nassau/Westchester\n",
    "    - 5 = Negotiated fare\n",
    "    - 6 = Group ride\n",
    "    - 99 = Null/unknown\n",
    "- `payment_type`:\n",
    "    - 0 = Flex Fare\n",
    "    - 1 = Credit card\n",
    "    - 2 = Cash\n",
    "    - 3 = No charge\n",
    "    - 4 = Dispute\n",
    "    - 5 = Unknown\n",
    "    - 6 = Voided trip\n",
    "- `store_and_fwd_flag`:\n",
    "    - Y = store and forward trip\n",
    "    - N = not a store and forward trip\n",
    "- `VendorID`:\n",
    "    - 1 = Creative Mobile Technologies, LLC\n",
    "    - 2 = Curb Mobility, LLC\n",
    "    - 6 = Myle Technologies Inc\n",
    "    - 7 = Helix\n",
    "\n",
    "### Data Types and Potential Quality Issues\n",
    "- Date/time fields (`tpep_pickup_datetime`, `tpep_dropoff_datetime`) should be datetime types; watch for invalid or missing timestamps.\n",
    "- Numeric fields (`passenger_count`, `trip_distance`, `fare_amount`, etc.) should be floats or integers; check for negative or zero values where not logical.\n",
    "- Categorical fields (`RatecodeID`, `payment_type`, `store_and_fwd_flag`) require mapping to meaningful labels; watch for unknown or null codes (e.g., 99 in RatecodeID).\n",
    "- Potential missing or inconsistent data in location IDs (`PULocationID`, `DOLocationID`) could affect spatial analysis.\n",
    "- Tip amounts may be zero or missing for cash payments, which should be considered in analysis.\n",
    "\n",
    "---\n",
    "\n",
    "### Data Dictionary (Excerpt)\n",
    "\n",
    "| Field Name             | Description                                                                                   |\n",
    "|------------------------|----------------------------------------------------------------------------------------------|\n",
    "| VendorID               | TPEP provider: 1=Creative Mobile Technologies, 2=Curb Mobility, 6=Myle Technologies, 7=Helix |\n",
    "| tpep_pickup_datetime   | Date and time when the meter was engaged                                                     |\n",
    "| tpep_dropoff_datetime  | Date and time when the meter was disengaged                                                  |\n",
    "| passenger_count        | Number of passengers in the vehicle                                                          |\n",
    "| trip_distance          | Trip distance in miles reported by the taximeter                                             |\n",
    "| RatecodeID             | Final rate code (see above for codes)                                                        |\n",
    "| store_and_fwd_flag     | Y=store and forward trip, N=not a store and forward trip                                     |\n",
    "| PULocationID           | TLC Taxi Zone where meter was engaged                                                        |\n",
    "| DOLocationID           | TLC Taxi Zone where meter was disengaged                                                     |\n",
    "| payment_type           | Payment method (see above for codes)                                                         |\n",
    "| fare_amount            | Meter-calculated fare                                                                        |\n",
    "| extra                  | Miscellaneous extras and surcharges                                                          |\n",
    "| mta_tax                | Tax triggered by metered rate                                                                |\n",
    "| tip_amount             | Tip amount (credit card tips only)                                                           |\n",
    "| tolls_amount           | Total tolls paid                                                                             |\n",
    "| improvement_surcharge  | Surcharge at flag drop (since 2015)                                                          |\n",
    "| total_amount           | Total charged to passengers (excludes cash tips)                                             |\n",
    "| congestion_surcharge   | NYS congestion surcharge amount                                                              |\n",
    "| airport_fee            | Fee for pickups at LaGuardia and JFK                                                         |\n",
    "| cbd_congestion_fee     | MTA Congestion Relief Zone fee (since Jan 5, 2025)                                           |"
   ]
  },
  {
   "cell_type": "markdown",
   "metadata": {
    "application/vnd.databricks.v1+cell": {
     "cellMetadata": {},
     "inputWidgets": {},
     "nuid": "6ebd5df0-9f18-4149-835b-cfed67ee3c04",
     "showTitle": false,
     "tableResultSettingsMap": {},
     "title": ""
    }
   },
   "source": [
    "Action 1.2: Set up Azure Storage and Upload Raw Data"
   ]
  },
  {
   "cell_type": "markdown",
   "metadata": {
    "application/vnd.databricks.v1+cell": {
     "cellMetadata": {},
     "inputWidgets": {},
     "nuid": "8b0df321-2282-4608-8a91-51a316775324",
     "showTitle": false,
     "tableResultSettingsMap": {},
     "title": ""
    }
   },
   "source": [
    "## Storage Account Details\n",
    "\n",
    "### Basic Information\n",
    "- **Subscription**: Azure Subscription 1\n",
    "- **Resource Group**: myResourceGroup\n",
    "- **Location**: East US\n",
    "- **Storage Account Name**: innovateretaildatalake\n",
    "\n",
    "### Service Principal\n",
    "- **Performance**: Standard\n",
    "- **Replication**: Geo-redundant storage with read access (RA-GRS)\n",
    "\n",
    "### Advanced Settings\n",
    "- **Hierarchical Namespace**: Enabled\n",
    "- **SFTP**: Disabled\n",
    "- **NFS v3**: Disabled\n",
    "- **Cross-tenant Replication**: Disabled\n",
    "- **Access Tier**: Hot\n",
    "- **Large File Shares**: Enabled\n",
    "\n",
    "### Security\n",
    "- **Secure Transfer**: Enabled\n",
    "- **Anonymous Blob Access**: Enabled\n",
    "- **Storage Account Key Access**: Enabled\n",
    "- **Default Azure AD Authorization**: Disabled\n",
    "- **Minimum TLS Version**: 1.2\n",
    "- **Allowed Copy Scope**: From any storage account\n",
    "\n",
    "### Networking\n",
    "- **Network Connectivity**: Public endpoint (all networks)\n",
    "- **Default Routing Tier**: Microsoft network routing\n",
    "\n",
    "### Data Protection\n",
    "- **Point-in-time Restore**: Disabled\n",
    "- **Soft Delete for Blobs**: Enabled (7 days retention)\n",
    "- **Soft Delete for Containers**: Enabled (7 days retention)\n",
    "- **Soft Delete for File Shares**: Enabled (7 days retention)\n",
    "- **Versioning**: Disabled\n",
    "- **Blob Change Feed**: Disabled\n",
    "- **Version-level Immutability**: Disabled\n",
    "\n",
    "### Encryption\n",
    "- **Encryption Type**: Microsoft-managed keys (MMK)\n",
    "- **Customer-managed Keys Support**: Blobs and files only\n",
    "- **Infrastructure Encryption**: Disabled"
   ]
  },
  {
   "cell_type": "markdown",
   "metadata": {
    "application/vnd.databricks.v1+cell": {
     "cellMetadata": {},
     "inputWidgets": {},
     "nuid": "203eaee1-89fc-4cc5-aafb-0c57d3dbb8af",
     "showTitle": false,
     "tableResultSettingsMap": {},
     "title": ""
    }
   },
   "source": [
    "## Blob Container Details\n",
    "\n",
    "- **Name**: nyc-taxi-data\n",
    "- **URL**: [https://innovateretaildatalake.blob.core.windows.net/nyc-taxi-data](https://innovateretaildatalake.blob.core.windows.net/nyc-taxi-data)\n",
    "- **Last Modified**: 06/06/2025 11:34:29 AM\n",
    "- **ETag**: 0x8DDA4CC9298F722\n",
    "- **Lease Status**: Unlocked\n",
    "- **Lease State**: Available\n",
    "- **Encryption Scope**: $account-encryption-key\n",
    "- **Version-level Immutability**: Disabled"
   ]
  },
  {
   "cell_type": "markdown",
   "metadata": {
    "application/vnd.databricks.v1+cell": {
     "cellMetadata": {},
     "inputWidgets": {},
     "nuid": "ac606f21-ab51-493c-92a7-a88c338c6c6b",
     "showTitle": false,
     "tableResultSettingsMap": {},
     "title": ""
    }
   },
   "source": [
    "## Data Directory\n",
    "\n",
    "- **Location**: nyc-taxi-data/raw/yellow_taxi/2024/01"
   ]
  },
  {
   "cell_type": "markdown",
   "metadata": {
    "application/vnd.databricks.v1+cell": {
     "cellMetadata": {},
     "inputWidgets": {},
     "nuid": "4948c5b0-5a6c-44e4-b801-cd28f6691a2e",
     "showTitle": false,
     "tableResultSettingsMap": {},
     "title": ""
    }
   },
   "source": [
    "### Action 1.3: Configure Databricks Cluster for Larger Data\n",
    "\n",
    "**Final Cluster Configuration:**\n",
    "\n",
    "- **Workers:** 2–4 (autoscaling enabled)\n",
    "- **Worker Type:** Standard_DS3_v2 (14 GB memory, 4 cores each)\n",
    "- **Driver:** Standard_DS3_v2 (14 GB memory, 4 cores)\n",
    "- **Runtime:** 15.4.x-scala2.12\n",
    "- **Unity Catalog:** Enabled\n",
    "- **Photon:** Enabled\n",
    "- **DBU/hour:** 3–5\n",
    "\n",
    "**Justification:**\n",
    "\n",
    "The NYC Taxi dataset for one month (~50–100MB Parquet) is much larger than the mock data used in Week 1. To ensure reasonable processing times and handle expected shuffle operations during transformations, I increased the number of workers and enabled autoscaling. This configuration balances cost and performance, providing enough resources for efficient data processing without over-provisioning. The adjustment from Week 1 (which used a single worker) is necessary to accommodate the larger dataset and more complex operations."
   ]
  },
  {
   "cell_type": "markdown",
   "metadata": {
    "application/vnd.databricks.v1+cell": {
     "cellMetadata": {},
     "inputWidgets": {},
     "nuid": "ae92d709-e3ae-4aec-9f2f-2a8b3ebf101e",
     "showTitle": false,
     "tableResultSettingsMap": {},
     "title": ""
    }
   },
   "source": [
    "Action 1.4: Create New Notebook and Load Raw Data into Spark DataFrame"
   ]
  },
  {
   "cell_type": "markdown",
   "metadata": {
    "application/vnd.databricks.v1+cell": {
     "cellMetadata": {},
     "inputWidgets": {},
     "nuid": "53a17c38-9e03-4f16-9f31-918a95f90c06",
     "showTitle": false,
     "tableResultSettingsMap": {},
     "title": ""
    }
   },
   "source": [
    "## Mounting Azure"
   ]
  },
  {
   "cell_type": "code",
   "execution_count": 0,
   "metadata": {
    "application/vnd.databricks.v1+cell": {
     "cellMetadata": {
      "byteLimit": 2048000,
      "rowLimit": 10000
     },
     "inputWidgets": {},
     "nuid": "c7672b19-2c20-4b3e-b379-3f248fbc9fca",
     "showTitle": false,
     "tableResultSettingsMap": {},
     "title": ""
    }
   },
   "outputs": [
    {
     "name": "stdout",
     "output_type": "stream",
     "text": [
      "/mnt/nyc-taxi-data has been unmounted.\n",
      "Successfully mounted wasbs://nyc-taxi-data@innovateretaildatalake.blob.core.windows.net/ to /mnt/nyc-taxi-data\n"
     ]
    }
   ],
   "source": [
    "%python\n",
    "\n",
    "storage_account_name = \"innovateretaildatalake\"\n",
    "container_name = \"nyc-taxi-data\"\n",
    "# connexion_string is not needed for mounting with dbutils.fs.mount\n",
    "# Best practice: Get key from secrets\n",
    "# REMOVED for security: # storage_account_key = dbutils.secrets.get(scope=\"azure-keyvault-scope\", key=\"storage-account-key\")\n",
    "source_uri = f\"wasbs://{container_name}@{storage_account_name}.blob.core.windows.net/\"\n",
    "mount_point = f\"/mnt/{container_name}\" # Choose a mount point name\n",
    "\n",
    "# Check if already mounted, unmount if necessary for re-configuration\n",
    "mounts = [m.mountPoint for m in dbutils.fs.mounts()]\n",
    "if mount_point in mounts:\n",
    "    dbutils.fs.unmount(mount_point)\n",
    "\n",
    "try:\n",
    "    dbutils.fs.mount(\n",
    "        source = source_uri,\n",
    "        mount_point = mount_point,\n",
    "# REMOVED for security:         extra_configs = {f\"fs.azure.account.key.{storage_account_name}.blob.core.windows.net\": storage_account_key}\n",
    "    )\n",
    "    print(f\"Successfully mounted {source_uri} to {mount_point}\")\n",
    "except Exception as e:\n",
    "    print(f\"Error mounting: {e}\")\n",
    "    # Check if it's already mounted, which can cause an error\n",
    "    if f\"Directory {mount_point} already mounted\" not in str(e):\n",
    "        raise e # Re-raise if it's not an \"already mounted\" error\n",
    "    else:\n",
    "        print(f\"{mount_point} is already mounted. Proceeding.\")\n",
    "        \n",
    "# List files in the mount to verify\n",
    "# display(dbutils.fs.ls(mount_point + \"/raw/yellow_taxi/2024/01/\"))"
   ]
  },
  {
   "cell_type": "code",
   "execution_count": 0,
   "metadata": {
    "application/vnd.databricks.v1+cell": {
     "cellMetadata": {
      "byteLimit": 2048000,
      "rowLimit": 10000
     },
     "inputWidgets": {},
     "nuid": "8c68479c-7cb5-4697-b5a7-35a670fb6e2a",
     "showTitle": false,
     "tableResultSettingsMap": {},
     "title": ""
    }
   },
   "outputs": [
    {
     "data": {
      "text/html": [
       "<style scoped>\n",
       "  .table-result-container {\n",
       "    max-height: 300px;\n",
       "    overflow: auto;\n",
       "  }\n",
       "  table, th, td {\n",
       "    border: 1px solid black;\n",
       "    border-collapse: collapse;\n",
       "  }\n",
       "  th, td {\n",
       "    padding: 5px;\n",
       "  }\n",
       "  th {\n",
       "    text-align: left;\n",
       "  }\n",
       "</style><div class='table-result-container'><table class='table-result'><thead style='background-color: white'><tr><th>path</th><th>name</th><th>size</th><th>modificationTime</th></tr></thead><tbody><tr><td>dbfs:/mnt/nyc-taxi-data/raw/yellow_taxi/2024/01/yellow_tripdata_2024-01.parquet</td><td>yellow_tripdata_2024-01.parquet</td><td>49961641</td><td>1749196676000</td></tr></tbody></table></div>"
      ]
     },
     "metadata": {
      "application/vnd.databricks.v1+output": {
       "addedWidgets": {},
       "aggData": [],
       "aggError": "",
       "aggOverflow": false,
       "aggSchema": [],
       "aggSeriesLimitReached": false,
       "aggType": "",
       "arguments": {},
       "columnCustomDisplayInfos": {},
       "data": [
        [
         "dbfs:/mnt/nyc-taxi-data/raw/yellow_taxi/2024/01/yellow_tripdata_2024-01.parquet",
         "yellow_tripdata_2024-01.parquet",
         49961641,
         1749196676000
        ]
       ],
       "datasetInfos": [],
       "dbfsResultPath": null,
       "isJsonSchema": true,
       "metadata": {},
       "overflow": false,
       "plotOptions": {
        "customPlotOptions": {},
        "displayType": "table",
        "pivotAggregation": null,
        "pivotColumns": null,
        "xColumns": null,
        "yColumns": null
       },
       "removedWidgets": [],
       "schema": [
        {
         "metadata": "{}",
         "name": "path",
         "type": "\"string\""
        },
        {
         "metadata": "{}",
         "name": "name",
         "type": "\"string\""
        },
        {
         "metadata": "{}",
         "name": "size",
         "type": "\"long\""
        },
        {
         "metadata": "{}",
         "name": "modificationTime",
         "type": "\"long\""
        }
       ],
       "type": "table"
      }
     },
     "output_type": "display_data"
    }
   ],
   "source": [
    "# List files in the mount to verify\n",
    "display(dbutils.fs.ls(mount_point + \"/raw/yellow_taxi/2024/01/\"))"
   ]
  },
  {
   "cell_type": "code",
   "execution_count": 0,
   "metadata": {
    "application/vnd.databricks.v1+cell": {
     "cellMetadata": {
      "byteLimit": 2048000,
      "rowLimit": 10000
     },
     "inputWidgets": {},
     "nuid": "38ad641e-ab83-4553-8f63-dfa3b7dd3eb2",
     "showTitle": false,
     "tableResultSettingsMap": {},
     "title": ""
    }
   },
   "outputs": [
    {
     "data": {
      "text/html": [
       "<style scoped>\n",
       "  .table-result-container {\n",
       "    max-height: 300px;\n",
       "    overflow: auto;\n",
       "  }\n",
       "  table, th, td {\n",
       "    border: 1px solid black;\n",
       "    border-collapse: collapse;\n",
       "  }\n",
       "  th, td {\n",
       "    padding: 5px;\n",
       "  }\n",
       "  th {\n",
       "    text-align: left;\n",
       "  }\n",
       "</style><div class='table-result-container'><table class='table-result'><thead style='background-color: white'><tr><th>VendorID</th><th>tpep_pickup_datetime</th><th>tpep_dropoff_datetime</th><th>passenger_count</th><th>trip_distance</th><th>RatecodeID</th><th>store_and_fwd_flag</th><th>PULocationID</th><th>DOLocationID</th><th>payment_type</th><th>fare_amount</th><th>extra</th><th>mta_tax</th><th>tip_amount</th><th>tolls_amount</th><th>improvement_surcharge</th><th>total_amount</th><th>congestion_surcharge</th><th>Airport_fee</th></tr></thead><tbody><tr><td>2</td><td>2024-01-01T00:57:55</td><td>2024-01-01T01:17:43</td><td>1</td><td>1.72</td><td>1</td><td>N</td><td>186</td><td>79</td><td>2</td><td>17.7</td><td>1.0</td><td>0.5</td><td>0.0</td><td>0.0</td><td>1.0</td><td>22.7</td><td>2.5</td><td>0.0</td></tr><tr><td>1</td><td>2024-01-01T00:03:00</td><td>2024-01-01T00:09:36</td><td>1</td><td>1.8</td><td>1</td><td>N</td><td>140</td><td>236</td><td>1</td><td>10.0</td><td>3.5</td><td>0.5</td><td>3.75</td><td>0.0</td><td>1.0</td><td>18.75</td><td>2.5</td><td>0.0</td></tr><tr><td>1</td><td>2024-01-01T00:17:06</td><td>2024-01-01T00:35:01</td><td>1</td><td>4.7</td><td>1</td><td>N</td><td>236</td><td>79</td><td>1</td><td>23.3</td><td>3.5</td><td>0.5</td><td>3.0</td><td>0.0</td><td>1.0</td><td>31.3</td><td>2.5</td><td>0.0</td></tr><tr><td>1</td><td>2024-01-01T00:36:38</td><td>2024-01-01T00:44:56</td><td>1</td><td>1.4</td><td>1</td><td>N</td><td>79</td><td>211</td><td>1</td><td>10.0</td><td>3.5</td><td>0.5</td><td>2.0</td><td>0.0</td><td>1.0</td><td>17.0</td><td>2.5</td><td>0.0</td></tr><tr><td>1</td><td>2024-01-01T00:46:51</td><td>2024-01-01T00:52:57</td><td>1</td><td>0.8</td><td>1</td><td>N</td><td>211</td><td>148</td><td>1</td><td>7.9</td><td>3.5</td><td>0.5</td><td>3.2</td><td>0.0</td><td>1.0</td><td>16.1</td><td>2.5</td><td>0.0</td></tr><tr><td>1</td><td>2024-01-01T00:54:08</td><td>2024-01-01T01:26:31</td><td>1</td><td>4.7</td><td>1</td><td>N</td><td>148</td><td>141</td><td>1</td><td>29.6</td><td>3.5</td><td>0.5</td><td>6.9</td><td>0.0</td><td>1.0</td><td>41.5</td><td>2.5</td><td>0.0</td></tr><tr><td>2</td><td>2024-01-01T00:49:44</td><td>2024-01-01T01:15:47</td><td>2</td><td>10.82</td><td>1</td><td>N</td><td>138</td><td>181</td><td>1</td><td>45.7</td><td>6.0</td><td>0.5</td><td>10.0</td><td>0.0</td><td>1.0</td><td>64.95</td><td>0.0</td><td>1.75</td></tr><tr><td>1</td><td>2024-01-01T00:30:40</td><td>2024-01-01T00:58:40</td><td>0</td><td>3.0</td><td>1</td><td>N</td><td>246</td><td>231</td><td>2</td><td>25.4</td><td>3.5</td><td>0.5</td><td>0.0</td><td>0.0</td><td>1.0</td><td>30.4</td><td>2.5</td><td>0.0</td></tr><tr><td>2</td><td>2024-01-01T00:26:01</td><td>2024-01-01T00:54:12</td><td>1</td><td>5.44</td><td>1</td><td>N</td><td>161</td><td>261</td><td>2</td><td>31.0</td><td>1.0</td><td>0.5</td><td>0.0</td><td>0.0</td><td>1.0</td><td>36.0</td><td>2.5</td><td>0.0</td></tr><tr><td>2</td><td>2024-01-01T00:28:08</td><td>2024-01-01T00:29:16</td><td>1</td><td>0.04</td><td>1</td><td>N</td><td>113</td><td>113</td><td>2</td><td>3.0</td><td>1.0</td><td>0.5</td><td>0.0</td><td>0.0</td><td>1.0</td><td>8.0</td><td>2.5</td><td>0.0</td></tr></tbody></table></div>"
      ]
     },
     "metadata": {
      "application/vnd.databricks.v1+output": {
       "addedWidgets": {},
       "aggData": [],
       "aggError": "",
       "aggOverflow": false,
       "aggSchema": [],
       "aggSeriesLimitReached": false,
       "aggType": "",
       "arguments": {},
       "columnCustomDisplayInfos": {},
       "data": [
        [
         2,
         "2024-01-01T00:57:55",
         "2024-01-01T01:17:43",
         1,
         1.72,
         1,
         "N",
         186,
         79,
         2,
         17.7,
         1,
         0.5,
         0,
         0,
         1,
         22.7,
         2.5,
         0
        ],
        [
         1,
         "2024-01-01T00:03:00",
         "2024-01-01T00:09:36",
         1,
         1.8,
         1,
         "N",
         140,
         236,
         1,
         10,
         3.5,
         0.5,
         3.75,
         0,
         1,
         18.75,
         2.5,
         0
        ],
        [
         1,
         "2024-01-01T00:17:06",
         "2024-01-01T00:35:01",
         1,
         4.7,
         1,
         "N",
         236,
         79,
         1,
         23.3,
         3.5,
         0.5,
         3,
         0,
         1,
         31.3,
         2.5,
         0
        ],
        [
         1,
         "2024-01-01T00:36:38",
         "2024-01-01T00:44:56",
         1,
         1.4,
         1,
         "N",
         79,
         211,
         1,
         10,
         3.5,
         0.5,
         2,
         0,
         1,
         17,
         2.5,
         0
        ],
        [
         1,
         "2024-01-01T00:46:51",
         "2024-01-01T00:52:57",
         1,
         0.8,
         1,
         "N",
         211,
         148,
         1,
         7.9,
         3.5,
         0.5,
         3.2,
         0,
         1,
         16.1,
         2.5,
         0
        ],
        [
         1,
         "2024-01-01T00:54:08",
         "2024-01-01T01:26:31",
         1,
         4.7,
         1,
         "N",
         148,
         141,
         1,
         29.6,
         3.5,
         0.5,
         6.9,
         0,
         1,
         41.5,
         2.5,
         0
        ],
        [
         2,
         "2024-01-01T00:49:44",
         "2024-01-01T01:15:47",
         2,
         10.82,
         1,
         "N",
         138,
         181,
         1,
         45.7,
         6,
         0.5,
         10,
         0,
         1,
         64.95,
         0,
         1.75
        ],
        [
         1,
         "2024-01-01T00:30:40",
         "2024-01-01T00:58:40",
         0,
         3,
         1,
         "N",
         246,
         231,
         2,
         25.4,
         3.5,
         0.5,
         0,
         0,
         1,
         30.4,
         2.5,
         0
        ],
        [
         2,
         "2024-01-01T00:26:01",
         "2024-01-01T00:54:12",
         1,
         5.44,
         1,
         "N",
         161,
         261,
         2,
         31,
         1,
         0.5,
         0,
         0,
         1,
         36,
         2.5,
         0
        ],
        [
         2,
         "2024-01-01T00:28:08",
         "2024-01-01T00:29:16",
         1,
         0.04,
         1,
         "N",
         113,
         113,
         2,
         3,
         1,
         0.5,
         0,
         0,
         1,
         8,
         2.5,
         0
        ]
       ],
       "datasetInfos": [],
       "dbfsResultPath": null,
       "isJsonSchema": true,
       "metadata": {},
       "overflow": false,
       "plotOptions": {
        "customPlotOptions": {},
        "displayType": "table",
        "pivotAggregation": null,
        "pivotColumns": null,
        "xColumns": null,
        "yColumns": null
       },
       "removedWidgets": [],
       "schema": [
        {
         "metadata": "{}",
         "name": "VendorID",
         "type": "\"integer\""
        },
        {
         "metadata": "{}",
         "name": "tpep_pickup_datetime",
         "type": "\"timestamp_ntz\""
        },
        {
         "metadata": "{}",
         "name": "tpep_dropoff_datetime",
         "type": "\"timestamp_ntz\""
        },
        {
         "metadata": "{}",
         "name": "passenger_count",
         "type": "\"long\""
        },
        {
         "metadata": "{}",
         "name": "trip_distance",
         "type": "\"double\""
        },
        {
         "metadata": "{}",
         "name": "RatecodeID",
         "type": "\"long\""
        },
        {
         "metadata": "{}",
         "name": "store_and_fwd_flag",
         "type": "\"string\""
        },
        {
         "metadata": "{}",
         "name": "PULocationID",
         "type": "\"integer\""
        },
        {
         "metadata": "{}",
         "name": "DOLocationID",
         "type": "\"integer\""
        },
        {
         "metadata": "{}",
         "name": "payment_type",
         "type": "\"long\""
        },
        {
         "metadata": "{}",
         "name": "fare_amount",
         "type": "\"double\""
        },
        {
         "metadata": "{}",
         "name": "extra",
         "type": "\"double\""
        },
        {
         "metadata": "{}",
         "name": "mta_tax",
         "type": "\"double\""
        },
        {
         "metadata": "{}",
         "name": "tip_amount",
         "type": "\"double\""
        },
        {
         "metadata": "{}",
         "name": "tolls_amount",
         "type": "\"double\""
        },
        {
         "metadata": "{}",
         "name": "improvement_surcharge",
         "type": "\"double\""
        },
        {
         "metadata": "{}",
         "name": "total_amount",
         "type": "\"double\""
        },
        {
         "metadata": "{}",
         "name": "congestion_surcharge",
         "type": "\"double\""
        },
        {
         "metadata": "{}",
         "name": "Airport_fee",
         "type": "\"double\""
        }
       ],
       "type": "table"
      }
     },
     "output_type": "display_data"
    }
   ],
   "source": [
    "raw_data_path_mounted = f\"{mount_point}/raw/yellow_taxi/2024/01/yellow_tripdata_2024-01.parquet\"\n",
    "df = spark.read.parquet(raw_data_path_mounted) \n",
    "display(df.limit(10))\n",
    "#df.show(10)"
   ]
  },
  {
   "cell_type": "markdown",
   "metadata": {
    "application/vnd.databricks.v1+cell": {
     "cellMetadata": {},
     "inputWidgets": {},
     "nuid": "2a8791d8-8d0c-4537-b469-ed3be34e4ec0",
     "showTitle": false,
     "tableResultSettingsMap": {},
     "title": ""
    }
   },
   "source": [
    "Action 1.5: Initial Data Profiling and Understanding"
   ]
  },
  {
   "cell_type": "code",
   "execution_count": 0,
   "metadata": {
    "application/vnd.databricks.v1+cell": {
     "cellMetadata": {
      "byteLimit": 2048000,
      "rowLimit": 10000
     },
     "inputWidgets": {},
     "nuid": "95cf1826-78b7-4e21-a3df-ddba4cb43278",
     "showTitle": false,
     "tableResultSettingsMap": {},
     "title": ""
    }
   },
   "outputs": [
    {
     "name": "stdout",
     "output_type": "stream",
     "text": [
      "root\n",
      " |-- VendorID: integer (nullable = true)\n",
      " |-- tpep_pickup_datetime: timestamp_ntz (nullable = true)\n",
      " |-- tpep_dropoff_datetime: timestamp_ntz (nullable = true)\n",
      " |-- passenger_count: long (nullable = true)\n",
      " |-- trip_distance: double (nullable = true)\n",
      " |-- RatecodeID: long (nullable = true)\n",
      " |-- store_and_fwd_flag: string (nullable = true)\n",
      " |-- PULocationID: integer (nullable = true)\n",
      " |-- DOLocationID: integer (nullable = true)\n",
      " |-- payment_type: long (nullable = true)\n",
      " |-- fare_amount: double (nullable = true)\n",
      " |-- extra: double (nullable = true)\n",
      " |-- mta_tax: double (nullable = true)\n",
      " |-- tip_amount: double (nullable = true)\n",
      " |-- tolls_amount: double (nullable = true)\n",
      " |-- improvement_surcharge: double (nullable = true)\n",
      " |-- total_amount: double (nullable = true)\n",
      " |-- congestion_surcharge: double (nullable = true)\n",
      " |-- Airport_fee: double (nullable = true)\n",
      "\n"
     ]
    }
   ],
   "source": [
    "# Initial Data Profiling and Understanding\n",
    "# Display the schema\n",
    "df.printSchema()"
   ]
  },
  {
   "cell_type": "code",
   "execution_count": 0,
   "metadata": {
    "application/vnd.databricks.v1+cell": {
     "cellMetadata": {
      "byteLimit": 2048000,
      "rowLimit": 10000
     },
     "inputWidgets": {},
     "nuid": "213e9549-1af1-4be4-b86e-af37a80a18e2",
     "showTitle": false,
     "tableResultSettingsMap": {},
     "title": ""
    }
   },
   "outputs": [
    {
     "data": {
      "text/plain": [
       "2964624"
      ]
     },
     "metadata": {},
     "output_type": "display_data"
    }
   ],
   "source": [
    "# Get the row count\n",
    "row_count = df.count()\n",
    "display(row_count)\n",
    "#No of rows: 2964624"
   ]
  },
  {
   "cell_type": "code",
   "execution_count": 0,
   "metadata": {
    "application/vnd.databricks.v1+cell": {
     "cellMetadata": {
      "byteLimit": 2048000,
      "rowLimit": 10000
     },
     "inputWidgets": {},
     "nuid": "cf4a5024-54b1-47c0-9464-b8a22550b847",
     "showTitle": false,
     "tableResultSettingsMap": {},
     "title": ""
    }
   },
   "outputs": [
    {
     "data": {
      "text/html": [
       "<style scoped>\n",
       "  .table-result-container {\n",
       "    max-height: 300px;\n",
       "    overflow: auto;\n",
       "  }\n",
       "  table, th, td {\n",
       "    border: 1px solid black;\n",
       "    border-collapse: collapse;\n",
       "  }\n",
       "  th, td {\n",
       "    padding: 5px;\n",
       "  }\n",
       "  th {\n",
       "    text-align: left;\n",
       "  }\n",
       "</style><div class='table-result-container'><table class='table-result'><thead style='background-color: white'><tr><th>VendorID</th><th>tpep_pickup_datetime</th><th>tpep_dropoff_datetime</th><th>passenger_count</th><th>trip_distance</th><th>RatecodeID</th><th>store_and_fwd_flag</th><th>PULocationID</th><th>DOLocationID</th><th>payment_type</th><th>fare_amount</th><th>extra</th><th>mta_tax</th><th>tip_amount</th><th>tolls_amount</th><th>improvement_surcharge</th><th>total_amount</th><th>congestion_surcharge</th><th>Airport_fee</th></tr></thead><tbody><tr><td>2</td><td>2024-01-01T00:57:55</td><td>2024-01-01T01:17:43</td><td>1</td><td>1.72</td><td>1</td><td>N</td><td>186</td><td>79</td><td>2</td><td>17.7</td><td>1.0</td><td>0.5</td><td>0.0</td><td>0.0</td><td>1.0</td><td>22.7</td><td>2.5</td><td>0.0</td></tr><tr><td>1</td><td>2024-01-01T00:03:00</td><td>2024-01-01T00:09:36</td><td>1</td><td>1.8</td><td>1</td><td>N</td><td>140</td><td>236</td><td>1</td><td>10.0</td><td>3.5</td><td>0.5</td><td>3.75</td><td>0.0</td><td>1.0</td><td>18.75</td><td>2.5</td><td>0.0</td></tr><tr><td>1</td><td>2024-01-01T00:17:06</td><td>2024-01-01T00:35:01</td><td>1</td><td>4.7</td><td>1</td><td>N</td><td>236</td><td>79</td><td>1</td><td>23.3</td><td>3.5</td><td>0.5</td><td>3.0</td><td>0.0</td><td>1.0</td><td>31.3</td><td>2.5</td><td>0.0</td></tr></tbody></table></div>"
      ]
     },
     "metadata": {
      "application/vnd.databricks.v1+output": {
       "addedWidgets": {},
       "aggData": [],
       "aggError": "",
       "aggOverflow": false,
       "aggSchema": [],
       "aggSeriesLimitReached": false,
       "aggType": "",
       "arguments": {},
       "columnCustomDisplayInfos": {},
       "data": [
        [
         2,
         "2024-01-01T00:57:55",
         "2024-01-01T01:17:43",
         1,
         1.72,
         1,
         "N",
         186,
         79,
         2,
         17.7,
         1,
         0.5,
         0,
         0,
         1,
         22.7,
         2.5,
         0
        ],
        [
         1,
         "2024-01-01T00:03:00",
         "2024-01-01T00:09:36",
         1,
         1.8,
         1,
         "N",
         140,
         236,
         1,
         10,
         3.5,
         0.5,
         3.75,
         0,
         1,
         18.75,
         2.5,
         0
        ],
        [
         1,
         "2024-01-01T00:17:06",
         "2024-01-01T00:35:01",
         1,
         4.7,
         1,
         "N",
         236,
         79,
         1,
         23.3,
         3.5,
         0.5,
         3,
         0,
         1,
         31.3,
         2.5,
         0
        ]
       ],
       "datasetInfos": [],
       "dbfsResultPath": null,
       "isJsonSchema": true,
       "metadata": {},
       "overflow": false,
       "plotOptions": {
        "customPlotOptions": {},
        "displayType": "table",
        "pivotAggregation": null,
        "pivotColumns": null,
        "xColumns": null,
        "yColumns": null
       },
       "removedWidgets": [],
       "schema": [
        {
         "metadata": "{}",
         "name": "VendorID",
         "type": "\"integer\""
        },
        {
         "metadata": "{}",
         "name": "tpep_pickup_datetime",
         "type": "\"timestamp_ntz\""
        },
        {
         "metadata": "{}",
         "name": "tpep_dropoff_datetime",
         "type": "\"timestamp_ntz\""
        },
        {
         "metadata": "{}",
         "name": "passenger_count",
         "type": "\"long\""
        },
        {
         "metadata": "{}",
         "name": "trip_distance",
         "type": "\"double\""
        },
        {
         "metadata": "{}",
         "name": "RatecodeID",
         "type": "\"long\""
        },
        {
         "metadata": "{}",
         "name": "store_and_fwd_flag",
         "type": "\"string\""
        },
        {
         "metadata": "{}",
         "name": "PULocationID",
         "type": "\"integer\""
        },
        {
         "metadata": "{}",
         "name": "DOLocationID",
         "type": "\"integer\""
        },
        {
         "metadata": "{}",
         "name": "payment_type",
         "type": "\"long\""
        },
        {
         "metadata": "{}",
         "name": "fare_amount",
         "type": "\"double\""
        },
        {
         "metadata": "{}",
         "name": "extra",
         "type": "\"double\""
        },
        {
         "metadata": "{}",
         "name": "mta_tax",
         "type": "\"double\""
        },
        {
         "metadata": "{}",
         "name": "tip_amount",
         "type": "\"double\""
        },
        {
         "metadata": "{}",
         "name": "tolls_amount",
         "type": "\"double\""
        },
        {
         "metadata": "{}",
         "name": "improvement_surcharge",
         "type": "\"double\""
        },
        {
         "metadata": "{}",
         "name": "total_amount",
         "type": "\"double\""
        },
        {
         "metadata": "{}",
         "name": "congestion_surcharge",
         "type": "\"double\""
        },
        {
         "metadata": "{}",
         "name": "Airport_fee",
         "type": "\"double\""
        }
       ],
       "type": "table"
      }
     },
     "output_type": "display_data"
    }
   ],
   "source": [
    "# Display a sample of rows\n",
    "display(df.limit(3))"
   ]
  },
  {
   "cell_type": "code",
   "execution_count": 0,
   "metadata": {
    "application/vnd.databricks.v1+cell": {
     "cellMetadata": {
      "byteLimit": 2048000,
      "rowLimit": 10000
     },
     "inputWidgets": {},
     "nuid": "3b2d6a7f-3a85-43cc-abd5-b5e26f39bf54",
     "showTitle": false,
     "tableResultSettingsMap": {},
     "title": ""
    }
   },
   "outputs": [
    {
     "data": {
      "text/html": [
       "<style scoped>\n",
       "  .table-result-container {\n",
       "    max-height: 300px;\n",
       "    overflow: auto;\n",
       "  }\n",
       "  table, th, td {\n",
       "    border: 1px solid black;\n",
       "    border-collapse: collapse;\n",
       "  }\n",
       "  th, td {\n",
       "    padding: 5px;\n",
       "  }\n",
       "  th {\n",
       "    text-align: left;\n",
       "  }\n",
       "</style><div class='table-result-container'><table class='table-result'><thead style='background-color: white'><tr><th>summary</th><th>VendorID</th><th>passenger_count</th><th>trip_distance</th><th>RatecodeID</th><th>store_and_fwd_flag</th><th>PULocationID</th><th>DOLocationID</th><th>payment_type</th><th>fare_amount</th><th>extra</th><th>mta_tax</th><th>tip_amount</th><th>tolls_amount</th><th>improvement_surcharge</th><th>total_amount</th><th>congestion_surcharge</th><th>Airport_fee</th></tr></thead><tbody><tr><td>count</td><td>2964624</td><td>2824462</td><td>2964624</td><td>2824462</td><td>2824462</td><td>2964624</td><td>2964624</td><td>2964624</td><td>2964624</td><td>2964624</td><td>2964624</td><td>2964624</td><td>2964624</td><td>2964624</td><td>2964624</td><td>2824462</td><td>2824462</td></tr><tr><td>mean</td><td>1.7542042431013174</td><td>1.3392808966805005</td><td>3.6521691789577058</td><td>2.069359403666964</td><td>null</td><td>166.01788354948215</td><td>165.11671227110082</td><td>1.1612707041432573</td><td>18.175061916786696</td><td>1.4515984320439976</td><td>0.4833823108765226</td><td>3.3358700158961274</td><td>0.5270212040355687</td><td>0.9756318507844317</td><td>26.801504770889355</td><td>2.2561220508542865</td><td>0.141161130863152</td></tr><tr><td>stddev</td><td>0.4325902017035976</td><td>0.850281692480088</td><td>225.46257238219965</td><td>9.823218952795497</td><td>null</td><td>63.6239144874133</td><td>69.31534978524881</td><td>0.5808685566109416</td><td>18.949547705905296</td><td>1.8041024767538996</td><td>0.11776003015379834</td><td>3.8965505998067678</td><td>2.1283096763989</td><td>0.21836445772742977</td><td>23.385577429672534</td><td>0.8232746699398359</td><td>0.48762388723927713</td></tr><tr><td>min</td><td>1</td><td>0</td><td>0.0</td><td>1</td><td>N</td><td>1</td><td>1</td><td>0</td><td>-899.0</td><td>-7.5</td><td>-0.5</td><td>-80.0</td><td>-80.0</td><td>-1.0</td><td>-900.0</td><td>-2.5</td><td>-1.75</td></tr><tr><td>25%</td><td>2</td><td>1</td><td>1.0</td><td>1</td><td>null</td><td>132</td><td>114</td><td>1</td><td>8.6</td><td>0.0</td><td>0.5</td><td>1.0</td><td>0.0</td><td>1.0</td><td>15.38</td><td>2.5</td><td>0.0</td></tr><tr><td>50%</td><td>2</td><td>1</td><td>1.68</td><td>1</td><td>null</td><td>162</td><td>162</td><td>1</td><td>12.8</td><td>1.0</td><td>0.5</td><td>2.7</td><td>0.0</td><td>1.0</td><td>20.1</td><td>2.5</td><td>0.0</td></tr><tr><td>75%</td><td>2</td><td>1</td><td>3.11</td><td>1</td><td>null</td><td>234</td><td>234</td><td>1</td><td>20.5</td><td>2.5</td><td>0.5</td><td>4.12</td><td>0.0</td><td>1.0</td><td>28.56</td><td>2.5</td><td>0.0</td></tr><tr><td>max</td><td>6</td><td>9</td><td>312722.3</td><td>99</td><td>Y</td><td>265</td><td>265</td><td>4</td><td>5000.0</td><td>14.25</td><td>4.0</td><td>428.0</td><td>115.92</td><td>1.0</td><td>5000.0</td><td>2.5</td><td>1.75</td></tr></tbody></table></div>"
      ]
     },
     "metadata": {
      "application/vnd.databricks.v1+output": {
       "addedWidgets": {},
       "aggData": [],
       "aggError": "",
       "aggOverflow": false,
       "aggSchema": [],
       "aggSeriesLimitReached": false,
       "aggType": "",
       "arguments": {},
       "columnCustomDisplayInfos": {},
       "data": [
        [
         "count",
         "2964624",
         "2824462",
         "2964624",
         "2824462",
         "2824462",
         "2964624",
         "2964624",
         "2964624",
         "2964624",
         "2964624",
         "2964624",
         "2964624",
         "2964624",
         "2964624",
         "2964624",
         "2824462",
         "2824462"
        ],
        [
         "mean",
         "1.7542042431013174",
         "1.3392808966805005",
         "3.6521691789577058",
         "2.069359403666964",
         null,
         "166.01788354948215",
         "165.11671227110082",
         "1.1612707041432573",
         "18.175061916786696",
         "1.4515984320439976",
         "0.4833823108765226",
         "3.3358700158961274",
         "0.5270212040355687",
         "0.9756318507844317",
         "26.801504770889355",
         "2.2561220508542865",
         "0.141161130863152"
        ],
        [
         "stddev",
         "0.4325902017035976",
         "0.850281692480088",
         "225.46257238219965",
         "9.823218952795497",
         null,
         "63.6239144874133",
         "69.31534978524881",
         "0.5808685566109416",
         "18.949547705905296",
         "1.8041024767538996",
         "0.11776003015379834",
         "3.8965505998067678",
         "2.1283096763989",
         "0.21836445772742977",
         "23.385577429672534",
         "0.8232746699398359",
         "0.48762388723927713"
        ],
        [
         "min",
         "1",
         "0",
         "0.0",
         "1",
         "N",
         "1",
         "1",
         "0",
         "-899.0",
         "-7.5",
         "-0.5",
         "-80.0",
         "-80.0",
         "-1.0",
         "-900.0",
         "-2.5",
         "-1.75"
        ],
        [
         "25%",
         "2",
         "1",
         "1.0",
         "1",
         null,
         "132",
         "114",
         "1",
         "8.6",
         "0.0",
         "0.5",
         "1.0",
         "0.0",
         "1.0",
         "15.38",
         "2.5",
         "0.0"
        ],
        [
         "50%",
         "2",
         "1",
         "1.68",
         "1",
         null,
         "162",
         "162",
         "1",
         "12.8",
         "1.0",
         "0.5",
         "2.7",
         "0.0",
         "1.0",
         "20.1",
         "2.5",
         "0.0"
        ],
        [
         "75%",
         "2",
         "1",
         "3.11",
         "1",
         null,
         "234",
         "234",
         "1",
         "20.5",
         "2.5",
         "0.5",
         "4.12",
         "0.0",
         "1.0",
         "28.56",
         "2.5",
         "0.0"
        ],
        [
         "max",
         "6",
         "9",
         "312722.3",
         "99",
         "Y",
         "265",
         "265",
         "4",
         "5000.0",
         "14.25",
         "4.0",
         "428.0",
         "115.92",
         "1.0",
         "5000.0",
         "2.5",
         "1.75"
        ]
       ],
       "datasetInfos": [],
       "dbfsResultPath": null,
       "isJsonSchema": true,
       "metadata": {},
       "overflow": false,
       "plotOptions": {
        "customPlotOptions": {},
        "displayType": "table",
        "pivotAggregation": null,
        "pivotColumns": null,
        "xColumns": null,
        "yColumns": null
       },
       "removedWidgets": [],
       "schema": [
        {
         "metadata": "{}",
         "name": "summary",
         "type": "\"string\""
        },
        {
         "metadata": "{}",
         "name": "VendorID",
         "type": "\"string\""
        },
        {
         "metadata": "{}",
         "name": "passenger_count",
         "type": "\"string\""
        },
        {
         "metadata": "{}",
         "name": "trip_distance",
         "type": "\"string\""
        },
        {
         "metadata": "{}",
         "name": "RatecodeID",
         "type": "\"string\""
        },
        {
         "metadata": "{}",
         "name": "store_and_fwd_flag",
         "type": "\"string\""
        },
        {
         "metadata": "{}",
         "name": "PULocationID",
         "type": "\"string\""
        },
        {
         "metadata": "{}",
         "name": "DOLocationID",
         "type": "\"string\""
        },
        {
         "metadata": "{}",
         "name": "payment_type",
         "type": "\"string\""
        },
        {
         "metadata": "{}",
         "name": "fare_amount",
         "type": "\"string\""
        },
        {
         "metadata": "{}",
         "name": "extra",
         "type": "\"string\""
        },
        {
         "metadata": "{}",
         "name": "mta_tax",
         "type": "\"string\""
        },
        {
         "metadata": "{}",
         "name": "tip_amount",
         "type": "\"string\""
        },
        {
         "metadata": "{}",
         "name": "tolls_amount",
         "type": "\"string\""
        },
        {
         "metadata": "{}",
         "name": "improvement_surcharge",
         "type": "\"string\""
        },
        {
         "metadata": "{}",
         "name": "total_amount",
         "type": "\"string\""
        },
        {
         "metadata": "{}",
         "name": "congestion_surcharge",
         "type": "\"string\""
        },
        {
         "metadata": "{}",
         "name": "Airport_fee",
         "type": "\"string\""
        }
       ],
       "type": "table"
      }
     },
     "output_type": "display_data"
    }
   ],
   "source": [
    "# Statistical overview of numerical and string columns\n",
    "display(df.summary())"
   ]
  },
  {
   "cell_type": "code",
   "execution_count": 0,
   "metadata": {
    "application/vnd.databricks.v1+cell": {
     "cellMetadata": {
      "byteLimit": 2048000,
      "rowLimit": 10000
     },
     "inputWidgets": {},
     "nuid": "a6e945c0-12fa-4b9b-b305-11478478e728",
     "showTitle": false,
     "tableResultSettingsMap": {},
     "title": ""
    }
   },
   "outputs": [
    {
     "data": {
      "text/html": [
       "<style scoped>\n",
       "  .table-result-container {\n",
       "    max-height: 300px;\n",
       "    overflow: auto;\n",
       "  }\n",
       "  table, th, td {\n",
       "    border: 1px solid black;\n",
       "    border-collapse: collapse;\n",
       "  }\n",
       "  th, td {\n",
       "    padding: 5px;\n",
       "  }\n",
       "  th {\n",
       "    text-align: left;\n",
       "  }\n",
       "</style><div class='table-result-container'><table class='table-result'><thead style='background-color: white'><tr><th>VendorID</th><th>RatecodeID</th><th>payment_type</th><th>PULocationID</th><th>DOLocationID</th></tr></thead><tbody><tr><td>3</td><td>7</td><td>5</td><td>260</td><td>261</td></tr></tbody></table></div>"
      ]
     },
     "metadata": {
      "application/vnd.databricks.v1+output": {
       "addedWidgets": {},
       "aggData": [],
       "aggError": "",
       "aggOverflow": false,
       "aggSchema": [],
       "aggSeriesLimitReached": false,
       "aggType": "",
       "arguments": {},
       "columnCustomDisplayInfos": {},
       "data": [
        [
         3,
         7,
         5,
         260,
         261
        ]
       ],
       "datasetInfos": [],
       "dbfsResultPath": null,
       "isJsonSchema": true,
       "metadata": {},
       "overflow": false,
       "plotOptions": {
        "customPlotOptions": {},
        "displayType": "table",
        "pivotAggregation": null,
        "pivotColumns": null,
        "xColumns": null,
        "yColumns": null
       },
       "removedWidgets": [],
       "schema": [
        {
         "metadata": "{}",
         "name": "VendorID",
         "type": "\"long\""
        },
        {
         "metadata": "{}",
         "name": "RatecodeID",
         "type": "\"long\""
        },
        {
         "metadata": "{}",
         "name": "payment_type",
         "type": "\"long\""
        },
        {
         "metadata": "{}",
         "name": "PULocationID",
         "type": "\"long\""
        },
        {
         "metadata": "{}",
         "name": "DOLocationID",
         "type": "\"long\""
        }
       ],
       "type": "table"
      }
     },
     "output_type": "display_data"
    }
   ],
   "source": [
    "from pyspark.sql.functions import countDistinct# Calculate the number of distinct values for key categorical columns\n",
    "\n",
    "columns_to_count = [\"VendorID\", \"RatecodeID\", \"payment_type\", \"PULocationID\", \"DOLocationID\"]\n",
    "distinct_values = df.agg(*(countDistinct(col).alias(col) for col in columns_to_count))\n",
    "display(distinct_values)"
   ]
  },
  {
   "cell_type": "code",
   "execution_count": 0,
   "metadata": {
    "application/vnd.databricks.v1+cell": {
     "cellMetadata": {
      "byteLimit": 2048000,
      "rowLimit": 10000
     },
     "inputWidgets": {},
     "nuid": "e696d2d8-8f34-46fe-b9d2-3ed151fbe678",
     "showTitle": false,
     "tableResultSettingsMap": {},
     "title": ""
    }
   },
   "outputs": [],
   "source": [
    "%python\n",
    "from pyspark.sql.functions import col, sum\n",
    "\n",
    "# Check for null values across all columns\n",
    "null_values = df.select([sum(col(c).isNull().cast(\"int\")).alias(c) for c in df.columns])\n",
    "display(null_values)\n",
    "\n",
    "report = \"Null Value Report:\\n\\n\"\n",
    "for col_name in df.columns:\n",
    "    null_count = null_values.collect()[0][col_name]\n",
    "    report += f\"- {col_name}: {null_count} null values\\n\"\n",
    "    \n",
    "dbutils.notebook.exit(report)"
   ]
  },
  {
   "cell_type": "markdown",
   "metadata": {
    "application/vnd.databricks.v1+cell": {
     "cellMetadata": {},
     "inputWidgets": {},
     "nuid": "d6260b96-c1ea-4902-8907-ca32fa364c1f",
     "showTitle": false,
     "tableResultSettingsMap": {},
     "title": ""
    }
   },
   "source": [
    "Task 2: Data Cleaning, Validation, and Transformation Strategy (Est. 10 - 14 hours)"
   ]
  },
  {
   "cell_type": "markdown",
   "metadata": {
    "application/vnd.databricks.v1+cell": {
     "cellMetadata": {},
     "inputWidgets": {},
     "nuid": "6c651110-9537-4aa0-9ca3-5baadc35f3b4",
     "showTitle": false,
     "tableResultSettingsMap": {},
     "title": ""
    }
   },
   "source": [
    "Action 2.1: Develop a Data Cleaning Strategy"
   ]
  },
  {
   "cell_type": "markdown",
   "metadata": {
    "application/vnd.databricks.v1+cell": {
     "cellMetadata": {},
     "inputWidgets": {},
     "nuid": "0d9ea99f-fbf1-449f-a9f2-16c2fc13bf46",
     "showTitle": false,
     "tableResultSettingsMap": {},
     "title": ""
    }
   },
   "source": [
    "## Data Cleaning Strategy\n",
    "\n",
    "### 1. Invalid Trip Distances\n",
    "**Issue**: Rows with trip distances <= 0 or >= 100.\n",
    "**Percentage of invalid trip distances: 2.04%\n",
    "**Action**: Filter out these rows.\n",
    "**Justification**: Negative or zero distances are physically impossible, and extremely high values are likely errors. These represent a small fraction of the data, so filtering them out will not significantly impact the dataset.\n",
    "\n",
    "### 2. Missing Passenger Count\n",
    "**Issue**: Rows with missing passenger_count.\n",
    "**Action**: Impute missing values with the median passenger count.\n",
    "**Justification**: Removing these rows would cause significant data loss. Imputing with the median preserves the data and maintains realistic values.\n",
    "\n",
    "### 3. Invalid Fare Amounts\n",
    "**Issue**: Rows with fare amounts <= 0.\n",
    "**Action**: Filter out these rows.\n",
    "**Justification**: Negative or zero fare amounts are not valid and likely indicate data entry errors. Filtering these rows ensures data integrity.\n",
    "\n",
    "### 4. Missing RatecodeID\n",
    "**Issue**: Rows with missing RatecodeID.\n",
    "**Action**: Impute missing values with the most frequent RatecodeID.\n",
    "**Justification**: RatecodeID is important for fare calculation. Imputing with the most frequent value maintains the dataset's usability without introducing significant bias.\n",
    "\n",
    "### 5. Outlier Passenger Counts\n",
    "**Issue**: Rows with passenger counts > 6.\n",
    "**Action**: Cap passenger counts at 6.\n",
    "**Justification**: Most taxis have a maximum capacity of 6 passengers. Capping ensures realistic values while retaining the majority of the data.\n",
    "\n",
    "### 6. Missing Store_and_fwd_flag\n",
    "**Issue**: Rows with missing store_and_fwd_flag.\n",
    "**Action**: Impute missing values with the most frequent flag.\n",
    "**Justification**: Store_and_fwd_flag indicates whether the trip record was held in vehicle memory before sending to the vendor. Imputing with the most frequent value maintains data consistency."
   ]
  },
  {
   "cell_type": "code",
   "execution_count": 0,
   "metadata": {
    "application/vnd.databricks.v1+cell": {
     "cellMetadata": {
      "byteLimit": 2048000,
      "rowLimit": 10000
     },
     "inputWidgets": {},
     "nuid": "89e1dedf-da84-47f1-ab4e-dcd18310abe7",
     "showTitle": false,
     "tableResultSettingsMap": {},
     "title": ""
    }
   },
   "outputs": [
    {
     "name": "stdout",
     "output_type": "stream",
     "text": [
      "Percentage of invalid trip distances: 2.04%\n"
     ]
    }
   ],
   "source": [
    "from pyspark.sql.functions import col, when, count\n",
    "\n",
    "# 1. Rows with invalid trip distances (<=0 or unreasonably high)\n",
    "invalid_trip_distance = df.filter((col(\"trip_distance\") <= 0) | (col(\"trip_distance\") >= 100))\n",
    "#display(invalid_trip_distance)\n",
    "\n",
    "total_count = df.count()\n",
    "invalid_count = invalid_trip_distance.count()\n",
    "invalid_percentage = (invalid_count / total_count) * 100\n",
    "\n",
    "print(f\"Percentage of invalid trip distances: {invalid_percentage:.2f}%\")"
   ]
  },
  {
   "cell_type": "code",
   "execution_count": 0,
   "metadata": {
    "application/vnd.databricks.v1+cell": {
     "cellMetadata": {
      "byteLimit": 2048000,
      "rowLimit": 10000
     },
     "inputWidgets": {},
     "nuid": "b68df09b-0913-4d26-b2a1-99a0fbb38183",
     "showTitle": false,
     "tableResultSettingsMap": {},
     "title": ""
    }
   },
   "outputs": [
    {
     "name": "stdout",
     "output_type": "stream",
     "text": [
      "Percentage of negative fare or total amounts: 1.27%\n"
     ]
    }
   ],
   "source": [
    "# 2. Rows with negative fare or total amounts\n",
    "negative_fare_total = df.filter((col(\"fare_amount\") < 0) | (col(\"total_amount\") < 0))\n",
    "# display(negative_fare_total)\n",
    "total_count = df.count()\n",
    "invalid_count = negative_fare_total.count()\n",
    "invalid_percentage = (invalid_count / total_count) * 100\n",
    "\n",
    "print(f\"Percentage of negative fare or total amounts: {invalid_percentage:.2f}%\")"
   ]
  },
  {
   "cell_type": "code",
   "execution_count": 0,
   "metadata": {
    "application/vnd.databricks.v1+cell": {
     "cellMetadata": {
      "byteLimit": 2048000,
      "rowLimit": 10000
     },
     "inputWidgets": {},
     "nuid": "f8f22dee-99d2-42f8-b1d4-a2546f150009",
     "showTitle": false,
     "tableResultSettingsMap": {},
     "title": ""
    }
   },
   "outputs": [
    {
     "name": "stdout",
     "output_type": "stream",
     "text": [
      "Percentage of invalid datetime rows: 0.03%\n"
     ]
    }
   ],
   "source": [
    "# 3. Rows where pickup datetime is after dropoff datetime or outside January 2024\n",
    "invalid_datetime = df.filter(\n",
    "    (col(\"tpep_pickup_datetime\") >= col(\"tpep_dropoff_datetime\")) |\n",
    "    (col(\"tpep_pickup_datetime\") < \"2024-01-01\") |\n",
    "    (col(\"tpep_pickup_datetime\") >= \"2024-02-01\")\n",
    ")\n",
    "# display(invalid_datetime)\n",
    "\n",
    "total_count = df.count()\n",
    "invalid_count = invalid_datetime.count()\n",
    "invalid_percentage = (invalid_count / total_count) * 100\n",
    "\n",
    "print(f\"Percentage of invalid datetime rows: {invalid_percentage:.2f}%\")\n"
   ]
  },
  {
   "cell_type": "code",
   "execution_count": 0,
   "metadata": {
    "application/vnd.databricks.v1+cell": {
     "cellMetadata": {
      "byteLimit": 2048000,
      "rowLimit": 10000
     },
     "inputWidgets": {},
     "nuid": "d7c6c1bc-bf58-47bf-b1ee-a0ff706109fa",
     "showTitle": false,
     "tableResultSettingsMap": {},
     "title": ""
    }
   },
   "outputs": [
    {
     "name": "stdout",
     "output_type": "stream",
     "text": [
      "Percentage of invalid location ID rows: 1.06%\n"
     ]
    }
   ],
   "source": [
    "# 4. Rows with invalid location IDs (NYC Taxi Zone IDs are 1-263)\n",
    "invalid_location_ids = df.filter(\n",
    "    (~col(\"PULocationID\").between(1, 263)) |\n",
    "    (~col(\"DOLocationID\").between(1, 263))\n",
    ")\n",
    "# display(invalid_location_ids)\n",
    "\n",
    "total_count = df.count()\n",
    "invalid_count = invalid_location_ids.count()\n",
    "invalid_percentage = (invalid_count / total_count) * 100\n",
    "\n",
    "print(f\"Percentage of invalid location ID rows: {invalid_percentage:.2f}%\")\n"
   ]
  },
  {
   "cell_type": "code",
   "execution_count": 0,
   "metadata": {
    "application/vnd.databricks.v1+cell": {
     "cellMetadata": {
      "byteLimit": 2048000,
      "rowLimit": 10000
     },
     "inputWidgets": {},
     "nuid": "ac8d6672-b59b-4db8-b60f-058d052f6334",
     "showTitle": false,
     "tableResultSettingsMap": {},
     "title": ""
    }
   },
   "outputs": [
    {
     "name": "stdout",
     "output_type": "stream",
     "text": [
      "Percentage of invalid passenger count rows: 1.06%\n"
     ]
    }
   ],
   "source": [
    "# 5. Rows with passenger_count <= 0 or unreasonably high (>8)\n",
    "invalid_passenger_count = df.filter((col(\"passenger_count\") <= 0) | (col(\"passenger_count\") > 8))\n",
    "# display(invalid_passenger_count)\n",
    "\n",
    "total_count = df.count()\n",
    "invalid_count = invalid_passenger_count.count()\n",
    "invalid_percentage = (invalid_count / total_count) * 100\n",
    "\n",
    "print(f\"Percentage of invalid passenger count rows: {invalid_percentage:.2f}%\")"
   ]
  },
  {
   "cell_type": "code",
   "execution_count": 0,
   "metadata": {
    "application/vnd.databricks.v1+cell": {
     "cellMetadata": {
      "byteLimit": 2048000,
      "rowLimit": 10000
     },
     "inputWidgets": {},
     "nuid": "78c67350-65a4-4417-842a-89ac04db7d5d",
     "showTitle": false,
     "tableResultSettingsMap": {},
     "title": ""
    }
   },
   "outputs": [
    {
     "name": "stdout",
     "output_type": "stream",
     "text": [
      "Percentage of missing payment_type rows: 0.00%\n"
     ]
    }
   ],
   "source": [
    "# 6. Report and impute missing payment_type with 'Unknown'\n",
    "missing_payment_type = df.filter(col(\"payment_type\").isNull())\n",
    "# display(missing_payment_type)\n",
    "\n",
    "total_count = df.count()\n",
    "missing_count = missing_payment_type.count()\n",
    "missing_percentage = (missing_count / total_count) * 100\n",
    "\n",
    "print(f\"Percentage of missing payment_type rows: {missing_percentage:.2f}%\")\n",
    "\n",
    "\n",
    "\n",
    "#display(df_cleaned)"
   ]
  },
  {
   "cell_type": "markdown",
   "metadata": {
    "application/vnd.databricks.v1+cell": {
     "cellMetadata": {},
     "inputWidgets": {},
     "nuid": "d6e4e6f0-c5aa-4a3f-9dd7-1b882eb3315c",
     "showTitle": false,
     "tableResultSettingsMap": {},
     "title": ""
    }
   },
   "source": [
    "Action 2.2: Implement Data Cleaning and Type Casting\n",
    "\n"
   ]
  },
  {
   "cell_type": "code",
   "execution_count": 0,
   "metadata": {
    "application/vnd.databricks.v1+cell": {
     "cellMetadata": {
      "byteLimit": 2048000,
      "rowLimit": 10000
     },
     "inputWidgets": {},
     "nuid": "6ef7e5a5-d623-4af9-bdb4-e419fd590963",
     "showTitle": false,
     "tableResultSettingsMap": {},
     "title": ""
    }
   },
   "outputs": [
    {
     "data": {
      "text/html": [
       "<style scoped>\n",
       "  .table-result-container {\n",
       "    max-height: 300px;\n",
       "    overflow: auto;\n",
       "  }\n",
       "  table, th, td {\n",
       "    border: 1px solid black;\n",
       "    border-collapse: collapse;\n",
       "  }\n",
       "  th, td {\n",
       "    padding: 5px;\n",
       "  }\n",
       "  th {\n",
       "    text-align: left;\n",
       "  }\n",
       "</style><div class='table-result-container'><table class='table-result'><thead style='background-color: white'><tr><th>VendorID</th><th>tpep_pickup_datetime</th><th>tpep_dropoff_datetime</th><th>passenger_count</th><th>trip_distance</th><th>RatecodeID</th><th>store_and_fwd_flag</th><th>PULocationID</th><th>DOLocationID</th><th>payment_type</th><th>fare_amount</th><th>extra</th><th>mta_tax</th><th>tip_amount</th><th>tolls_amount</th><th>improvement_surcharge</th><th>total_amount</th><th>congestion_surcharge</th><th>Airport_fee</th></tr></thead><tbody><tr><td>0</td><td>0</td><td>0</td><td>140162</td><td>0</td><td>140162</td><td>140162</td><td>0</td><td>0</td><td>0</td><td>0</td><td>0</td><td>0</td><td>0</td><td>0</td><td>0</td><td>0</td><td>140162</td><td>140162</td></tr></tbody></table></div>"
      ]
     },
     "metadata": {
      "application/vnd.databricks.v1+output": {
       "addedWidgets": {},
       "aggData": [],
       "aggError": "",
       "aggOverflow": false,
       "aggSchema": [],
       "aggSeriesLimitReached": false,
       "aggType": "",
       "arguments": {},
       "columnCustomDisplayInfos": {},
       "data": [
        [
         0,
         0,
         0,
         140162,
         0,
         140162,
         140162,
         0,
         0,
         0,
         0,
         0,
         0,
         0,
         0,
         0,
         0,
         140162,
         140162
        ]
       ],
       "datasetInfos": [],
       "dbfsResultPath": null,
       "isJsonSchema": true,
       "metadata": {},
       "overflow": false,
       "plotOptions": {
        "customPlotOptions": {},
        "displayType": "table",
        "pivotAggregation": null,
        "pivotColumns": null,
        "xColumns": null,
        "yColumns": null
       },
       "removedWidgets": [],
       "schema": [
        {
         "metadata": "{}",
         "name": "VendorID",
         "type": "\"long\""
        },
        {
         "metadata": "{}",
         "name": "tpep_pickup_datetime",
         "type": "\"long\""
        },
        {
         "metadata": "{}",
         "name": "tpep_dropoff_datetime",
         "type": "\"long\""
        },
        {
         "metadata": "{}",
         "name": "passenger_count",
         "type": "\"long\""
        },
        {
         "metadata": "{}",
         "name": "trip_distance",
         "type": "\"long\""
        },
        {
         "metadata": "{}",
         "name": "RatecodeID",
         "type": "\"long\""
        },
        {
         "metadata": "{}",
         "name": "store_and_fwd_flag",
         "type": "\"long\""
        },
        {
         "metadata": "{}",
         "name": "PULocationID",
         "type": "\"long\""
        },
        {
         "metadata": "{}",
         "name": "DOLocationID",
         "type": "\"long\""
        },
        {
         "metadata": "{}",
         "name": "payment_type",
         "type": "\"long\""
        },
        {
         "metadata": "{}",
         "name": "fare_amount",
         "type": "\"long\""
        },
        {
         "metadata": "{}",
         "name": "extra",
         "type": "\"long\""
        },
        {
         "metadata": "{}",
         "name": "mta_tax",
         "type": "\"long\""
        },
        {
         "metadata": "{}",
         "name": "tip_amount",
         "type": "\"long\""
        },
        {
         "metadata": "{}",
         "name": "tolls_amount",
         "type": "\"long\""
        },
        {
         "metadata": "{}",
         "name": "improvement_surcharge",
         "type": "\"long\""
        },
        {
         "metadata": "{}",
         "name": "total_amount",
         "type": "\"long\""
        },
        {
         "metadata": "{}",
         "name": "congestion_surcharge",
         "type": "\"long\""
        },
        {
         "metadata": "{}",
         "name": "Airport_fee",
         "type": "\"long\""
        }
       ],
       "type": "table"
      }
     },
     "output_type": "display_data"
    },
    {
     "name": "stdout",
     "output_type": "stream",
     "text": [
      "Rows after trip_distance filter: 2904194\n",
      "Rows after fare/total amount filter: 2870052\n",
      "Rows after datetime filter: 2869923\n",
      "Rows after location ID filter: 2841701\n",
      "Rows after passenger_count filter: 2697620\n",
      "Rows with payment_type 'Unknown': 0\n"
     ]
    }
   ],
   "source": [
    "%python\n",
    "from pyspark.sql.functions import col, when, count, isnan, to_timestamp\n",
    "\n",
    "# Cast columns to appropriate data types\n",
    "df_casted = df.withColumn(\"tpep_pickup_datetime\", to_timestamp(col(\"tpep_pickup_datetime\"))) \\\n",
    "    .withColumn(\"tpep_dropoff_datetime\", to_timestamp(col(\"tpep_dropoff_datetime\"))) \\\n",
    "    .withColumn(\"passenger_count\", col(\"passenger_count\").cast(\"integer\")) \\\n",
    "    .withColumn(\"trip_distance\", col(\"trip_distance\").cast(\"double\")) \\\n",
    "    .withColumn(\"fare_amount\", col(\"fare_amount\").cast(\"double\")) \\\n",
    "    .withColumn(\"total_amount\", col(\"total_amount\").cast(\"double\")) \\\n",
    "    .withColumn(\"PULocationID\", col(\"PULocationID\").cast(\"integer\")) \\\n",
    "    .withColumn(\"DOLocationID\", col(\"DOLocationID\").cast(\"integer\")) \\\n",
    "    .withColumn(\"payment_type\", col(\"payment_type\").cast(\"string\"))\n",
    "\n",
    "# Check nulls after casting\n",
    "numeric_columns = [\"trip_distance\", \"fare_amount\", \"total_amount\"]\n",
    "non_numeric_columns = [c for c in df_casted.columns if c not in numeric_columns]\n",
    "\n",
    "display(df_casted.select(\n",
    "    [count(when(col(c).isNull() | (isnan(c) if c in numeric_columns else col(c).isNull()), c)).alias(c) for c in df_casted.columns]\n",
    "))\n",
    "\n",
    "# Step 1: Filter trip_distance\n",
    "df_cleaned = df_casted.filter((col(\"trip_distance\") > 0) & (col(\"trip_distance\") < 100))\n",
    "#display(df_cleaned.filter((col(\"trip_distance\") <= 0) | (col(\"trip_distance\") >= 100)))\n",
    "print(f\"Rows after trip_distance filter: {df_cleaned.count()}\")\n",
    "\n",
    "# Step 2: Filter fare_amount and total_amount\n",
    "df_cleaned = df_cleaned.filter((col(\"fare_amount\") >= 0) & (col(\"total_amount\") >= 0))\n",
    "#display(df_cleaned.filter((col(\"fare_amount\") < 0) | (col(\"total_amount\") < 0)))\n",
    "print(f\"Rows after fare/total amount filter: {df_cleaned.count()}\")\n",
    "\n",
    "# Step 3: Filter datetime logic\n",
    "df_cleaned = df_cleaned.filter(\n",
    "    (col(\"tpep_pickup_datetime\") < col(\"tpep_dropoff_datetime\")) &\n",
    "    (col(\"tpep_pickup_datetime\") >= \"2024-01-01\") &\n",
    "    (col(\"tpep_pickup_datetime\") < \"2024-02-01\")\n",
    ")\n",
    "#display(df_cleaned.filter(\n",
    "#    (col(\"tpep_pickup_datetime\") >= col(\"tpep_dropoff_datetime\")) |\n",
    "#    (col(\"tpep_pickup_datetime\") < \"2024-01-01\") |\n",
    "#    (col(\"tpep_pickup_datetime\") >= \"2024-02-01\")\n",
    "#))\n",
    "print(f\"Rows after datetime filter: {df_cleaned.count()}\")\n",
    "\n",
    "# Step 4: Filter location IDs\n",
    "df_cleaned = df_cleaned.filter(\n",
    "    (col(\"PULocationID\").between(1, 263)) &\n",
    "    (col(\"DOLocationID\").between(1, 263))\n",
    ")\n",
    "#display(df_cleaned.filter(\n",
    "#    (~col(\"PULocationID\").between(1, 263)) |\n",
    "#    (~col(\"DOLocationID\").between(1, 263))\n",
    "#))\n",
    "print(f\"Rows after location ID filter: {df_cleaned.count()}\")\n",
    "\n",
    "# Step 5: Filter passenger_count\n",
    "df_cleaned = df_cleaned.filter((col(\"passenger_count\") > 0) & (col(\"passenger_count\") <= 8))\n",
    "#display(df_cleaned.filter((col(\"passenger_count\") <= 0) | (col(\"passenger_count\") > 8)))\n",
    "print(f\"Rows after passenger_count filter: {df_cleaned.count()}\")\n",
    "\n",
    "# Step 6: Impute missing payment_type\n",
    "df_cleaned = df_cleaned.withColumn(\n",
    "    \"payment_type\",\n",
    "    when(col(\"payment_type\").isNull(), \"Unknown\").otherwise(col(\"payment_type\"))\n",
    ")\n",
    "#display(df_cleaned.filter(col(\"payment_type\") == \"Unknown\"))\n",
    "print(f\"Rows with payment_type 'Unknown': {df_cleaned.filter(col('payment_type') == 'Unknown').count()}\")\n",
    "\n",
    "# Final null check\n",
    "# display(df_cleaned.select(\n",
    "#     [count(when(col(c).isNull() | (isnan(c) if c in numeric_columns else col(c).isNull()), c)).# alias(c) for c in df_cleaned.columns]\n",
    "# ))"
   ]
  },
  {
   "cell_type": "markdown",
   "metadata": {
    "application/vnd.databricks.v1+cell": {
     "cellMetadata": {},
     "inputWidgets": {},
     "nuid": "841ad2d2-5872-44e8-b9df-74ca8d3631ba",
     "showTitle": false,
     "tableResultSettingsMap": {},
     "title": ""
    }
   },
   "source": [
    "Action 2.3: Derive New Features (Feature Engineering)"
   ]
  },
  {
   "cell_type": "markdown",
   "metadata": {
    "application/vnd.databricks.v1+cell": {
     "cellMetadata": {},
     "inputWidgets": {},
     "nuid": "1abbda2d-eee6-49cf-81d8-b9272da3d838",
     "showTitle": false,
     "tableResultSettingsMap": {},
     "title": ""
    }
   },
   "source": [
    "1. **trip_duration_min**: Calculates the trip duration in minutes. Useful for analyzing trip lengths and identifying outliers.\n",
    "2. **avg_speed_mph**: Computes the average speed in miles per hour. Helps in understanding traffic patterns and driver behavior.\n",
    "3. **pickup_day_of_week**: Extracts the day of the week from the pickup datetime. Valuable for identifying trends based on days.\n",
    "4. **pickup_hour**: Extracts the hour from the pickup datetime. Useful for time-based analysis and peak hour identification.\n",
    "5. **time_of_day_slot**: Categorizes the pickup time into Morning, Afternoon, Evening, and Night. Helps in segmenting data based on time slots."
   ]
  },
  {
   "cell_type": "code",
   "execution_count": 0,
   "metadata": {
    "application/vnd.databricks.v1+cell": {
     "cellMetadata": {
      "byteLimit": 2048000,
      "implicitDf": true,
      "rowLimit": 10000
     },
     "inputWidgets": {},
     "nuid": "d1b8b438-a490-45ec-b330-d3bdfcacb07a",
     "showTitle": false,
     "tableResultSettingsMap": {},
     "title": ""
    }
   },
   "outputs": [
    {
     "data": {
      "text/html": [
       "<style scoped>\n",
       "  .table-result-container {\n",
       "    max-height: 300px;\n",
       "    overflow: auto;\n",
       "  }\n",
       "  table, th, td {\n",
       "    border: 1px solid black;\n",
       "    border-collapse: collapse;\n",
       "  }\n",
       "  th, td {\n",
       "    padding: 5px;\n",
       "  }\n",
       "  th {\n",
       "    text-align: left;\n",
       "  }\n",
       "</style><div class='table-result-container'><table class='table-result'><thead style='background-color: white'><tr><th>VendorID</th><th>tpep_pickup_datetime</th><th>tpep_dropoff_datetime</th><th>passenger_count</th><th>trip_distance</th><th>RatecodeID</th><th>store_and_fwd_flag</th><th>PULocationID</th><th>DOLocationID</th><th>payment_type</th><th>fare_amount</th><th>extra</th><th>mta_tax</th><th>tip_amount</th><th>tolls_amount</th><th>improvement_surcharge</th><th>total_amount</th><th>congestion_surcharge</th><th>Airport_fee</th><th>trip_duration_min</th><th>avg_speed_mph</th><th>pickup_day_of_week</th><th>pickup_hour</th><th>time_of_day_slot</th></tr></thead><tbody><tr><td>2</td><td>2024-01-01T00:57:55Z</td><td>2024-01-01T01:17:43Z</td><td>1</td><td>1.72</td><td>1</td><td>N</td><td>186</td><td>79</td><td>2</td><td>17.7</td><td>1.0</td><td>0.5</td><td>0.0</td><td>0.0</td><td>1.0</td><td>22.7</td><td>2.5</td><td>0.0</td><td>19.800000</td><td>5.212121212121212</td><td>2</td><td>0</td><td>Night</td></tr><tr><td>1</td><td>2024-01-01T00:03:00Z</td><td>2024-01-01T00:09:36Z</td><td>1</td><td>1.8</td><td>1</td><td>N</td><td>140</td><td>236</td><td>1</td><td>10.0</td><td>3.5</td><td>0.5</td><td>3.75</td><td>0.0</td><td>1.0</td><td>18.75</td><td>2.5</td><td>0.0</td><td>6.600000</td><td>16.363636363636363</td><td>2</td><td>0</td><td>Night</td></tr><tr><td>1</td><td>2024-01-01T00:17:06Z</td><td>2024-01-01T00:35:01Z</td><td>1</td><td>4.7</td><td>1</td><td>N</td><td>236</td><td>79</td><td>1</td><td>23.3</td><td>3.5</td><td>0.5</td><td>3.0</td><td>0.0</td><td>1.0</td><td>31.3</td><td>2.5</td><td>0.0</td><td>17.916667</td><td>15.73954074029423</td><td>2</td><td>0</td><td>Night</td></tr></tbody></table></div>"
      ]
     },
     "metadata": {
      "application/vnd.databricks.v1+output": {
       "addedWidgets": {},
       "aggData": [],
       "aggError": "",
       "aggOverflow": false,
       "aggSchema": [],
       "aggSeriesLimitReached": false,
       "aggType": "",
       "arguments": {},
       "columnCustomDisplayInfos": {},
       "data": [
        [
         2,
         "2024-01-01T00:57:55Z",
         "2024-01-01T01:17:43Z",
         1,
         1.72,
         1,
         "N",
         186,
         79,
         "2",
         17.7,
         1,
         0.5,
         0,
         0,
         1,
         22.7,
         2.5,
         0,
         "19.800000",
         5.212121212121212,
         2,
         0,
         "Night"
        ],
        [
         1,
         "2024-01-01T00:03:00Z",
         "2024-01-01T00:09:36Z",
         1,
         1.8,
         1,
         "N",
         140,
         236,
         "1",
         10,
         3.5,
         0.5,
         3.75,
         0,
         1,
         18.75,
         2.5,
         0,
         "6.600000",
         16.363636363636363,
         2,
         0,
         "Night"
        ],
        [
         1,
         "2024-01-01T00:17:06Z",
         "2024-01-01T00:35:01Z",
         1,
         4.7,
         1,
         "N",
         236,
         79,
         "1",
         23.3,
         3.5,
         0.5,
         3,
         0,
         1,
         31.3,
         2.5,
         0,
         "17.916667",
         15.73954074029423,
         2,
         0,
         "Night"
        ]
       ],
       "datasetInfos": [],
       "dbfsResultPath": null,
       "isJsonSchema": true,
       "metadata": {},
       "overflow": false,
       "plotOptions": {
        "customPlotOptions": {},
        "displayType": "table",
        "pivotAggregation": null,
        "pivotColumns": null,
        "xColumns": null,
        "yColumns": null
       },
       "removedWidgets": [],
       "schema": [
        {
         "metadata": "{}",
         "name": "VendorID",
         "type": "\"integer\""
        },
        {
         "metadata": "{}",
         "name": "tpep_pickup_datetime",
         "type": "\"timestamp\""
        },
        {
         "metadata": "{}",
         "name": "tpep_dropoff_datetime",
         "type": "\"timestamp\""
        },
        {
         "metadata": "{}",
         "name": "passenger_count",
         "type": "\"integer\""
        },
        {
         "metadata": "{}",
         "name": "trip_distance",
         "type": "\"double\""
        },
        {
         "metadata": "{}",
         "name": "RatecodeID",
         "type": "\"long\""
        },
        {
         "metadata": "{}",
         "name": "store_and_fwd_flag",
         "type": "\"string\""
        },
        {
         "metadata": "{}",
         "name": "PULocationID",
         "type": "\"integer\""
        },
        {
         "metadata": "{}",
         "name": "DOLocationID",
         "type": "\"integer\""
        },
        {
         "metadata": "{}",
         "name": "payment_type",
         "type": "\"string\""
        },
        {
         "metadata": "{}",
         "name": "fare_amount",
         "type": "\"double\""
        },
        {
         "metadata": "{}",
         "name": "extra",
         "type": "\"double\""
        },
        {
         "metadata": "{}",
         "name": "mta_tax",
         "type": "\"double\""
        },
        {
         "metadata": "{}",
         "name": "tip_amount",
         "type": "\"double\""
        },
        {
         "metadata": "{}",
         "name": "tolls_amount",
         "type": "\"double\""
        },
        {
         "metadata": "{}",
         "name": "improvement_surcharge",
         "type": "\"double\""
        },
        {
         "metadata": "{}",
         "name": "total_amount",
         "type": "\"double\""
        },
        {
         "metadata": "{}",
         "name": "congestion_surcharge",
         "type": "\"double\""
        },
        {
         "metadata": "{}",
         "name": "Airport_fee",
         "type": "\"double\""
        },
        {
         "metadata": "{}",
         "name": "trip_duration_min",
         "type": "\"decimal(27,6)\""
        },
        {
         "metadata": "{}",
         "name": "avg_speed_mph",
         "type": "\"double\""
        },
        {
         "metadata": "{}",
         "name": "pickup_day_of_week",
         "type": "\"integer\""
        },
        {
         "metadata": "{}",
         "name": "pickup_hour",
         "type": "\"integer\""
        },
        {
         "metadata": "{}",
         "name": "time_of_day_slot",
         "type": "\"string\""
        }
       ],
       "type": "table"
      }
     },
     "output_type": "display_data"
    }
   ],
   "source": [
    "%python\n",
    "# Register the DataFrame as a temporary view\n",
    "df_cleaned.createOrReplaceTempView(\"df_cleaned\")\n",
    "\n",
    "# Now you can run your SQL query\n",
    "query = \"\"\"\n",
    "SELECT\n",
    "  *,\n",
    "  -- Trip Duration in minutes\n",
    "  (unix_timestamp(tpep_dropoff_datetime) - unix_timestamp(tpep_pickup_datetime)) / 60.0 AS trip_duration_min,\n",
    "  -- Filter out zero or negative durations for speed calculation\n",
    "  CASE \n",
    "    WHEN (unix_timestamp(tpep_dropoff_datetime) - unix_timestamp(tpep_pickup_datetime)) > 0\n",
    "    THEN trip_distance / ((unix_timestamp(tpep_dropoff_datetime) - unix_timestamp(tpep_pickup_datetime)) / 3600.0)\n",
    "    ELSE NULL\n",
    "  END AS avg_speed_mph,\n",
    "  -- Day of Week (0=Sunday, 6=Saturday)\n",
    "  dayofweek(tpep_pickup_datetime) AS pickup_day_of_week,\n",
    "  -- Hour of Day\n",
    "  hour(tpep_pickup_datetime) AS pickup_hour,\n",
    "  -- Time of Day Slot\n",
    "  CASE\n",
    "    WHEN hour(tpep_pickup_datetime) BETWEEN 5 AND 11 THEN 'Morning'\n",
    "    WHEN hour(tpep_pickup_datetime) BETWEEN 12 AND 16 THEN 'Afternoon'\n",
    "    WHEN hour(tpep_pickup_datetime) BETWEEN 17 AND 20 THEN 'Evening'\n",
    "    ELSE 'Night'\n",
    "  END AS time_of_day_slot\n",
    "FROM\n",
    "  df_cleaned\n",
    "WHERE\n",
    "  unix_timestamp(tpep_dropoff_datetime) > unix_timestamp(tpep_pickup_datetime)\n",
    "\"\"\"\n",
    "\n",
    "# Execute the query\n",
    "result_df = spark.sql(query)\n",
    "display(result_df.limit(3))"
   ]
  },
  {
   "cell_type": "markdown",
   "metadata": {
    "application/vnd.databricks.v1+cell": {
     "cellMetadata": {},
     "inputWidgets": {},
     "nuid": "6f037d17-c89c-4161-a8b1-3ce5108e9e2b",
     "showTitle": false,
     "tableResultSettingsMap": {},
     "title": ""
    }
   },
   "source": [
    "Action 2.4: Data Validation Post-Transformation"
   ]
  },
  {
   "cell_type": "code",
   "execution_count": 0,
   "metadata": {
    "application/vnd.databricks.v1+cell": {
     "cellMetadata": {
      "byteLimit": 2048000,
      "rowLimit": 10000
     },
     "inputWidgets": {},
     "nuid": "ebd6251c-d67a-44eb-aa45-49675c3371da",
     "showTitle": false,
     "tableResultSettingsMap": {},
     "title": ""
    }
   },
   "outputs": [
    {
     "name": "stdout",
     "output_type": "stream",
     "text": [
      "root\n",
      " |-- VendorID: integer (nullable = true)\n",
      " |-- tpep_pickup_datetime: timestamp (nullable = true)\n",
      " |-- tpep_dropoff_datetime: timestamp (nullable = true)\n",
      " |-- passenger_count: integer (nullable = true)\n",
      " |-- trip_distance: double (nullable = true)\n",
      " |-- RatecodeID: long (nullable = true)\n",
      " |-- store_and_fwd_flag: string (nullable = true)\n",
      " |-- PULocationID: integer (nullable = true)\n",
      " |-- DOLocationID: integer (nullable = true)\n",
      " |-- payment_type: string (nullable = true)\n",
      " |-- fare_amount: double (nullable = true)\n",
      " |-- extra: double (nullable = true)\n",
      " |-- mta_tax: double (nullable = true)\n",
      " |-- tip_amount: double (nullable = true)\n",
      " |-- tolls_amount: double (nullable = true)\n",
      " |-- improvement_surcharge: double (nullable = true)\n",
      " |-- total_amount: double (nullable = true)\n",
      " |-- congestion_surcharge: double (nullable = true)\n",
      " |-- Airport_fee: double (nullable = true)\n",
      " |-- trip_duration_min: decimal(27,6) (nullable = true)\n",
      " |-- avg_speed_mph: double (nullable = true)\n",
      " |-- pickup_day_of_week: integer (nullable = true)\n",
      " |-- pickup_hour: integer (nullable = true)\n",
      " |-- time_of_day_slot: string (nullable = false)\n",
      "\n"
     ]
    },
    {
     "data": {
      "text/html": [
       "<style scoped>\n",
       "  .table-result-container {\n",
       "    max-height: 300px;\n",
       "    overflow: auto;\n",
       "  }\n",
       "  table, th, td {\n",
       "    border: 1px solid black;\n",
       "    border-collapse: collapse;\n",
       "  }\n",
       "  th, td {\n",
       "    padding: 5px;\n",
       "  }\n",
       "  th {\n",
       "    text-align: left;\n",
       "  }\n",
       "</style><div class='table-result-container'><table class='table-result'><thead style='background-color: white'><tr><th>summary</th><th>VendorID</th><th>passenger_count</th><th>trip_distance</th><th>RatecodeID</th><th>store_and_fwd_flag</th><th>PULocationID</th><th>DOLocationID</th><th>payment_type</th><th>fare_amount</th><th>extra</th><th>mta_tax</th><th>tip_amount</th><th>tolls_amount</th><th>improvement_surcharge</th><th>total_amount</th><th>congestion_surcharge</th><th>Airport_fee</th><th>trip_duration_min</th><th>avg_speed_mph</th><th>pickup_day_of_week</th><th>pickup_hour</th><th>time_of_day_slot</th></tr></thead><tbody><tr><td>count</td><td>2697620</td><td>2697620</td><td>2697620</td><td>2697620</td><td>2697620</td><td>2697620</td><td>2697620</td><td>2697620</td><td>2697620</td><td>2697620</td><td>2697620</td><td>2697620</td><td>2697620</td><td>2697620</td><td>2697620</td><td>2697620</td><td>2697620</td><td>2697620</td><td>2697620</td><td>2697620</td><td>2697620</td><td>2697620</td></tr><tr><td>mean</td><td>1.767625907281233</td><td>1.3538081716476005</td><td>3.2295928040267117</td><td>2.032152045136083</td><td>null</td><td>166.13226733194446</td><td>164.73021923028446</td><td>1.1850764748185438</td><td>18.11029795152948</td><td>1.5309953180952114</td><td>0.4974484916333657</td><td>3.4395620917712835</td><td>0.5256130848650278</td><td>0.9998639912218905</td><td>27.030179717658143</td><td>2.332507729035224</td><td>0.14292339173048835</td><td>15.6766981387</td><td>11.873919001604998</td><td>4.081087032272892</td><td>14.267973991889146</td><td>null</td></tr><tr><td>stddev</td><td>0.42234635061230436</td><td>0.843769864150112</td><td>4.23663351794273</td><td>9.764326127981025</td><td>null</td><td>63.018144448620454</td><td>68.83811659140156</td><td>0.4559298809349903</td><td>16.015901901398284</td><td>1.7924573439326805</td><td>0.03584429862943475</td><td>3.7171982725091155</td><td>2.019571711211677</td><td>0.010587326249154585</td><td>20.51892777885544</td><td>0.6250408381138748</td><td>0.47925872424989163</td><td>35.812409784988844</td><td>68.7322667121902</td><td>1.918411153736949</td><td>5.626889565623755</td><td>null</td></tr><tr><td>min</td><td>1</td><td>1</td><td>0.01</td><td>1</td><td>N</td><td>1</td><td>1</td><td>1</td><td>0.0</td><td>-2.5</td><td>0.0</td><td>0.0</td><td>0.0</td><td>0.0</td><td>0.0</td><td>0.0</td><td>0.0</td><td>0.016667</td><td>4.181281814589337E-4</td><td>1</td><td>0</td><td>Afternoon</td></tr><tr><td>max</td><td>2</td><td>8</td><td>80.0</td><td>99</td><td>Y</td><td>263</td><td>263</td><td>4</td><td>2221.3</td><td>14.25</td><td>4.0</td><td>422.7</td><td>95.46</td><td>1.0</td><td>2225.3</td><td>2.5</td><td>1.75</td><td>9455.400000</td><td>41726.61870503597</td><td>7</td><td>23</td><td>Night</td></tr></tbody></table></div>"
      ]
     },
     "metadata": {
      "application/vnd.databricks.v1+output": {
       "addedWidgets": {},
       "aggData": [],
       "aggError": "",
       "aggOverflow": false,
       "aggSchema": [],
       "aggSeriesLimitReached": false,
       "aggType": "",
       "arguments": {},
       "columnCustomDisplayInfos": {},
       "data": [
        [
         "count",
         "2697620",
         "2697620",
         "2697620",
         "2697620",
         "2697620",
         "2697620",
         "2697620",
         "2697620",
         "2697620",
         "2697620",
         "2697620",
         "2697620",
         "2697620",
         "2697620",
         "2697620",
         "2697620",
         "2697620",
         "2697620",
         "2697620",
         "2697620",
         "2697620",
         "2697620"
        ],
        [
         "mean",
         "1.767625907281233",
         "1.3538081716476005",
         "3.2295928040267117",
         "2.032152045136083",
         null,
         "166.13226733194446",
         "164.73021923028446",
         "1.1850764748185438",
         "18.11029795152948",
         "1.5309953180952114",
         "0.4974484916333657",
         "3.4395620917712835",
         "0.5256130848650278",
         "0.9998639912218905",
         "27.030179717658143",
         "2.332507729035224",
         "0.14292339173048835",
         "15.6766981387",
         "11.873919001604998",
         "4.081087032272892",
         "14.267973991889146",
         null
        ],
        [
         "stddev",
         "0.42234635061230436",
         "0.843769864150112",
         "4.23663351794273",
         "9.764326127981025",
         null,
         "63.018144448620454",
         "68.83811659140156",
         "0.4559298809349903",
         "16.015901901398284",
         "1.7924573439326805",
         "0.03584429862943475",
         "3.7171982725091155",
         "2.019571711211677",
         "0.010587326249154585",
         "20.51892777885544",
         "0.6250408381138748",
         "0.47925872424989163",
         "35.812409784988844",
         "68.7322667121902",
         "1.918411153736949",
         "5.626889565623755",
         null
        ],
        [
         "min",
         "1",
         "1",
         "0.01",
         "1",
         "N",
         "1",
         "1",
         "1",
         "0.0",
         "-2.5",
         "0.0",
         "0.0",
         "0.0",
         "0.0",
         "0.0",
         "0.0",
         "0.0",
         "0.016667",
         "4.181281814589337E-4",
         "1",
         "0",
         "Afternoon"
        ],
        [
         "max",
         "2",
         "8",
         "80.0",
         "99",
         "Y",
         "263",
         "263",
         "4",
         "2221.3",
         "14.25",
         "4.0",
         "422.7",
         "95.46",
         "1.0",
         "2225.3",
         "2.5",
         "1.75",
         "9455.400000",
         "41726.61870503597",
         "7",
         "23",
         "Night"
        ]
       ],
       "datasetInfos": [],
       "dbfsResultPath": null,
       "isJsonSchema": true,
       "metadata": {},
       "overflow": false,
       "plotOptions": {
        "customPlotOptions": {},
        "displayType": "table",
        "pivotAggregation": null,
        "pivotColumns": null,
        "xColumns": null,
        "yColumns": null
       },
       "removedWidgets": [],
       "schema": [
        {
         "metadata": "{}",
         "name": "summary",
         "type": "\"string\""
        },
        {
         "metadata": "{}",
         "name": "VendorID",
         "type": "\"string\""
        },
        {
         "metadata": "{}",
         "name": "passenger_count",
         "type": "\"string\""
        },
        {
         "metadata": "{}",
         "name": "trip_distance",
         "type": "\"string\""
        },
        {
         "metadata": "{}",
         "name": "RatecodeID",
         "type": "\"string\""
        },
        {
         "metadata": "{}",
         "name": "store_and_fwd_flag",
         "type": "\"string\""
        },
        {
         "metadata": "{}",
         "name": "PULocationID",
         "type": "\"string\""
        },
        {
         "metadata": "{}",
         "name": "DOLocationID",
         "type": "\"string\""
        },
        {
         "metadata": "{}",
         "name": "payment_type",
         "type": "\"string\""
        },
        {
         "metadata": "{}",
         "name": "fare_amount",
         "type": "\"string\""
        },
        {
         "metadata": "{}",
         "name": "extra",
         "type": "\"string\""
        },
        {
         "metadata": "{}",
         "name": "mta_tax",
         "type": "\"string\""
        },
        {
         "metadata": "{}",
         "name": "tip_amount",
         "type": "\"string\""
        },
        {
         "metadata": "{}",
         "name": "tolls_amount",
         "type": "\"string\""
        },
        {
         "metadata": "{}",
         "name": "improvement_surcharge",
         "type": "\"string\""
        },
        {
         "metadata": "{}",
         "name": "total_amount",
         "type": "\"string\""
        },
        {
         "metadata": "{}",
         "name": "congestion_surcharge",
         "type": "\"string\""
        },
        {
         "metadata": "{}",
         "name": "Airport_fee",
         "type": "\"string\""
        },
        {
         "metadata": "{}",
         "name": "trip_duration_min",
         "type": "\"string\""
        },
        {
         "metadata": "{}",
         "name": "avg_speed_mph",
         "type": "\"string\""
        },
        {
         "metadata": "{}",
         "name": "pickup_day_of_week",
         "type": "\"string\""
        },
        {
         "metadata": "{}",
         "name": "pickup_hour",
         "type": "\"string\""
        },
        {
         "metadata": "{}",
         "name": "time_of_day_slot",
         "type": "\"string\""
        }
       ],
       "type": "table"
      }
     },
     "output_type": "display_data"
    },
    {
     "data": {
      "text/html": [
       "<style scoped>\n",
       "  .table-result-container {\n",
       "    max-height: 300px;\n",
       "    overflow: auto;\n",
       "  }\n",
       "  table, th, td {\n",
       "    border: 1px solid black;\n",
       "    border-collapse: collapse;\n",
       "  }\n",
       "  th, td {\n",
       "    padding: 5px;\n",
       "  }\n",
       "  th {\n",
       "    text-align: left;\n",
       "  }\n",
       "</style><div class='table-result-container'><table class='table-result'><thead style='background-color: white'><tr><th>VendorID</th><th>tpep_pickup_datetime</th><th>tpep_dropoff_datetime</th><th>passenger_count</th><th>trip_distance</th><th>RatecodeID</th><th>store_and_fwd_flag</th><th>PULocationID</th><th>DOLocationID</th><th>payment_type</th><th>fare_amount</th><th>extra</th><th>mta_tax</th><th>tip_amount</th><th>tolls_amount</th><th>improvement_surcharge</th><th>total_amount</th><th>congestion_surcharge</th><th>Airport_fee</th><th>trip_duration_min</th><th>avg_speed_mph</th><th>pickup_day_of_week</th><th>pickup_hour</th><th>time_of_day_slot</th></tr></thead><tbody><tr><td>0</td><td>0</td><td>0</td><td>0</td><td>0</td><td>0</td><td>0</td><td>0</td><td>0</td><td>0</td><td>0</td><td>0</td><td>0</td><td>0</td><td>0</td><td>0</td><td>0</td><td>0</td><td>0</td><td>0</td><td>0</td><td>0</td><td>0</td><td>0</td></tr></tbody></table></div>"
      ]
     },
     "metadata": {
      "application/vnd.databricks.v1+output": {
       "addedWidgets": {},
       "aggData": [],
       "aggError": "",
       "aggOverflow": false,
       "aggSchema": [],
       "aggSeriesLimitReached": false,
       "aggType": "",
       "arguments": {},
       "columnCustomDisplayInfos": {},
       "data": [
        [
         0,
         0,
         0,
         0,
         0,
         0,
         0,
         0,
         0,
         0,
         0,
         0,
         0,
         0,
         0,
         0,
         0,
         0,
         0,
         0,
         0,
         0,
         0,
         0
        ]
       ],
       "datasetInfos": [],
       "dbfsResultPath": null,
       "isJsonSchema": true,
       "metadata": {},
       "overflow": false,
       "plotOptions": {
        "customPlotOptions": {},
        "displayType": "table",
        "pivotAggregation": null,
        "pivotColumns": null,
        "xColumns": null,
        "yColumns": null
       },
       "removedWidgets": [],
       "schema": [
        {
         "metadata": "{}",
         "name": "VendorID",
         "type": "\"long\""
        },
        {
         "metadata": "{}",
         "name": "tpep_pickup_datetime",
         "type": "\"long\""
        },
        {
         "metadata": "{}",
         "name": "tpep_dropoff_datetime",
         "type": "\"long\""
        },
        {
         "metadata": "{}",
         "name": "passenger_count",
         "type": "\"long\""
        },
        {
         "metadata": "{}",
         "name": "trip_distance",
         "type": "\"long\""
        },
        {
         "metadata": "{}",
         "name": "RatecodeID",
         "type": "\"long\""
        },
        {
         "metadata": "{}",
         "name": "store_and_fwd_flag",
         "type": "\"long\""
        },
        {
         "metadata": "{}",
         "name": "PULocationID",
         "type": "\"long\""
        },
        {
         "metadata": "{}",
         "name": "DOLocationID",
         "type": "\"long\""
        },
        {
         "metadata": "{}",
         "name": "payment_type",
         "type": "\"long\""
        },
        {
         "metadata": "{}",
         "name": "fare_amount",
         "type": "\"long\""
        },
        {
         "metadata": "{}",
         "name": "extra",
         "type": "\"long\""
        },
        {
         "metadata": "{}",
         "name": "mta_tax",
         "type": "\"long\""
        },
        {
         "metadata": "{}",
         "name": "tip_amount",
         "type": "\"long\""
        },
        {
         "metadata": "{}",
         "name": "tolls_amount",
         "type": "\"long\""
        },
        {
         "metadata": "{}",
         "name": "improvement_surcharge",
         "type": "\"long\""
        },
        {
         "metadata": "{}",
         "name": "total_amount",
         "type": "\"long\""
        },
        {
         "metadata": "{}",
         "name": "congestion_surcharge",
         "type": "\"long\""
        },
        {
         "metadata": "{}",
         "name": "Airport_fee",
         "type": "\"long\""
        },
        {
         "metadata": "{}",
         "name": "trip_duration_min",
         "type": "\"long\""
        },
        {
         "metadata": "{}",
         "name": "avg_speed_mph",
         "type": "\"long\""
        },
        {
         "metadata": "{}",
         "name": "pickup_day_of_week",
         "type": "\"long\""
        },
        {
         "metadata": "{}",
         "name": "pickup_hour",
         "type": "\"long\""
        },
        {
         "metadata": "{}",
         "name": "time_of_day_slot",
         "type": "\"long\""
        }
       ],
       "type": "table"
      }
     },
     "output_type": "display_data"
    }
   ],
   "source": [
    "# After all cleaning and transformations, let's perform a final validation:\n",
    "\n",
    "# Display the schema of the final transformed DataFrame\n",
    "result_df.printSchema()\n",
    "\n",
    "# Recalculate summary statistics and null counts\n",
    "display(result_df.describe())\n",
    "display(result_df.select(\n",
    "    [count(when(col(c).isNull() | (isnan(c) if c in numeric_columns else col(c).isNull()), c)).alias(c) for c in result_df.columns]\n",
    "))\n",
    "\n",
    "# Explicitly check if your cleaning rules were effective\n",
    "assert result_df.filter(col(\"trip_distance\") <= 0).count() == 0, \"There are rows with non-positive trip_distance\"\n",
    "assert result_df.filter(col(\"fare_amount\") < 0).count() == 0, \"There are rows with negative fare_amount\"\n",
    "assert result_df.filter(col(\"total_amount\") < 0).count() == 0, \"There are rows with negative total_amount\"\n",
    "assert result_df.filter(col(\"tpep_pickup_datetime\") >= col(\"tpep_dropoff_datetime\")).count() == 0, \"There are rows with pickup datetime >= dropoff datetime\"\n",
    "assert result_df.filter(~col(\"PULocationID\").between(1, 263)).count() == 0, \"There are rows with invalid PULocationID\"\n",
    "assert result_df.filter(~col(\"DOLocationID\").between(1, 263)).count() == 0, \"There are rows with invalid DOLocationID\"\n",
    "assert result_df.filter((col(\"passenger_count\") <= 0) | (col(\"passenger_count\") > 8)).count() == 0, \"There are rows with invalid passenger_count\""
   ]
  },
  {
   "cell_type": "markdown",
   "metadata": {
    "application/vnd.databricks.v1+cell": {
     "cellMetadata": {},
     "inputWidgets": {},
     "nuid": "5000a652-1941-4bcf-9e97-0c37c2a278f2",
     "showTitle": false,
     "tableResultSettingsMap": {},
     "title": ""
    }
   },
   "source": [
    "Task 3: Advanced Transformations and Business Logic (Est. 8 - 12 hours)\n",
    "Objective: Apply more complex transformations, potentially including window functions or UDFs for sophisticated business logic, to further refine the dataset for specific analytical scenarios."
   ]
  },
  {
   "cell_type": "markdown",
   "metadata": {
    "application/vnd.databricks.v1+cell": {
     "cellMetadata": {},
     "inputWidgets": {},
     "nuid": "42f0da42-4dcf-48b7-93e8-aa7d795b8f0f",
     "showTitle": false,
     "tableResultSettingsMap": {},
     "title": ""
    }
   },
   "source": [
    "Action 3.1: Define a Scenario for Advanced Transformation\n"
   ]
  },
  {
   "cell_type": "markdown",
   "metadata": {
    "application/vnd.databricks.v1+cell": {
     "cellMetadata": {},
     "inputWidgets": {},
     "nuid": "1effd205-70a5-416b-abea-090a0a353abb",
     "showTitle": false,
     "tableResultSettingsMap": {},
     "title": ""
    }
   },
   "source": [
    "\n",
    "- I want to calculate the average tip percentage for trips that start at airport locations versus those that don't. To do this, I'll first identify which PULocationIDs correspond to airports (I'll need to look these up or make some reasonable assumptions). Then, I'll filter the trips accordingly and use window functions to get the average tip percentage for both groups.\n",
    "\n",
    "- I'm interested in finding trips that are much longer or shorter than the average for a given route (from PULocationID to DOLocationID) and time of day. My plan is to use window functions to calculate the average trip duration for each route and time window, then flag trips that are significant outliers.\n",
    "\n",
    "- I want to see which payment types are most popular within each rate code. I'll use window functions to partition the data by rate code and rank the payment types by how often they're used.\n",
    "\n",
    "- I plan to detect unusual fare amounts for specific vendor and rate code combinations. I'll calculate the mean and standard deviation of fares within each group using window functions, then identify trips where the fare is an outlier.\n",
    "\n",
    "- I'm curious about how weather events, like heavy rain, affect trip duration and fare in different boroughs. I'll join weather data with the trip data, then use window functions to compare trip durations and fares during bad weather versus normal conditions.\n",
    "\n",
    "- Finally, I want to segment customers based on how often they ride and how much they spend on average, so I can identify high-value customer profiles. I'll use window functions to calculate these metrics for each customer and then group them accordingly."
   ]
  },
  {
   "cell_type": "markdown",
   "metadata": {
    "application/vnd.databricks.v1+cell": {
     "cellMetadata": {},
     "inputWidgets": {},
     "nuid": "1c88c128-6108-4f51-ae1a-003a989518da",
     "showTitle": false,
     "tableResultSettingsMap": {},
     "title": ""
    }
   },
   "source": [
    "Action 3.2: Implement Advanced Transformations (Window Functions / UDFs)"
   ]
  },
  {
   "cell_type": "code",
   "execution_count": 0,
   "metadata": {
    "application/vnd.databricks.v1+cell": {
     "cellMetadata": {
      "byteLimit": 2048000,
      "rowLimit": 10000
     },
     "inputWidgets": {},
     "nuid": "1ea85a46-0836-462e-8e88-5b19a4631ffb",
     "showTitle": false,
     "tableResultSettingsMap": {},
     "title": ""
    }
   },
   "outputs": [
    {
     "data": {
      "text/html": [
       "<style scoped>\n",
       "  .table-result-container {\n",
       "    max-height: 300px;\n",
       "    overflow: auto;\n",
       "  }\n",
       "  table, th, td {\n",
       "    border: 1px solid black;\n",
       "    border-collapse: collapse;\n",
       "  }\n",
       "  th, td {\n",
       "    padding: 5px;\n",
       "  }\n",
       "  th {\n",
       "    text-align: left;\n",
       "  }\n",
       "</style><div class='table-result-container'><table class='table-result'><thead style='background-color: white'><tr><th>is_airport_pickup</th><th>avg_tip_percentage</th></tr></thead><tbody><tr><td>Airport</td><td>11.25589703287847</td></tr><tr><td>Non-Airport</td><td>12.463699630120871</td></tr></tbody></table></div>"
      ]
     },
     "metadata": {
      "application/vnd.databricks.v1+output": {
       "addedWidgets": {},
       "aggData": [],
       "aggError": "",
       "aggOverflow": false,
       "aggSchema": [],
       "aggSeriesLimitReached": false,
       "aggType": "",
       "arguments": {},
       "columnCustomDisplayInfos": {},
       "data": [
        [
         "Airport",
         11.25589703287847
        ],
        [
         "Non-Airport",
         12.463699630120871
        ]
       ],
       "datasetInfos": [],
       "dbfsResultPath": null,
       "isJsonSchema": true,
       "metadata": {},
       "overflow": false,
       "plotOptions": {
        "customPlotOptions": {},
        "displayType": "table",
        "pivotAggregation": null,
        "pivotColumns": null,
        "xColumns": null,
        "yColumns": null
       },
       "removedWidgets": [],
       "schema": [
        {
         "metadata": "{}",
         "name": "is_airport_pickup",
         "type": "\"string\""
        },
        {
         "metadata": "{}",
         "name": "avg_tip_percentage",
         "type": "\"double\""
        }
       ],
       "type": "table"
      }
     },
     "output_type": "display_data"
    },
    {
     "data": {
      "text/html": [
       "<style scoped>\n",
       "  .table-result-container {\n",
       "    max-height: 300px;\n",
       "    overflow: auto;\n",
       "  }\n",
       "  table, th, td {\n",
       "    border: 1px solid black;\n",
       "    border-collapse: collapse;\n",
       "  }\n",
       "  th, td {\n",
       "    padding: 5px;\n",
       "  }\n",
       "  th {\n",
       "    text-align: left;\n",
       "  }\n",
       "</style><div class='table-result-container'><table class='table-result'><thead style='background-color: white'><tr><th>PULocationID</th><th>DOLocationID</th><th>time_of_day_slot</th><th>trip_duration_min</th><th>avg_duration</th><th>duration_zscore</th></tr></thead><tbody><tr><td>233</td><td>43</td><td>Night</td><td>23.916667</td><td>11.5180556667</td><td>2.8097546681729093</td></tr><tr><td>163</td><td>186</td><td>Night</td><td>37.300000</td><td>10.0351207652</td><td>6.6587307687170485</td></tr><tr><td>141</td><td>79</td><td>Night</td><td>21.650000</td><td>13.7109118161</td><td>2.090375707393651</td></tr><tr><td>141</td><td>79</td><td>Night</td><td>26.483333</td><td>13.7109118161</td><td>3.3630006808047463</td></tr></tbody></table></div>"
      ]
     },
     "metadata": {
      "application/vnd.databricks.v1+output": {
       "addedWidgets": {},
       "aggData": [],
       "aggError": "",
       "aggOverflow": false,
       "aggSchema": [],
       "aggSeriesLimitReached": false,
       "aggType": "",
       "arguments": {},
       "columnCustomDisplayInfos": {},
       "data": [
        [
         233,
         43,
         "Night",
         "23.916667",
         "11.5180556667",
         2.8097546681729093
        ],
        [
         163,
         186,
         "Night",
         "37.300000",
         "10.0351207652",
         6.6587307687170485
        ],
        [
         141,
         79,
         "Night",
         "21.650000",
         "13.7109118161",
         2.090375707393651
        ],
        [
         141,
         79,
         "Night",
         "26.483333",
         "13.7109118161",
         3.3630006808047463
        ]
       ],
       "datasetInfos": [],
       "dbfsResultPath": null,
       "isJsonSchema": true,
       "metadata": {},
       "overflow": false,
       "plotOptions": {
        "customPlotOptions": {},
        "displayType": "table",
        "pivotAggregation": null,
        "pivotColumns": null,
        "xColumns": null,
        "yColumns": null
       },
       "removedWidgets": [],
       "schema": [
        {
         "metadata": "{}",
         "name": "PULocationID",
         "type": "\"integer\""
        },
        {
         "metadata": "{}",
         "name": "DOLocationID",
         "type": "\"integer\""
        },
        {
         "metadata": "{}",
         "name": "time_of_day_slot",
         "type": "\"string\""
        },
        {
         "metadata": "{}",
         "name": "trip_duration_min",
         "type": "\"decimal(27,6)\""
        },
        {
         "metadata": "{}",
         "name": "avg_duration",
         "type": "\"decimal(31,10)\""
        },
        {
         "metadata": "{}",
         "name": "duration_zscore",
         "type": "\"double\""
        }
       ],
       "type": "table"
      }
     },
     "output_type": "display_data"
    },
    {
     "data": {
      "text/html": [
       "<style scoped>\n",
       "  .table-result-container {\n",
       "    max-height: 300px;\n",
       "    overflow: auto;\n",
       "  }\n",
       "  table, th, td {\n",
       "    border: 1px solid black;\n",
       "    border-collapse: collapse;\n",
       "  }\n",
       "  th, td {\n",
       "    padding: 5px;\n",
       "  }\n",
       "  th {\n",
       "    text-align: left;\n",
       "  }\n",
       "</style><div class='table-result-container'><table class='table-result'><thead style='background-color: white'><tr><th>RatecodeID</th><th>payment_type</th><th>trip_count</th><th>rank</th></tr></thead><tbody><tr><td>1</td><td>1</td><td>2137773</td><td>1</td></tr><tr><td>1</td><td>2</td><td>396164</td><td>2</td></tr><tr><td>1</td><td>4</td><td>21163</td><td>3</td></tr><tr><td>1</td><td>3</td><td>9118</td><td>4</td></tr></tbody></table></div>"
      ]
     },
     "metadata": {
      "application/vnd.databricks.v1+output": {
       "addedWidgets": {},
       "aggData": [],
       "aggError": "",
       "aggOverflow": false,
       "aggSchema": [],
       "aggSeriesLimitReached": false,
       "aggType": "",
       "arguments": {},
       "columnCustomDisplayInfos": {},
       "data": [
        [
         1,
         "1",
         2137773,
         1
        ],
        [
         1,
         "2",
         396164,
         2
        ],
        [
         1,
         "4",
         21163,
         3
        ],
        [
         1,
         "3",
         9118,
         4
        ]
       ],
       "datasetInfos": [],
       "dbfsResultPath": null,
       "isJsonSchema": true,
       "metadata": {},
       "overflow": false,
       "plotOptions": {
        "customPlotOptions": {},
        "displayType": "table",
        "pivotAggregation": null,
        "pivotColumns": null,
        "xColumns": null,
        "yColumns": null
       },
       "removedWidgets": [],
       "schema": [
        {
         "metadata": "{}",
         "name": "RatecodeID",
         "type": "\"long\""
        },
        {
         "metadata": "{}",
         "name": "payment_type",
         "type": "\"string\""
        },
        {
         "metadata": "{}",
         "name": "trip_count",
         "type": "\"long\""
        },
        {
         "metadata": "{}",
         "name": "rank",
         "type": "\"integer\""
        }
       ],
       "type": "table"
      }
     },
     "output_type": "display_data"
    },
    {
     "data": {
      "text/html": [
       "<style scoped>\n",
       "  .table-result-container {\n",
       "    max-height: 300px;\n",
       "    overflow: auto;\n",
       "  }\n",
       "  table, th, td {\n",
       "    border: 1px solid black;\n",
       "    border-collapse: collapse;\n",
       "  }\n",
       "  th, td {\n",
       "    padding: 5px;\n",
       "  }\n",
       "  th {\n",
       "    text-align: left;\n",
       "  }\n",
       "</style><div class='table-result-container'><table class='table-result'><thead style='background-color: white'><tr><th>VendorID</th><th>RatecodeID</th><th>fare_amount</th><th>mean_fare</th><th>fare_zscore</th></tr></thead><tbody><tr><td>1</td><td>99</td><td>77.5</td><td>33.50606889414547</td><td>3.361369472353549</td></tr><tr><td>1</td><td>99</td><td>76.5</td><td>33.50606889414547</td><td>3.2849641730802084</td></tr><tr><td>1</td><td>99</td><td>74.5</td><td>33.50606889414547</td><td>3.1321535745335267</td></tr><tr><td>1</td><td>99</td><td>78.5</td><td>33.50606889414547</td><td>3.4377747716268896</td></tr></tbody></table></div>"
      ]
     },
     "metadata": {
      "application/vnd.databricks.v1+output": {
       "addedWidgets": {},
       "aggData": [],
       "aggError": "",
       "aggOverflow": false,
       "aggSchema": [],
       "aggSeriesLimitReached": false,
       "aggType": "",
       "arguments": {},
       "columnCustomDisplayInfos": {},
       "data": [
        [
         1,
         99,
         77.5,
         33.50606889414547,
         3.361369472353549
        ],
        [
         1,
         99,
         76.5,
         33.50606889414547,
         3.2849641730802084
        ],
        [
         1,
         99,
         74.5,
         33.50606889414547,
         3.1321535745335267
        ],
        [
         1,
         99,
         78.5,
         33.50606889414547,
         3.4377747716268896
        ]
       ],
       "datasetInfos": [],
       "dbfsResultPath": null,
       "isJsonSchema": true,
       "metadata": {},
       "overflow": false,
       "plotOptions": {
        "customPlotOptions": {},
        "displayType": "table",
        "pivotAggregation": null,
        "pivotColumns": null,
        "xColumns": null,
        "yColumns": null
       },
       "removedWidgets": [],
       "schema": [
        {
         "metadata": "{}",
         "name": "VendorID",
         "type": "\"integer\""
        },
        {
         "metadata": "{}",
         "name": "RatecodeID",
         "type": "\"long\""
        },
        {
         "metadata": "{}",
         "name": "fare_amount",
         "type": "\"double\""
        },
        {
         "metadata": "{}",
         "name": "mean_fare",
         "type": "\"double\""
        },
        {
         "metadata": "{}",
         "name": "fare_zscore",
         "type": "\"double\""
        }
       ],
       "type": "table"
      }
     },
     "output_type": "display_data"
    }
   ],
   "source": [
    "from pyspark.sql.functions import col, avg, count, when, expr, stddev, mean, lit, countDistinct, sum as spark_sum, row_number\n",
    "from pyspark.sql.window import Window\n",
    "\n",
    "# 1. Average tip percentage for airport vs non-airport pickups\n",
    "airport_pulocationids = [1, 132, 138]  # JFK=132, LaGuardia=138, Newark=1 (assumed)\n",
    "result_df_with_tip = result_df.withColumn(\n",
    "    \"tip_percentage\", when(col(\"total_amount\") > 0, col(\"tip_amount\") / col(\"total_amount\") * 100).otherwise(None)\n",
    ").withColumn(\n",
    "    \"is_airport_pickup\", when(col(\"PULocationID\").isin(airport_pulocationids), \"Airport\").otherwise(\"Non-Airport\")\n",
    ")\n",
    "avg_tip_pct = result_df_with_tip.groupBy(\"is_airport_pickup\").agg(avg(\"tip_percentage\").alias(\"avg_tip_percentage\"))\n",
    "display(avg_tip_pct)\n",
    "\n",
    "# 2. Trips significantly longer/shorter than average for route and time of day\n",
    "route_stats = result_df.groupBy(\"PULocationID\", \"DOLocationID\", \"time_of_day_slot\").agg(\n",
    "    avg(\"trip_duration_min\").alias(\"avg_duration\"),\n",
    "    stddev(\"trip_duration_min\").alias(\"std_duration\")\n",
    ")\n",
    "joined = result_df.join(\n",
    "    route_stats,\n",
    "    on=[\"PULocationID\", \"DOLocationID\", \"time_of_day_slot\"],\n",
    "    how=\"left\"\n",
    ").withColumn(\n",
    "    \"duration_zscore\", (col(\"trip_duration_min\") - col(\"avg_duration\")) / col(\"std_duration\")\n",
    ")\n",
    "significant_trips = joined.filter((col(\"duration_zscore\") > 2) | (col(\"duration_zscore\") < -2))\n",
    "display(significant_trips.select(\"PULocationID\", \"DOLocationID\", \"time_of_day_slot\", \"trip_duration_min\", \"avg_duration\", \"duration_zscore\").limit(4))\n",
    "\n",
    "# 3. Ranking payment types by usage frequency within rate codes\n",
    "window_spec = Window.partitionBy(\"RatecodeID\").orderBy(col(\"trip_count\").desc())\n",
    "payment_rank = result_df.groupBy(\"RatecodeID\", \"payment_type\").agg(\n",
    "    count(\"*\").alias(\"trip_count\")\n",
    ").withColumn(\n",
    "    \"rank\", row_number().over(window_spec)\n",
    ")\n",
    "display(payment_rank.limit(4))\n",
    "\n",
    "# 4. Detecting anomalous fare amounts for vendor and rate code (using 3-sigma rule)\n",
    "fare_stats = result_df.groupBy(\"VendorID\", \"RatecodeID\").agg(\n",
    "    mean(\"fare_amount\").alias(\"mean_fare\"),\n",
    "    stddev(\"fare_amount\").alias(\"std_fare\")\n",
    ")\n",
    "fare_anomalies = result_df.join(\n",
    "    fare_stats, on=[\"VendorID\", \"RatecodeID\"], how=\"left\"\n",
    ").withColumn(\n",
    "    \"fare_zscore\", (col(\"fare_amount\") - col(\"mean_fare\")) / col(\"std_fare\")\n",
    ").filter((col(\"fare_zscore\") > 3) | (col(\"fare_zscore\") < -3))\n",
    "display(fare_anomalies.select(\"VendorID\", \"RatecodeID\", \"fare_amount\", \"mean_fare\", \"fare_zscore\").limit(4))\n",
    "\n",
    "# 5. Impact of weather events (requires weather data joined by date and borough)\n",
    "# Assume weather_df with columns: date, borough, heavy_rain (boolean)\n",
    "# Assume result_df has 'pickup_date' and 'pickup_borough' columns\n",
    "# Join and analyze\n",
    "if \"weather_df\" in locals():\n",
    "    weather_joined = result_df.join(\n",
    "        weather_df,\n",
    "        (result_df.tpep_pickup_datetime.cast(\"date\") == weather_df.date) &\n",
    "        (result_df.pickup_borough == weather_df.borough),\n",
    "        how=\"left\"\n",
    "    )\n",
    "    rain_impact = weather_joined.groupBy(\"pickup_borough\", \"heavy_rain\").agg(\n",
    "        avg(\"trip_duration_min\").alias(\"avg_duration\"),\n",
    "        avg(\"fare_amount\").alias(\"avg_fare\"),\n",
    "        count(\"*\").alias(\"trip_count\")\n",
    "    )\n",
    "    display(rain_impact.limit(4))\n",
    "\n",
    "# 6. Segmenting customers by ride frequency and average spend (assuming unique customer_id)\n",
    "if \"customer_id\" in result_df.columns:\n",
    "    customer_seg = result_df.groupBy(\"customer_id\").agg(\n",
    "        count(\"*\").alias(\"ride_count\"),\n",
    "        avg(\"total_amount\").alias(\"avg_spend\"),\n",
    "        spark_sum(\"total_amount\").alias(\"total_spend\")\n",
    "    )\n",
    "    high_value = customer_seg.filter((col(\"ride_count\") > 10) & (col(\"avg_spend\") > 30))\n",
    "    display(high_value.limit(4))"
   ]
  },
  {
   "cell_type": "markdown",
   "metadata": {
    "application/vnd.databricks.v1+cell": {
     "cellMetadata": {},
     "inputWidgets": {},
     "nuid": "118602e8-bfeb-42e3-9ab5-433a049e839d",
     "showTitle": false,
     "tableResultSettingsMap": {},
     "title": ""
    }
   },
   "source": [
    "Action 3.3: Validate Advanced Transformation Results"
   ]
  },
  {
   "cell_type": "code",
   "execution_count": 0,
   "metadata": {
    "application/vnd.databricks.v1+cell": {
     "cellMetadata": {
      "byteLimit": 2048000,
      "rowLimit": 10000
     },
     "inputWidgets": {},
     "nuid": "f5a37d76-b66e-41a8-b01b-bcd1f122d8e2",
     "showTitle": false,
     "tableResultSettingsMap": {},
     "title": ""
    }
   },
   "outputs": [
    {
     "data": {
      "text/html": [
       "<style scoped>\n",
       "  .table-result-container {\n",
       "    max-height: 300px;\n",
       "    overflow: auto;\n",
       "  }\n",
       "  table, th, td {\n",
       "    border: 1px solid black;\n",
       "    border-collapse: collapse;\n",
       "  }\n",
       "  th, td {\n",
       "    padding: 5px;\n",
       "  }\n",
       "  th {\n",
       "    text-align: left;\n",
       "  }\n",
       "</style><div class='table-result-container'><table class='table-result'><thead style='background-color: white'><tr><th>is_airport_pickup</th><th>avg_tip_percentage</th></tr></thead><tbody><tr><td>Airport</td><td>11.25589703287847</td></tr></tbody></table></div>"
      ]
     },
     "metadata": {
      "application/vnd.databricks.v1+output": {
       "addedWidgets": {},
       "aggData": [],
       "aggError": "",
       "aggOverflow": false,
       "aggSchema": [],
       "aggSeriesLimitReached": false,
       "aggType": "",
       "arguments": {},
       "columnCustomDisplayInfos": {},
       "data": [
        [
         "Airport",
         11.25589703287847
        ]
       ],
       "datasetInfos": [],
       "dbfsResultPath": null,
       "isJsonSchema": true,
       "metadata": {},
       "overflow": false,
       "plotOptions": {
        "customPlotOptions": {},
        "displayType": "table",
        "pivotAggregation": null,
        "pivotColumns": null,
        "xColumns": null,
        "yColumns": null
       },
       "removedWidgets": [],
       "schema": [
        {
         "metadata": "{}",
         "name": "is_airport_pickup",
         "type": "\"string\""
        },
        {
         "metadata": "{}",
         "name": "avg_tip_percentage",
         "type": "\"double\""
        }
       ],
       "type": "table"
      }
     },
     "output_type": "display_data"
    },
    {
     "data": {
      "text/html": [
       "<style scoped>\n",
       "  .table-result-container {\n",
       "    max-height: 300px;\n",
       "    overflow: auto;\n",
       "  }\n",
       "  table, th, td {\n",
       "    border: 1px solid black;\n",
       "    border-collapse: collapse;\n",
       "  }\n",
       "  th, td {\n",
       "    padding: 5px;\n",
       "  }\n",
       "  th {\n",
       "    text-align: left;\n",
       "  }\n",
       "</style><div class='table-result-container'><table class='table-result'><thead style='background-color: white'><tr><th>PULocationID</th><th>DOLocationID</th><th>time_of_day_slot</th><th>VendorID</th><th>tpep_pickup_datetime</th><th>tpep_dropoff_datetime</th><th>passenger_count</th><th>trip_distance</th><th>RatecodeID</th><th>store_and_fwd_flag</th><th>payment_type</th><th>fare_amount</th><th>extra</th><th>mta_tax</th><th>tip_amount</th><th>tolls_amount</th><th>improvement_surcharge</th><th>total_amount</th><th>congestion_surcharge</th><th>Airport_fee</th><th>trip_duration_min</th><th>avg_speed_mph</th><th>pickup_day_of_week</th><th>pickup_hour</th><th>avg_duration</th><th>std_duration</th><th>duration_zscore</th></tr></thead><tbody><tr><td>148</td><td>141</td><td>Night</td><td>1</td><td>2024-01-01T00:54:08Z</td><td>2024-01-01T01:26:31Z</td><td>1</td><td>4.7</td><td>1</td><td>N</td><td>1</td><td>29.6</td><td>3.5</td><td>0.5</td><td>6.9</td><td>0.0</td><td>1.0</td><td>41.5</td><td>2.5</td><td>0.0</td><td>32.383333</td><td>8.708186807282267</td><td>2</td><td>0</td><td>16.2415010828</td><td>4.336702979450849</td><td>3.7221437561407584</td></tr><tr><td>246</td><td>170</td><td>Night</td><td>1</td><td>2024-01-01T00:36:30Z</td><td>2024-01-01T01:13:53Z</td><td>2</td><td>1.7</td><td>1</td><td>N</td><td>1</td><td>29.6</td><td>3.5</td><td>0.5</td><td>6.9</td><td>0.0</td><td>1.0</td><td>41.5</td><td>2.5</td><td>0.0</td><td>37.383333</td><td>2.728486684984977</td><td>2</td><td>0</td><td>12.0217592222</td><td>4.0143192964863985</td><td>6.317776914257456</td></tr><tr><td>79</td><td>41</td><td>Night</td><td>2</td><td>2024-01-01T00:49:31Z</td><td>2024-01-01T01:35:41Z</td><td>2</td><td>8.89</td><td>1</td><td>N</td><td>1</td><td>47.8</td><td>1.0</td><td>0.5</td><td>7.92</td><td>0.0</td><td>1.0</td><td>60.72</td><td>2.5</td><td>0.0</td><td>46.166667</td><td>11.553797287391935</td><td>2</td><td>0</td><td>25.0342766887</td><td>6.210815733804803</td><td>3.402514454949721</td></tr><tr><td>68</td><td>125</td><td>Night</td><td>2</td><td>2024-01-01T00:58:11Z</td><td>2024-01-01T01:24:47Z</td><td>1</td><td>2.42</td><td>1</td><td>N</td><td>1</td><td>23.3</td><td>1.0</td><td>0.5</td><td>0.0</td><td>0.0</td><td>1.0</td><td>28.3</td><td>2.5</td><td>0.0</td><td>26.600000</td><td>5.458650720790016</td><td>2</td><td>0</td><td>10.7756944417</td><td>4.024266311522048</td><td>3.9322212630393665</td></tr></tbody></table></div>"
      ]
     },
     "metadata": {
      "application/vnd.databricks.v1+output": {
       "addedWidgets": {},
       "aggData": [],
       "aggError": "",
       "aggOverflow": false,
       "aggSchema": [],
       "aggSeriesLimitReached": false,
       "aggType": "",
       "arguments": {},
       "columnCustomDisplayInfos": {},
       "data": [
        [
         148,
         141,
         "Night",
         1,
         "2024-01-01T00:54:08Z",
         "2024-01-01T01:26:31Z",
         1,
         4.7,
         1,
         "N",
         "1",
         29.6,
         3.5,
         0.5,
         6.9,
         0,
         1,
         41.5,
         2.5,
         0,
         "32.383333",
         8.708186807282267,
         2,
         0,
         "16.2415010828",
         4.336702979450849,
         3.7221437561407584
        ],
        [
         246,
         170,
         "Night",
         1,
         "2024-01-01T00:36:30Z",
         "2024-01-01T01:13:53Z",
         2,
         1.7,
         1,
         "N",
         "1",
         29.6,
         3.5,
         0.5,
         6.9,
         0,
         1,
         41.5,
         2.5,
         0,
         "37.383333",
         2.728486684984977,
         2,
         0,
         "12.0217592222",
         4.0143192964863985,
         6.317776914257456
        ],
        [
         79,
         41,
         "Night",
         2,
         "2024-01-01T00:49:31Z",
         "2024-01-01T01:35:41Z",
         2,
         8.89,
         1,
         "N",
         "1",
         47.8,
         1,
         0.5,
         7.92,
         0,
         1,
         60.72,
         2.5,
         0,
         "46.166667",
         11.553797287391935,
         2,
         0,
         "25.0342766887",
         6.210815733804803,
         3.402514454949721
        ],
        [
         68,
         125,
         "Night",
         2,
         "2024-01-01T00:58:11Z",
         "2024-01-01T01:24:47Z",
         1,
         2.42,
         1,
         "N",
         "1",
         23.3,
         1,
         0.5,
         0,
         0,
         1,
         28.3,
         2.5,
         0,
         "26.600000",
         5.458650720790016,
         2,
         0,
         "10.7756944417",
         4.024266311522048,
         3.9322212630393665
        ]
       ],
       "datasetInfos": [],
       "dbfsResultPath": null,
       "isJsonSchema": true,
       "metadata": {},
       "overflow": false,
       "plotOptions": {
        "customPlotOptions": {},
        "displayType": "table",
        "pivotAggregation": null,
        "pivotColumns": null,
        "xColumns": null,
        "yColumns": null
       },
       "removedWidgets": [],
       "schema": [
        {
         "metadata": "{}",
         "name": "PULocationID",
         "type": "\"integer\""
        },
        {
         "metadata": "{}",
         "name": "DOLocationID",
         "type": "\"integer\""
        },
        {
         "metadata": "{}",
         "name": "time_of_day_slot",
         "type": "\"string\""
        },
        {
         "metadata": "{}",
         "name": "VendorID",
         "type": "\"integer\""
        },
        {
         "metadata": "{}",
         "name": "tpep_pickup_datetime",
         "type": "\"timestamp\""
        },
        {
         "metadata": "{}",
         "name": "tpep_dropoff_datetime",
         "type": "\"timestamp\""
        },
        {
         "metadata": "{}",
         "name": "passenger_count",
         "type": "\"integer\""
        },
        {
         "metadata": "{}",
         "name": "trip_distance",
         "type": "\"double\""
        },
        {
         "metadata": "{}",
         "name": "RatecodeID",
         "type": "\"long\""
        },
        {
         "metadata": "{}",
         "name": "store_and_fwd_flag",
         "type": "\"string\""
        },
        {
         "metadata": "{}",
         "name": "payment_type",
         "type": "\"string\""
        },
        {
         "metadata": "{}",
         "name": "fare_amount",
         "type": "\"double\""
        },
        {
         "metadata": "{}",
         "name": "extra",
         "type": "\"double\""
        },
        {
         "metadata": "{}",
         "name": "mta_tax",
         "type": "\"double\""
        },
        {
         "metadata": "{}",
         "name": "tip_amount",
         "type": "\"double\""
        },
        {
         "metadata": "{}",
         "name": "tolls_amount",
         "type": "\"double\""
        },
        {
         "metadata": "{}",
         "name": "improvement_surcharge",
         "type": "\"double\""
        },
        {
         "metadata": "{}",
         "name": "total_amount",
         "type": "\"double\""
        },
        {
         "metadata": "{}",
         "name": "congestion_surcharge",
         "type": "\"double\""
        },
        {
         "metadata": "{}",
         "name": "Airport_fee",
         "type": "\"double\""
        },
        {
         "metadata": "{}",
         "name": "trip_duration_min",
         "type": "\"decimal(27,6)\""
        },
        {
         "metadata": "{}",
         "name": "avg_speed_mph",
         "type": "\"double\""
        },
        {
         "metadata": "{}",
         "name": "pickup_day_of_week",
         "type": "\"integer\""
        },
        {
         "metadata": "{}",
         "name": "pickup_hour",
         "type": "\"integer\""
        },
        {
         "metadata": "{}",
         "name": "avg_duration",
         "type": "\"decimal(31,10)\""
        },
        {
         "metadata": "{}",
         "name": "std_duration",
         "type": "\"double\""
        },
        {
         "metadata": "{}",
         "name": "duration_zscore",
         "type": "\"double\""
        }
       ],
       "type": "table"
      }
     },
     "output_type": "display_data"
    },
    {
     "data": {
      "text/html": [
       "<style scoped>\n",
       "  .table-result-container {\n",
       "    max-height: 300px;\n",
       "    overflow: auto;\n",
       "  }\n",
       "  table, th, td {\n",
       "    border: 1px solid black;\n",
       "    border-collapse: collapse;\n",
       "  }\n",
       "  th, td {\n",
       "    padding: 5px;\n",
       "  }\n",
       "  th {\n",
       "    text-align: left;\n",
       "  }\n",
       "</style><div class='table-result-container'><table class='table-result'><thead style='background-color: white'><tr><th>RatecodeID</th><th>payment_type</th><th>trip_count</th><th>rank</th></tr></thead><tbody><tr><td>1</td><td>1</td><td>2137773</td><td>1</td></tr><tr><td>2</td><td>1</td><td>77278</td><td>1</td></tr><tr><td>3</td><td>1</td><td>5177</td><td>1</td></tr><tr><td>4</td><td>1</td><td>387</td><td>1</td></tr></tbody></table></div>"
      ]
     },
     "metadata": {
      "application/vnd.databricks.v1+output": {
       "addedWidgets": {},
       "aggData": [],
       "aggError": "",
       "aggOverflow": false,
       "aggSchema": [],
       "aggSeriesLimitReached": false,
       "aggType": "",
       "arguments": {},
       "columnCustomDisplayInfos": {},
       "data": [
        [
         1,
         "1",
         2137773,
         1
        ],
        [
         2,
         "1",
         77278,
         1
        ],
        [
         3,
         "1",
         5177,
         1
        ],
        [
         4,
         "1",
         387,
         1
        ]
       ],
       "datasetInfos": [],
       "dbfsResultPath": null,
       "isJsonSchema": true,
       "metadata": {},
       "overflow": false,
       "plotOptions": {
        "customPlotOptions": {},
        "displayType": "table",
        "pivotAggregation": null,
        "pivotColumns": null,
        "xColumns": null,
        "yColumns": null
       },
       "removedWidgets": [],
       "schema": [
        {
         "metadata": "{}",
         "name": "RatecodeID",
         "type": "\"long\""
        },
        {
         "metadata": "{}",
         "name": "payment_type",
         "type": "\"string\""
        },
        {
         "metadata": "{}",
         "name": "trip_count",
         "type": "\"long\""
        },
        {
         "metadata": "{}",
         "name": "rank",
         "type": "\"integer\""
        }
       ],
       "type": "table"
      }
     },
     "output_type": "display_data"
    },
    {
     "data": {
      "text/html": [
       "<style scoped>\n",
       "  .table-result-container {\n",
       "    max-height: 300px;\n",
       "    overflow: auto;\n",
       "  }\n",
       "  table, th, td {\n",
       "    border: 1px solid black;\n",
       "    border-collapse: collapse;\n",
       "  }\n",
       "  th, td {\n",
       "    padding: 5px;\n",
       "  }\n",
       "  th {\n",
       "    text-align: left;\n",
       "  }\n",
       "</style><div class='table-result-container'><table class='table-result'><thead style='background-color: white'><tr><th>VendorID</th><th>RatecodeID</th><th>tpep_pickup_datetime</th><th>tpep_dropoff_datetime</th><th>passenger_count</th><th>trip_distance</th><th>store_and_fwd_flag</th><th>PULocationID</th><th>DOLocationID</th><th>payment_type</th><th>fare_amount</th><th>extra</th><th>mta_tax</th><th>tip_amount</th><th>tolls_amount</th><th>improvement_surcharge</th><th>total_amount</th><th>congestion_surcharge</th><th>Airport_fee</th><th>trip_duration_min</th><th>avg_speed_mph</th><th>pickup_day_of_week</th><th>pickup_hour</th><th>time_of_day_slot</th><th>mean_fare</th><th>std_fare</th><th>fare_zscore</th></tr></thead><tbody><tr><td>1</td><td>1</td><td>2024-01-01T00:35:16Z</td><td>2024-01-01T01:11:52Z</td><td>2</td><td>8.2</td><td>N</td><td>246</td><td>190</td><td>1</td><td>59.0</td><td>3.5</td><td>0.5</td><td>14.15</td><td>6.94</td><td>1.0</td><td>85.09</td><td>2.5</td><td>0.0</td><td>36.600000</td><td>13.442622950819672</td><td>2</td><td>0</td><td>Night</td><td>14.901246000401962</td><td>10.62049779920962</td><td>4.152230416438661</td></tr><tr><td>2</td><td>1</td><td>2024-01-01T00:54:16Z</td><td>2024-01-01T01:27:40Z</td><td>1</td><td>13.74</td><td>N</td><td>239</td><td>95</td><td>1</td><td>56.9</td><td>1.0</td><td>0.5</td><td>13.77</td><td>6.94</td><td>1.0</td><td>82.61</td><td>2.5</td><td>0.0</td><td>33.400000</td><td>24.682619950526973</td><td>2</td><td>0</td><td>Night</td><td>16.00500293806924</td><td>12.028247858981686</td><td>3.39991306642337</td></tr><tr><td>2</td><td>1</td><td>2024-01-01T00:50:28Z</td><td>2024-01-01T01:38:39Z</td><td>1</td><td>20.34</td><td>N</td><td>132</td><td>26</td><td>1</td><td>80.0</td><td>1.0</td><td>0.5</td><td>2.0</td><td>0.0</td><td>1.0</td><td>86.25</td><td>0.0</td><td>1.75</td><td>48.183333</td><td>25.328246099898386</td><td>2</td><td>0</td><td>Night</td><td>16.00500293806924</td><td>12.028247858981686</td><td>5.320392280921005</td></tr><tr><td>2</td><td>1</td><td>2024-01-01T00:55:31Z</td><td>2024-01-01T01:21:15Z</td><td>1</td><td>18.42</td><td>N</td><td>132</td><td>213</td><td>2</td><td>68.1</td><td>1.0</td><td>0.5</td><td>0.0</td><td>6.94</td><td>1.0</td><td>79.29</td><td>0.0</td><td>1.75</td><td>25.733333</td><td>42.9481754020271</td><td>2</td><td>0</td><td>Night</td><td>16.00500293806924</td><td>12.028247858981686</td><td>4.331054503755556</td></tr></tbody></table></div>"
      ]
     },
     "metadata": {
      "application/vnd.databricks.v1+output": {
       "addedWidgets": {},
       "aggData": [],
       "aggError": "",
       "aggOverflow": false,
       "aggSchema": [],
       "aggSeriesLimitReached": false,
       "aggType": "",
       "arguments": {},
       "columnCustomDisplayInfos": {},
       "data": [
        [
         1,
         1,
         "2024-01-01T00:35:16Z",
         "2024-01-01T01:11:52Z",
         2,
         8.2,
         "N",
         246,
         190,
         "1",
         59,
         3.5,
         0.5,
         14.15,
         6.94,
         1,
         85.09,
         2.5,
         0,
         "36.600000",
         13.442622950819672,
         2,
         0,
         "Night",
         14.901246000401962,
         10.62049779920962,
         4.152230416438661
        ],
        [
         2,
         1,
         "2024-01-01T00:54:16Z",
         "2024-01-01T01:27:40Z",
         1,
         13.74,
         "N",
         239,
         95,
         "1",
         56.9,
         1,
         0.5,
         13.77,
         6.94,
         1,
         82.61,
         2.5,
         0,
         "33.400000",
         24.682619950526973,
         2,
         0,
         "Night",
         16.00500293806924,
         12.028247858981686,
         3.39991306642337
        ],
        [
         2,
         1,
         "2024-01-01T00:50:28Z",
         "2024-01-01T01:38:39Z",
         1,
         20.34,
         "N",
         132,
         26,
         "1",
         80,
         1,
         0.5,
         2,
         0,
         1,
         86.25,
         0,
         1.75,
         "48.183333",
         25.328246099898386,
         2,
         0,
         "Night",
         16.00500293806924,
         12.028247858981686,
         5.320392280921005
        ],
        [
         2,
         1,
         "2024-01-01T00:55:31Z",
         "2024-01-01T01:21:15Z",
         1,
         18.42,
         "N",
         132,
         213,
         "2",
         68.1,
         1,
         0.5,
         0,
         6.94,
         1,
         79.29,
         0,
         1.75,
         "25.733333",
         42.9481754020271,
         2,
         0,
         "Night",
         16.00500293806924,
         12.028247858981686,
         4.331054503755556
        ]
       ],
       "datasetInfos": [],
       "dbfsResultPath": null,
       "isJsonSchema": true,
       "metadata": {},
       "overflow": false,
       "plotOptions": {
        "customPlotOptions": {},
        "displayType": "table",
        "pivotAggregation": null,
        "pivotColumns": null,
        "xColumns": null,
        "yColumns": null
       },
       "removedWidgets": [],
       "schema": [
        {
         "metadata": "{}",
         "name": "VendorID",
         "type": "\"integer\""
        },
        {
         "metadata": "{}",
         "name": "RatecodeID",
         "type": "\"long\""
        },
        {
         "metadata": "{}",
         "name": "tpep_pickup_datetime",
         "type": "\"timestamp\""
        },
        {
         "metadata": "{}",
         "name": "tpep_dropoff_datetime",
         "type": "\"timestamp\""
        },
        {
         "metadata": "{}",
         "name": "passenger_count",
         "type": "\"integer\""
        },
        {
         "metadata": "{}",
         "name": "trip_distance",
         "type": "\"double\""
        },
        {
         "metadata": "{}",
         "name": "store_and_fwd_flag",
         "type": "\"string\""
        },
        {
         "metadata": "{}",
         "name": "PULocationID",
         "type": "\"integer\""
        },
        {
         "metadata": "{}",
         "name": "DOLocationID",
         "type": "\"integer\""
        },
        {
         "metadata": "{}",
         "name": "payment_type",
         "type": "\"string\""
        },
        {
         "metadata": "{}",
         "name": "fare_amount",
         "type": "\"double\""
        },
        {
         "metadata": "{}",
         "name": "extra",
         "type": "\"double\""
        },
        {
         "metadata": "{}",
         "name": "mta_tax",
         "type": "\"double\""
        },
        {
         "metadata": "{}",
         "name": "tip_amount",
         "type": "\"double\""
        },
        {
         "metadata": "{}",
         "name": "tolls_amount",
         "type": "\"double\""
        },
        {
         "metadata": "{}",
         "name": "improvement_surcharge",
         "type": "\"double\""
        },
        {
         "metadata": "{}",
         "name": "total_amount",
         "type": "\"double\""
        },
        {
         "metadata": "{}",
         "name": "congestion_surcharge",
         "type": "\"double\""
        },
        {
         "metadata": "{}",
         "name": "Airport_fee",
         "type": "\"double\""
        },
        {
         "metadata": "{}",
         "name": "trip_duration_min",
         "type": "\"decimal(27,6)\""
        },
        {
         "metadata": "{}",
         "name": "avg_speed_mph",
         "type": "\"double\""
        },
        {
         "metadata": "{}",
         "name": "pickup_day_of_week",
         "type": "\"integer\""
        },
        {
         "metadata": "{}",
         "name": "pickup_hour",
         "type": "\"integer\""
        },
        {
         "metadata": "{}",
         "name": "time_of_day_slot",
         "type": "\"string\""
        },
        {
         "metadata": "{}",
         "name": "mean_fare",
         "type": "\"double\""
        },
        {
         "metadata": "{}",
         "name": "std_fare",
         "type": "\"double\""
        },
        {
         "metadata": "{}",
         "name": "fare_zscore",
         "type": "\"double\""
        }
       ],
       "type": "table"
      }
     },
     "output_type": "display_data"
    }
   ],
   "source": [
    "from pyspark.sql.functions import col, avg, count, when, expr, stddev, mean, lit, countDistinct, sum as spark_sum, row_number\n",
    "from pyspark.sql.window import Window\n",
    "\n",
    "# 1. Average tip percentage for airport vs non-airport pickups\n",
    "airport_pulocationids = [1, 132, 138]  # JFK=132, LaGuardia=138, Newark=1 (assumed)\n",
    "avg_tip_pct = result_df_with_tip.groupBy(\"is_airport_pickup\").agg(avg(\"tip_percentage\").alias(\"avg_tip_percentage\"))\n",
    "display(avg_tip_pct.filter(col(\"is_airport_pickup\") == \"Airport\").limit(4))\n",
    "\n",
    "# 2. Trips significantly longer/shorter than average for route and time of day\n",
    "significant_trips = joined.filter((col(\"duration_zscore\") > 2) | (col(\"duration_zscore\") < -2))\n",
    "display(significant_trips.filter(col(\"duration_zscore\") > 2).limit(4))\n",
    "\n",
    "# 3. Ranking payment types by usage frequency within rate codes\n",
    "payment_rank = result_df.groupBy(\"RatecodeID\", \"payment_type\").agg(\n",
    "    count(\"*\").alias(\"trip_count\")\n",
    ").withColumn(\n",
    "    \"rank\", row_number().over(window_spec)\n",
    ")\n",
    "display(payment_rank.filter(col(\"rank\") == 1).limit(4))\n",
    "\n",
    "# 4. Detecting anomalous fare amounts for vendor and rate code (using 3-sigma rule)\n",
    "fare_anomalies = result_df.join(\n",
    "    fare_stats, on=[\"VendorID\", \"RatecodeID\"], how=\"left\"\n",
    ").withColumn(\n",
    "    \"fare_zscore\", (col(\"fare_amount\") - col(\"mean_fare\")) / col(\"std_fare\")\n",
    ").filter((col(\"fare_zscore\") > 3) | (col(\"fare_zscore\") < -3))\n",
    "display(fare_anomalies.filter(col(\"fare_zscore\") > 3).limit(4))\n",
    "\n",
    "# 5. Impact of weather events (requires weather data joined by date and borough)\n",
    "if \"weather_df\" in locals():\n",
    "    rain_impact = weather_joined.groupBy(\"pickup_borough\", \"heavy_rain\").agg(\n",
    "        avg(\"trip_duration_min\").alias(\"avg_duration\"),\n",
    "        avg(\"fare_amount\").alias(\"avg_fare\"),\n",
    "        count(\"*\").alias(\"trip_count\")\n",
    "    )\n",
    "    display(rain_impact.filter(col(\"heavy_rain\") == True).limit(4))\n",
    "\n",
    "# 6. Segmenting customers by ride frequency and average spend (assuming unique customer_id)\n",
    "if \"customer_id\" in result_df.columns:\n",
    "    high_value = customer_seg.filter((col(\"ride_count\") > 10) & (col(\"avg_spend\") > 30))\n",
    "    display(high_value.filter(col(\"ride_count\") > 20).limit(4))"
   ]
  },
  {
   "cell_type": "markdown",
   "metadata": {
    "application/vnd.databricks.v1+cell": {
     "cellMetadata": {},
     "inputWidgets": {},
     "nuid": "4d5bab2c-aae6-47a8-ab17-26dc50372717",
     "showTitle": false,
     "tableResultSettingsMap": {},
     "title": ""
    }
   },
   "source": [
    "Task 4: Loading Data into Delta Lake and Basic Optimization (Est. 6 - 8 hours)\n",
    "Objective: Load the fully processed and transformed taxi data into a Delta Lake table. Apply basic Delta Lake optimization techniques and understand their purpose."
   ]
  },
  {
   "cell_type": "markdown",
   "metadata": {
    "application/vnd.databricks.v1+cell": {
     "cellMetadata": {},
     "inputWidgets": {},
     "nuid": "6d398770-1c38-40e6-86b3-cbf9316c4604",
     "showTitle": false,
     "tableResultSettingsMap": {},
     "title": ""
    }
   },
   "source": [
    "Action 4.1: Define Schema and Partitioning Strategy for Delta Table"
   ]
  },
  {
   "cell_type": "markdown",
   "metadata": {
    "application/vnd.databricks.v1+cell": {
     "cellMetadata": {},
     "inputWidgets": {},
     "nuid": "a32f150d-7c7e-42b9-a6fc-91166a1281f7",
     "showTitle": false,
     "tableResultSettingsMap": {},
     "title": ""
    }
   },
   "source": [
    "**Schema Review:**  \n",
    "The final transformed DataFrame (`final_taxi_df`) includes all necessary columns for analysis, such as trip times, locations, fare details, and timestamps.\n",
    "\n",
    "**Partitioning Strategy:**  \n",
    "We will partition the Delta table by `pickup_year`, `pickup_month`, and `pickup_day`, which are derived from the `tpep_pickup_datetime` column.\n",
    "\n",
    "**Justification:**  \n",
    "Partitioning by pickup date components is chosen because most analytical queries on taxi data are time-based (e.g., daily, monthly trends, or filtering by specific dates). This strategy will significantly improve query performance by allowing Delta Lake to efficiently prune partitions during reads, reducing scan time and resource usage."
   ]
  },
  {
   "cell_type": "markdown",
   "metadata": {
    "application/vnd.databricks.v1+cell": {
     "cellMetadata": {},
     "inputWidgets": {},
     "nuid": "e7401082-56df-4cf0-b9f6-c4660d299b1d",
     "showTitle": false,
     "tableResultSettingsMap": {},
     "title": ""
    }
   },
   "source": [
    "Action 4.2: Write to Delta Lake Table\n",
    "\n"
   ]
  },
  {
   "cell_type": "code",
   "execution_count": 0,
   "metadata": {
    "application/vnd.databricks.v1+cell": {
     "cellMetadata": {
      "byteLimit": 2048000,
      "rowLimit": 10000
     },
     "inputWidgets": {},
     "nuid": "fbf023b8-e202-43ce-b166-fcb65afa7c0c",
     "showTitle": false,
     "tableResultSettingsMap": {},
     "title": ""
    }
   },
   "outputs": [],
   "source": [
    "%python\n",
    "from pyspark.sql.functions import year, month, dayofmonth, col\n",
    "\n",
    "# Save the original DataFrame before transformations that may remove customer-level info\n",
    "final_taxi_df = result_df\n",
    "\n",
    "# Add partitioning columns if they don't exist\n",
    "if 'final_taxi_df' in locals() and not {\"pickup_year\", \"pickup_month\", \"pickup_day\"}.issubset(set(final_taxi_df.columns)):\n",
    "    final_taxi_df = final_taxi_df.withColumn(\"pickup_year\", year(col(\"tpep_pickup_datetime\"))) \\\n",
    "                                 .withColumn(\"pickup_month\", month(col(\"tpep_pickup_datetime\"))) \\\n",
    "                                 .withColumn(\"pickup_day\", dayofmonth(col(\"tpep_pickup_datetime\")))\n",
    "\n",
    "# Write to Delta Lake table with partitioning\n",
    "final_taxi_df.write.format(\"delta\") \\\n",
    "    .mode(\"overwrite\") \\\n",
    "    .partitionBy(\"pickup_year\", \"pickup_month\", \"pickup_day\") \\\n",
    "    .save(\"/mount_point/delta/taxi_trips\")"
   ]
  },
  {
   "cell_type": "markdown",
   "metadata": {
    "application/vnd.databricks.v1+cell": {
     "cellMetadata": {},
     "inputWidgets": {},
     "nuid": "66b84127-c4b2-47c1-a432-806b0bbf638d",
     "showTitle": false,
     "tableResultSettingsMap": {},
     "title": ""
    }
   },
   "source": [
    "Action 4.3: Register Delta Table (Optional but Recommended)"
   ]
  },
  {
   "cell_type": "code",
   "execution_count": 0,
   "metadata": {
    "application/vnd.databricks.v1+cell": {
     "cellMetadata": {
      "byteLimit": 2048000,
      "rowLimit": 10000
     },
     "inputWidgets": {},
     "nuid": "9283ffa3-2e73-4f78-9edb-b7820a32f2fa",
     "showTitle": false,
     "tableResultSettingsMap": {},
     "title": ""
    }
   },
   "outputs": [
    {
     "data": {
      "text/html": [
       "<style scoped>\n",
       "  .table-result-container {\n",
       "    max-height: 300px;\n",
       "    overflow: auto;\n",
       "  }\n",
       "  table, th, td {\n",
       "    border: 1px solid black;\n",
       "    border-collapse: collapse;\n",
       "  }\n",
       "  th, td {\n",
       "    padding: 5px;\n",
       "  }\n",
       "  th {\n",
       "    text-align: left;\n",
       "  }\n",
       "</style><div class='table-result-container'><table class='table-result'><thead style='background-color: white'><tr><th>VendorID</th><th>tpep_pickup_datetime</th><th>tpep_dropoff_datetime</th><th>passenger_count</th><th>trip_distance</th><th>RatecodeID</th><th>store_and_fwd_flag</th><th>PULocationID</th><th>DOLocationID</th><th>payment_type</th><th>fare_amount</th><th>extra</th><th>mta_tax</th><th>tip_amount</th><th>tolls_amount</th><th>improvement_surcharge</th><th>total_amount</th><th>congestion_surcharge</th><th>Airport_fee</th><th>trip_duration_min</th><th>avg_speed_mph</th><th>pickup_day_of_week</th><th>pickup_hour</th><th>time_of_day_slot</th><th>pickup_year</th><th>pickup_month</th><th>pickup_day</th></tr></thead><tbody><tr><td>2</td><td>2024-01-16T23:45:34Z</td><td>2024-01-16T23:53:08Z</td><td>1</td><td>3.09</td><td>1</td><td>N</td><td>132</td><td>10</td><td>1</td><td>14.2</td><td>1.0</td><td>0.5</td><td>0.1</td><td>0.0</td><td>1.0</td><td>18.55</td><td>0.0</td><td>1.75</td><td>7.566667</td><td>24.502224231034564</td><td>3</td><td>23</td><td>Night</td><td>2024</td><td>1</td><td>16</td></tr><tr><td>2</td><td>2024-01-16T23:59:51Z</td><td>2024-01-17T00:01:22Z</td><td>1</td><td>0.28</td><td>1</td><td>N</td><td>263</td><td>263</td><td>2</td><td>4.4</td><td>1.0</td><td>0.5</td><td>0.0</td><td>0.0</td><td>1.0</td><td>9.4</td><td>2.5</td><td>0.0</td><td>1.516667</td><td>11.076825698235622</td><td>3</td><td>23</td><td>Night</td><td>2024</td><td>1</td><td>16</td></tr><tr><td>2</td><td>2024-01-16T23:59:42Z</td><td>2024-01-17T00:30:37Z</td><td>1</td><td>6.63</td><td>1</td><td>N</td><td>114</td><td>257</td><td>1</td><td>33.8</td><td>1.0</td><td>0.5</td><td>9.7</td><td>0.0</td><td>1.0</td><td>48.5</td><td>2.5</td><td>0.0</td><td>30.916667</td><td>12.866840812144124</td><td>3</td><td>23</td><td>Night</td><td>2024</td><td>1</td><td>16</td></tr></tbody></table></div>"
      ]
     },
     "metadata": {
      "application/vnd.databricks.v1+output": {
       "addedWidgets": {},
       "aggData": [],
       "aggError": "",
       "aggOverflow": false,
       "aggSchema": [],
       "aggSeriesLimitReached": false,
       "aggType": "",
       "arguments": {},
       "columnCustomDisplayInfos": {},
       "data": [
        [
         2,
         "2024-01-16T23:45:34Z",
         "2024-01-16T23:53:08Z",
         1,
         3.09,
         1,
         "N",
         132,
         10,
         "1",
         14.2,
         1,
         0.5,
         0.1,
         0,
         1,
         18.55,
         0,
         1.75,
         "7.566667",
         24.502224231034564,
         3,
         23,
         "Night",
         2024,
         1,
         16
        ],
        [
         2,
         "2024-01-16T23:59:51Z",
         "2024-01-17T00:01:22Z",
         1,
         0.28,
         1,
         "N",
         263,
         263,
         "2",
         4.4,
         1,
         0.5,
         0,
         0,
         1,
         9.4,
         2.5,
         0,
         "1.516667",
         11.076825698235622,
         3,
         23,
         "Night",
         2024,
         1,
         16
        ],
        [
         2,
         "2024-01-16T23:59:42Z",
         "2024-01-17T00:30:37Z",
         1,
         6.63,
         1,
         "N",
         114,
         257,
         "1",
         33.8,
         1,
         0.5,
         9.7,
         0,
         1,
         48.5,
         2.5,
         0,
         "30.916667",
         12.866840812144124,
         3,
         23,
         "Night",
         2024,
         1,
         16
        ]
       ],
       "datasetInfos": [],
       "dbfsResultPath": null,
       "isJsonSchema": true,
       "metadata": {},
       "overflow": false,
       "plotOptions": {
        "customPlotOptions": {},
        "displayType": "table",
        "pivotAggregation": null,
        "pivotColumns": null,
        "xColumns": null,
        "yColumns": null
       },
       "removedWidgets": [],
       "schema": [
        {
         "metadata": "{}",
         "name": "VendorID",
         "type": "\"integer\""
        },
        {
         "metadata": "{}",
         "name": "tpep_pickup_datetime",
         "type": "\"timestamp\""
        },
        {
         "metadata": "{}",
         "name": "tpep_dropoff_datetime",
         "type": "\"timestamp\""
        },
        {
         "metadata": "{}",
         "name": "passenger_count",
         "type": "\"integer\""
        },
        {
         "metadata": "{}",
         "name": "trip_distance",
         "type": "\"double\""
        },
        {
         "metadata": "{}",
         "name": "RatecodeID",
         "type": "\"long\""
        },
        {
         "metadata": "{}",
         "name": "store_and_fwd_flag",
         "type": "\"string\""
        },
        {
         "metadata": "{}",
         "name": "PULocationID",
         "type": "\"integer\""
        },
        {
         "metadata": "{}",
         "name": "DOLocationID",
         "type": "\"integer\""
        },
        {
         "metadata": "{}",
         "name": "payment_type",
         "type": "\"string\""
        },
        {
         "metadata": "{}",
         "name": "fare_amount",
         "type": "\"double\""
        },
        {
         "metadata": "{}",
         "name": "extra",
         "type": "\"double\""
        },
        {
         "metadata": "{}",
         "name": "mta_tax",
         "type": "\"double\""
        },
        {
         "metadata": "{}",
         "name": "tip_amount",
         "type": "\"double\""
        },
        {
         "metadata": "{}",
         "name": "tolls_amount",
         "type": "\"double\""
        },
        {
         "metadata": "{}",
         "name": "improvement_surcharge",
         "type": "\"double\""
        },
        {
         "metadata": "{}",
         "name": "total_amount",
         "type": "\"double\""
        },
        {
         "metadata": "{}",
         "name": "congestion_surcharge",
         "type": "\"double\""
        },
        {
         "metadata": "{}",
         "name": "Airport_fee",
         "type": "\"double\""
        },
        {
         "metadata": "{}",
         "name": "trip_duration_min",
         "type": "\"decimal(27,6)\""
        },
        {
         "metadata": "{}",
         "name": "avg_speed_mph",
         "type": "\"double\""
        },
        {
         "metadata": "{}",
         "name": "pickup_day_of_week",
         "type": "\"integer\""
        },
        {
         "metadata": "{}",
         "name": "pickup_hour",
         "type": "\"integer\""
        },
        {
         "metadata": "{}",
         "name": "time_of_day_slot",
         "type": "\"string\""
        },
        {
         "metadata": "{}",
         "name": "pickup_year",
         "type": "\"integer\""
        },
        {
         "metadata": "{}",
         "name": "pickup_month",
         "type": "\"integer\""
        },
        {
         "metadata": "{}",
         "name": "pickup_day",
         "type": "\"integer\""
        }
       ],
       "type": "table"
      }
     },
     "output_type": "display_data"
    }
   ],
   "source": [
    "%python\n",
    "# Read the Delta table into a DataFrame\n",
    "df = spark.read.format(\"delta\").load(\"dbfs:/mount_point/delta/taxi_trips\")\n",
    "\n",
    "# Display the DataFrame\n",
    "display(df.limit(3))"
   ]
  },
  {
   "cell_type": "markdown",
   "metadata": {
    "application/vnd.databricks.v1+cell": {
     "cellMetadata": {},
     "inputWidgets": {},
     "nuid": "015efe7a-0dd9-481f-b3ba-1b348cc9a545",
     "showTitle": false,
     "tableResultSettingsMap": {},
     "title": ""
    }
   },
   "source": [
    "Action 4.4: Perform Basic Delta Lake Optimization"
   ]
  },
  {
   "cell_type": "markdown",
   "metadata": {
    "application/vnd.databricks.v1+cell": {
     "cellMetadata": {},
     "inputWidgets": {},
     "nuid": "b9503124-21f0-410d-9190-03049914075d",
     "showTitle": false,
     "tableResultSettingsMap": {},
     "title": ""
    }
   },
   "source": [
    "Run OPTIMIZE to compact files and sort by PULocationID, DOLocationID:\n",
    "spark.sql(\"OPTIMIZE delta.`/mount_point/delta/taxi_trips` ZORDER BY (PULocationID, DOLocationID)\")"
   ]
  },
  {
   "cell_type": "code",
   "execution_count": 0,
   "metadata": {
    "application/vnd.databricks.v1+cell": {
     "cellMetadata": {
      "byteLimit": 2048000,
      "rowLimit": 10000
     },
     "inputWidgets": {},
     "nuid": "da9a3c95-2170-41f8-8852-f0a69f41b066",
     "showTitle": false,
     "tableResultSettingsMap": {},
     "title": ""
    }
   },
   "outputs": [
    {
     "data": {
      "text/plain": [
       "DataFrame[path: string, metrics: struct<numFilesAdded:bigint,numFilesRemoved:bigint,filesAdded:struct<min:bigint,max:bigint,avg:double,totalFiles:bigint,totalSize:bigint>,filesRemoved:struct<min:bigint,max:bigint,avg:double,totalFiles:bigint,totalSize:bigint>,partitionsOptimized:bigint,zOrderStats:struct<strategyName:string,inputCubeFiles:struct<num:bigint,size:bigint>,inputOtherFiles:struct<num:bigint,size:bigint>,inputNumCubes:bigint,mergedFiles:struct<num:bigint,size:bigint>,numOutputCubes:bigint,mergedNumCubes:bigint>,clusteringStats:struct<inputZCubeFiles:struct<numFiles:bigint,size:bigint>,inputOtherFiles:struct<numFiles:bigint,size:bigint>,inputNumZCubes:bigint,mergedFiles:struct<numFiles:bigint,size:bigint>,numOutputZCubes:bigint>,numBins:bigint,numBatches:bigint,totalConsideredFiles:bigint,totalFilesSkipped:bigint,preserveInsertionOrder:boolean,numFilesSkippedToReduceWriteAmplification:bigint,numBytesSkippedToReduceWriteAmplification:bigint,startTimeMs:bigint,endTimeMs:bigint,totalClusterParallelism:bigint,totalScheduledTasks:bigint,autoCompactParallelismStats:struct<maxClusterActiveParallelism:bigint,minClusterActiveParallelism:bigint,maxSessionActiveParallelism:bigint,minSessionActiveParallelism:bigint>,deletionVectorStats:struct<numDeletionVectorsRemoved:bigint,numDeletionVectorRowsRemoved:bigint>,numTableColumns:bigint,numTableColumnsWithStats:bigint,totalTaskExecutionTimeMs:bigint,skippedArchivedFiles:bigint,clusteringMetrics:struct<sizeOfTableInBytesBeforeLazyClustering:bigint,isNewMetadataCreated:boolean,isPOTriggered:boolean,numFilesSkippedWithoutStats:bigint,numFilesClassifiedToIntermediateNodes:bigint,sizeOfFilesClassifiedToIntermediateNodesInBytes:bigint,logicalSizeOfFilesClassifiedToIntermediateNodesInBytes:bigint,numFilesClassifiedToLeafNodes:bigint,sizeOfFilesClassifiedToLeafNodesInBytes:bigint,logicalSizeOfFilesClassifiedToLeafNodesInBytes:bigint,numThreadsForClassifier:int,clusterThresholdStrategy:string,minFileSize:bigint,maxFileSize:bigint,nodeMinNumFilesToCompact:bigint,numIdealFiles:bigint,numClusteringTasksPlanned:int,numCompactionTasksPlanned:int,numOptimizeBatchesPlanned:int,numLeafNodesExpanded:bigint,numLeafNodesClustered:bigint,numGetFilesForNodeCalls:bigint,numSamplingJobs:bigint,numLeafNodesCompacted:bigint,numIntermediateNodesCompacted:bigint,totalSizeOfDataToCompactInBytes:bigint,totalLogicalSizeOfDataToCompactInBytes:bigint,numIntermediateNodesClustered:bigint,numFilesSkippedAfterExpansion:bigint,totalSizeOfFilesSkippedAfterExpansionInBytes:bigint,totalLogicalSizeOfFilesSkippedAfterExpansionInBytes:bigint,totalSizeOfDataToRewriteInBytes:bigint,totalLogicalSizeOfDataToRewriteInBytes:bigint,timeMetrics:struct<classifierTimeMs:bigint,optimizerTimeMs:bigint,metadataLoadTimeMs:bigint,totalGetFilesForNodeCallsTimeMs:bigint,totalSamplingTimeMs:bigint,metadataCreationTimeMs:bigint>,maxOptimizeBatchesInParallel:bigint,currentIteration:int,maxIterations:int,clusteringStrategy:string>>]"
      ]
     },
     "execution_count": 37,
     "metadata": {},
     "output_type": "execute_result"
    }
   ],
   "source": [
    "# Run OPTIMIZE on your Delta table.\n",
    "spark.sql(\"OPTIMIZE delta.`/mount_point/delta/taxi_trips` ZORDER BY (PULocationID, DOLocationID)\")"
   ]
  },
  {
   "cell_type": "markdown",
   "metadata": {
    "application/vnd.databricks.v1+cell": {
     "cellMetadata": {},
     "inputWidgets": {},
     "nuid": "4e4c97e9-3259-4f6e-8597-b7c717435b4e",
     "showTitle": false,
     "tableResultSettingsMap": {},
     "title": ""
    }
   },
   "source": [
    "Action 4.5: Basic DML and Time Travel (Conceptual/Optional Practical)"
   ]
  },
  {
   "cell_type": "code",
   "execution_count": 0,
   "metadata": {
    "application/vnd.databricks.v1+cell": {
     "cellMetadata": {
      "byteLimit": 2048000,
      "rowLimit": 10000
     },
     "inputWidgets": {},
     "nuid": "86149d85-073b-4dcd-90df-b4139992d036",
     "showTitle": false,
     "tableResultSettingsMap": {},
     "title": ""
    }
   },
   "outputs": [
    {
     "data": {
      "text/html": [
       "<style scoped>\n",
       "  .table-result-container {\n",
       "    max-height: 300px;\n",
       "    overflow: auto;\n",
       "  }\n",
       "  table, th, td {\n",
       "    border: 1px solid black;\n",
       "    border-collapse: collapse;\n",
       "  }\n",
       "  th, td {\n",
       "    padding: 5px;\n",
       "  }\n",
       "  th {\n",
       "    text-align: left;\n",
       "  }\n",
       "</style><div class='table-result-container'><table class='table-result'><thead style='background-color: white'><tr><th>VendorID</th><th>tpep_pickup_datetime</th><th>tpep_dropoff_datetime</th><th>passenger_count</th><th>trip_distance</th><th>RatecodeID</th><th>store_and_fwd_flag</th><th>PULocationID</th><th>DOLocationID</th><th>payment_type</th><th>fare_amount</th><th>extra</th><th>mta_tax</th><th>tip_amount</th><th>tolls_amount</th><th>improvement_surcharge</th><th>total_amount</th><th>congestion_surcharge</th><th>Airport_fee</th><th>trip_duration_min</th><th>avg_speed_mph</th><th>pickup_day_of_week</th><th>pickup_hour</th><th>time_of_day_slot</th><th>pickup_year</th><th>pickup_month</th><th>pickup_day</th></tr></thead><tbody><tr><td>2</td><td>2024-01-01T00:57:55Z</td><td>2024-01-01T01:17:43Z</td><td>1</td><td>1.72</td><td>1</td><td>N</td><td>186</td><td>79</td><td>2</td><td>17.7</td><td>1.0</td><td>0.5</td><td>0.0</td><td>0.0</td><td>1.0</td><td>22.7</td><td>2.5</td><td>0.0</td><td>19.800000</td><td>5.212121212121212</td><td>2</td><td>0</td><td>Night</td><td>2024</td><td>1</td><td>1</td></tr><tr><td>1</td><td>2024-01-01T00:03:00Z</td><td>2024-01-01T00:09:36Z</td><td>1</td><td>1.8</td><td>1</td><td>N</td><td>140</td><td>236</td><td>1</td><td>10.0</td><td>3.5</td><td>0.5</td><td>3.75</td><td>0.0</td><td>1.0</td><td>18.75</td><td>2.5</td><td>0.0</td><td>6.600000</td><td>16.363636363636363</td><td>2</td><td>0</td><td>Night</td><td>2024</td><td>1</td><td>1</td></tr><tr><td>1</td><td>2024-01-01T00:17:06Z</td><td>2024-01-01T00:35:01Z</td><td>1</td><td>4.7</td><td>1</td><td>N</td><td>236</td><td>79</td><td>1</td><td>23.3</td><td>3.5</td><td>0.5</td><td>3.0</td><td>0.0</td><td>1.0</td><td>31.3</td><td>2.5</td><td>0.0</td><td>17.916667</td><td>15.73954074029423</td><td>2</td><td>0</td><td>Night</td><td>2024</td><td>1</td><td>1</td></tr></tbody></table></div>"
      ]
     },
     "metadata": {
      "application/vnd.databricks.v1+output": {
       "addedWidgets": {},
       "aggData": [],
       "aggError": "",
       "aggOverflow": false,
       "aggSchema": [],
       "aggSeriesLimitReached": false,
       "aggType": "",
       "arguments": {},
       "columnCustomDisplayInfos": {},
       "data": [
        [
         2,
         "2024-01-01T00:57:55Z",
         "2024-01-01T01:17:43Z",
         1,
         1.72,
         1,
         "N",
         186,
         79,
         "2",
         17.7,
         1,
         0.5,
         0,
         0,
         1,
         22.7,
         2.5,
         0,
         "19.800000",
         5.212121212121212,
         2,
         0,
         "Night",
         2024,
         1,
         1
        ],
        [
         1,
         "2024-01-01T00:03:00Z",
         "2024-01-01T00:09:36Z",
         1,
         1.8,
         1,
         "N",
         140,
         236,
         "1",
         10,
         3.5,
         0.5,
         3.75,
         0,
         1,
         18.75,
         2.5,
         0,
         "6.600000",
         16.363636363636363,
         2,
         0,
         "Night",
         2024,
         1,
         1
        ],
        [
         1,
         "2024-01-01T00:17:06Z",
         "2024-01-01T00:35:01Z",
         1,
         4.7,
         1,
         "N",
         236,
         79,
         "1",
         23.3,
         3.5,
         0.5,
         3,
         0,
         1,
         31.3,
         2.5,
         0,
         "17.916667",
         15.73954074029423,
         2,
         0,
         "Night",
         2024,
         1,
         1
        ]
       ],
       "datasetInfos": [],
       "dbfsResultPath": null,
       "isJsonSchema": true,
       "metadata": {},
       "overflow": false,
       "plotOptions": {
        "customPlotOptions": {},
        "displayType": "table",
        "pivotAggregation": null,
        "pivotColumns": null,
        "xColumns": null,
        "yColumns": null
       },
       "removedWidgets": [],
       "schema": [
        {
         "metadata": "{}",
         "name": "VendorID",
         "type": "\"integer\""
        },
        {
         "metadata": "{}",
         "name": "tpep_pickup_datetime",
         "type": "\"timestamp\""
        },
        {
         "metadata": "{}",
         "name": "tpep_dropoff_datetime",
         "type": "\"timestamp\""
        },
        {
         "metadata": "{}",
         "name": "passenger_count",
         "type": "\"integer\""
        },
        {
         "metadata": "{}",
         "name": "trip_distance",
         "type": "\"double\""
        },
        {
         "metadata": "{}",
         "name": "RatecodeID",
         "type": "\"long\""
        },
        {
         "metadata": "{}",
         "name": "store_and_fwd_flag",
         "type": "\"string\""
        },
        {
         "metadata": "{}",
         "name": "PULocationID",
         "type": "\"integer\""
        },
        {
         "metadata": "{}",
         "name": "DOLocationID",
         "type": "\"integer\""
        },
        {
         "metadata": "{}",
         "name": "payment_type",
         "type": "\"string\""
        },
        {
         "metadata": "{}",
         "name": "fare_amount",
         "type": "\"double\""
        },
        {
         "metadata": "{}",
         "name": "extra",
         "type": "\"double\""
        },
        {
         "metadata": "{}",
         "name": "mta_tax",
         "type": "\"double\""
        },
        {
         "metadata": "{}",
         "name": "tip_amount",
         "type": "\"double\""
        },
        {
         "metadata": "{}",
         "name": "tolls_amount",
         "type": "\"double\""
        },
        {
         "metadata": "{}",
         "name": "improvement_surcharge",
         "type": "\"double\""
        },
        {
         "metadata": "{}",
         "name": "total_amount",
         "type": "\"double\""
        },
        {
         "metadata": "{}",
         "name": "congestion_surcharge",
         "type": "\"double\""
        },
        {
         "metadata": "{}",
         "name": "Airport_fee",
         "type": "\"double\""
        },
        {
         "metadata": "{}",
         "name": "trip_duration_min",
         "type": "\"decimal(27,6)\""
        },
        {
         "metadata": "{}",
         "name": "avg_speed_mph",
         "type": "\"double\""
        },
        {
         "metadata": "{}",
         "name": "pickup_day_of_week",
         "type": "\"integer\""
        },
        {
         "metadata": "{}",
         "name": "pickup_hour",
         "type": "\"integer\""
        },
        {
         "metadata": "{}",
         "name": "time_of_day_slot",
         "type": "\"string\""
        },
        {
         "metadata": "{}",
         "name": "pickup_year",
         "type": "\"integer\""
        },
        {
         "metadata": "{}",
         "name": "pickup_month",
         "type": "\"integer\""
        },
        {
         "metadata": "{}",
         "name": "pickup_day",
         "type": "\"integer\""
        }
       ],
       "type": "table"
      }
     },
     "output_type": "display_data"
    },
    {
     "data": {
      "text/html": [
       "<style scoped>\n",
       "  .table-result-container {\n",
       "    max-height: 300px;\n",
       "    overflow: auto;\n",
       "  }\n",
       "  table, th, td {\n",
       "    border: 1px solid black;\n",
       "    border-collapse: collapse;\n",
       "  }\n",
       "  th, td {\n",
       "    padding: 5px;\n",
       "  }\n",
       "  th {\n",
       "    text-align: left;\n",
       "  }\n",
       "</style><div class='table-result-container'><table class='table-result'><thead style='background-color: white'><tr><th>VendorID</th><th>tpep_pickup_datetime</th><th>tpep_dropoff_datetime</th><th>passenger_count</th><th>trip_distance</th><th>RatecodeID</th><th>store_and_fwd_flag</th><th>PULocationID</th><th>DOLocationID</th><th>payment_type</th><th>fare_amount</th><th>extra</th><th>mta_tax</th><th>tip_amount</th><th>tolls_amount</th><th>improvement_surcharge</th><th>total_amount</th><th>congestion_surcharge</th><th>Airport_fee</th><th>trip_duration_min</th><th>avg_speed_mph</th><th>pickup_day_of_week</th><th>pickup_hour</th><th>time_of_day_slot</th><th>pickup_year</th><th>pickup_month</th><th>pickup_day</th></tr></thead><tbody><tr><td>2</td><td>2024-01-09T23:56:19Z</td><td>2024-01-10T00:06:29Z</td><td>1</td><td>1.52</td><td>1</td><td>N</td><td>186</td><td>230</td><td>2</td><td>11.4</td><td>1.0</td><td>0.5</td><td>0.0</td><td>0.0</td><td>1.0</td><td>16.4</td><td>2.5</td><td>0.0</td><td>10.166667</td><td>8.970515332499232</td><td>3</td><td>23</td><td>Night</td><td>2024</td><td>1</td><td>9</td></tr><tr><td>2</td><td>2024-01-09T23:59:39Z</td><td>2024-01-10T00:19:26Z</td><td>1</td><td>5.92</td><td>1</td><td>N</td><td>230</td><td>87</td><td>1</td><td>26.8</td><td>1.0</td><td>0.5</td><td>6.36</td><td>0.0</td><td>1.0</td><td>38.16</td><td>2.5</td><td>0.0</td><td>19.783333</td><td>17.954519261681053</td><td>3</td><td>23</td><td>Night</td><td>2024</td><td>1</td><td>9</td></tr><tr><td>2</td><td>2024-01-09T23:54:39Z</td><td>2024-01-10T00:07:46Z</td><td>1</td><td>3.71</td><td>1</td><td>N</td><td>164</td><td>263</td><td>1</td><td>17.7</td><td>1.0</td><td>0.5</td><td>4.54</td><td>0.0</td><td>1.0</td><td>27.24</td><td>2.5</td><td>0.0</td><td>13.116667</td><td>16.970783720855767</td><td>3</td><td>23</td><td>Night</td><td>2024</td><td>1</td><td>9</td></tr></tbody></table></div>"
      ]
     },
     "metadata": {
      "application/vnd.databricks.v1+output": {
       "addedWidgets": {},
       "aggData": [],
       "aggError": "",
       "aggOverflow": false,
       "aggSchema": [],
       "aggSeriesLimitReached": false,
       "aggType": "",
       "arguments": {},
       "columnCustomDisplayInfos": {},
       "data": [
        [
         2,
         "2024-01-09T23:56:19Z",
         "2024-01-10T00:06:29Z",
         1,
         1.52,
         1,
         "N",
         186,
         230,
         "2",
         11.4,
         1,
         0.5,
         0,
         0,
         1,
         16.4,
         2.5,
         0,
         "10.166667",
         8.970515332499232,
         3,
         23,
         "Night",
         2024,
         1,
         9
        ],
        [
         2,
         "2024-01-09T23:59:39Z",
         "2024-01-10T00:19:26Z",
         1,
         5.92,
         1,
         "N",
         230,
         87,
         "1",
         26.8,
         1,
         0.5,
         6.36,
         0,
         1,
         38.16,
         2.5,
         0,
         "19.783333",
         17.954519261681053,
         3,
         23,
         "Night",
         2024,
         1,
         9
        ],
        [
         2,
         "2024-01-09T23:54:39Z",
         "2024-01-10T00:07:46Z",
         1,
         3.71,
         1,
         "N",
         164,
         263,
         "1",
         17.7,
         1,
         0.5,
         4.54,
         0,
         1,
         27.24,
         2.5,
         0,
         "13.116667",
         16.970783720855767,
         3,
         23,
         "Night",
         2024,
         1,
         9
        ]
       ],
       "datasetInfos": [],
       "dbfsResultPath": null,
       "isJsonSchema": true,
       "metadata": {},
       "overflow": false,
       "plotOptions": {
        "customPlotOptions": {},
        "displayType": "table",
        "pivotAggregation": null,
        "pivotColumns": null,
        "xColumns": null,
        "yColumns": null
       },
       "removedWidgets": [],
       "schema": [
        {
         "metadata": "{}",
         "name": "VendorID",
         "type": "\"integer\""
        },
        {
         "metadata": "{}",
         "name": "tpep_pickup_datetime",
         "type": "\"timestamp\""
        },
        {
         "metadata": "{}",
         "name": "tpep_dropoff_datetime",
         "type": "\"timestamp\""
        },
        {
         "metadata": "{}",
         "name": "passenger_count",
         "type": "\"integer\""
        },
        {
         "metadata": "{}",
         "name": "trip_distance",
         "type": "\"double\""
        },
        {
         "metadata": "{}",
         "name": "RatecodeID",
         "type": "\"long\""
        },
        {
         "metadata": "{}",
         "name": "store_and_fwd_flag",
         "type": "\"string\""
        },
        {
         "metadata": "{}",
         "name": "PULocationID",
         "type": "\"integer\""
        },
        {
         "metadata": "{}",
         "name": "DOLocationID",
         "type": "\"integer\""
        },
        {
         "metadata": "{}",
         "name": "payment_type",
         "type": "\"string\""
        },
        {
         "metadata": "{}",
         "name": "fare_amount",
         "type": "\"double\""
        },
        {
         "metadata": "{}",
         "name": "extra",
         "type": "\"double\""
        },
        {
         "metadata": "{}",
         "name": "mta_tax",
         "type": "\"double\""
        },
        {
         "metadata": "{}",
         "name": "tip_amount",
         "type": "\"double\""
        },
        {
         "metadata": "{}",
         "name": "tolls_amount",
         "type": "\"double\""
        },
        {
         "metadata": "{}",
         "name": "improvement_surcharge",
         "type": "\"double\""
        },
        {
         "metadata": "{}",
         "name": "total_amount",
         "type": "\"double\""
        },
        {
         "metadata": "{}",
         "name": "congestion_surcharge",
         "type": "\"double\""
        },
        {
         "metadata": "{}",
         "name": "Airport_fee",
         "type": "\"double\""
        },
        {
         "metadata": "{}",
         "name": "trip_duration_min",
         "type": "\"decimal(27,6)\""
        },
        {
         "metadata": "{}",
         "name": "avg_speed_mph",
         "type": "\"double\""
        },
        {
         "metadata": "{}",
         "name": "pickup_day_of_week",
         "type": "\"integer\""
        },
        {
         "metadata": "{}",
         "name": "pickup_hour",
         "type": "\"integer\""
        },
        {
         "metadata": "{}",
         "name": "time_of_day_slot",
         "type": "\"string\""
        },
        {
         "metadata": "{}",
         "name": "pickup_year",
         "type": "\"integer\""
        },
        {
         "metadata": "{}",
         "name": "pickup_month",
         "type": "\"integer\""
        },
        {
         "metadata": "{}",
         "name": "pickup_day",
         "type": "\"integer\""
        }
       ],
       "type": "table"
      }
     },
     "output_type": "display_data"
    },
    {
     "data": {
      "text/plain": [
       "DataFrame[path: string, metrics: struct<numFilesAdded:bigint,numFilesRemoved:bigint,filesAdded:struct<min:bigint,max:bigint,avg:double,totalFiles:bigint,totalSize:bigint>,filesRemoved:struct<min:bigint,max:bigint,avg:double,totalFiles:bigint,totalSize:bigint>,partitionsOptimized:bigint,zOrderStats:struct<strategyName:string,inputCubeFiles:struct<num:bigint,size:bigint>,inputOtherFiles:struct<num:bigint,size:bigint>,inputNumCubes:bigint,mergedFiles:struct<num:bigint,size:bigint>,numOutputCubes:bigint,mergedNumCubes:bigint>,clusteringStats:struct<inputZCubeFiles:struct<numFiles:bigint,size:bigint>,inputOtherFiles:struct<numFiles:bigint,size:bigint>,inputNumZCubes:bigint,mergedFiles:struct<numFiles:bigint,size:bigint>,numOutputZCubes:bigint>,numBins:bigint,numBatches:bigint,totalConsideredFiles:bigint,totalFilesSkipped:bigint,preserveInsertionOrder:boolean,numFilesSkippedToReduceWriteAmplification:bigint,numBytesSkippedToReduceWriteAmplification:bigint,startTimeMs:bigint,endTimeMs:bigint,totalClusterParallelism:bigint,totalScheduledTasks:bigint,autoCompactParallelismStats:struct<maxClusterActiveParallelism:bigint,minClusterActiveParallelism:bigint,maxSessionActiveParallelism:bigint,minSessionActiveParallelism:bigint>,deletionVectorStats:struct<numDeletionVectorsRemoved:bigint,numDeletionVectorRowsRemoved:bigint>,numTableColumns:bigint,numTableColumnsWithStats:bigint,totalTaskExecutionTimeMs:bigint,skippedArchivedFiles:bigint,clusteringMetrics:struct<sizeOfTableInBytesBeforeLazyClustering:bigint,isNewMetadataCreated:boolean,isPOTriggered:boolean,numFilesSkippedWithoutStats:bigint,numFilesClassifiedToIntermediateNodes:bigint,sizeOfFilesClassifiedToIntermediateNodesInBytes:bigint,logicalSizeOfFilesClassifiedToIntermediateNodesInBytes:bigint,numFilesClassifiedToLeafNodes:bigint,sizeOfFilesClassifiedToLeafNodesInBytes:bigint,logicalSizeOfFilesClassifiedToLeafNodesInBytes:bigint,numThreadsForClassifier:int,clusterThresholdStrategy:string,minFileSize:bigint,maxFileSize:bigint,nodeMinNumFilesToCompact:bigint,numIdealFiles:bigint,numClusteringTasksPlanned:int,numCompactionTasksPlanned:int,numOptimizeBatchesPlanned:int,numLeafNodesExpanded:bigint,numLeafNodesClustered:bigint,numGetFilesForNodeCalls:bigint,numSamplingJobs:bigint,numLeafNodesCompacted:bigint,numIntermediateNodesCompacted:bigint,totalSizeOfDataToCompactInBytes:bigint,totalLogicalSizeOfDataToCompactInBytes:bigint,numIntermediateNodesClustered:bigint,numFilesSkippedAfterExpansion:bigint,totalSizeOfFilesSkippedAfterExpansionInBytes:bigint,totalLogicalSizeOfFilesSkippedAfterExpansionInBytes:bigint,totalSizeOfDataToRewriteInBytes:bigint,totalLogicalSizeOfDataToRewriteInBytes:bigint,timeMetrics:struct<classifierTimeMs:bigint,optimizerTimeMs:bigint,metadataLoadTimeMs:bigint,totalGetFilesForNodeCallsTimeMs:bigint,totalSamplingTimeMs:bigint,metadataCreationTimeMs:bigint>,maxOptimizeBatchesInParallel:bigint,currentIteration:int,maxIterations:int,clusteringStrategy:string>>]"
      ]
     },
     "execution_count": 39,
     "metadata": {},
     "output_type": "execute_result"
    }
   ],
   "source": [
    "%python\n",
    "# Read the Delta table into a DataFrame\n",
    "df = spark.read.format(\"delta\").load(\"dbfs:/mount_point/delta/taxi_trips\")\n",
    "\n",
    "# Display the DataFrame\n",
    "display(df.limit(3))\n",
    "\n",
    "# Perform a simple UPDATE on a small subset of data\n",
    "spark.sql(\"\"\"\n",
    "    UPDATE delta.`/mount_point/delta/taxi_trips`\n",
    "    SET fare_amount = fare_amount * 1.1\n",
    "    WHERE PULocationID = 1\n",
    "\"\"\")\n",
    "\n",
    "# Query a previous version of the table using VERSION AS OF\n",
    "previous_version_df = spark.read.format(\"delta\").option(\"versionAsOf\", 0).load(\"dbfs:/mount_point/delta/taxi_trips\")\n",
    "\n",
    "# Display the previous version of the DataFrame\n",
    "display(previous_version_df.limit(3))\n",
    "\n",
    "# Run OPTIMIZE on your Delta table.\n",
    "spark.sql(\"OPTIMIZE delta.`/mount_point/delta/taxi_trips` ZORDER BY (PULocationID, DOLocationID)\")"
   ]
  },
  {
   "cell_type": "markdown",
   "metadata": {
    "application/vnd.databricks.v1+cell": {
     "cellMetadata": {},
     "inputWidgets": {},
     "nuid": "64e99bca-5b6f-45f9-985d-34b312796b5f",
     "showTitle": false,
     "tableResultSettingsMap": {},
     "title": ""
    }
   },
   "source": [
    "## Deliverable Snippet (for your report)\n",
    "\n",
    "### ACID Transactions in Delta Lake\n",
    "Delta Lake ensures ACID (Atomicity, Consistency, Isolation, Durability) transactions, which means that all operations are completed successfully or none at all, the data remains consistent, operations are isolated from each other, and once a transaction is committed, it remains durable even in the case of failures.\n",
    "\n",
    "### Time Travel in Delta Lake\n",
    "Time Travel allows you to query previous versions of your Delta Lake table. This is useful for auditing, debugging, and reproducing experiments.\n",
    "\n",
    "### DML and Time Travel Commands\n",
    "- **UPDATE Command**: We performed an UPDATE to increase the `fare_amount` by 10% where `PULocationID` is 1.\n",
    "- **Time Travel Command**: We queried the table as it was at version 0 to see the data before the UPDATE.\n",
    "\n",
    "### Outcome\n",
    "- The UPDATE command modified the `fare_amount` for records with `PULocationID` 1.\n",
    "- The Time Travel command allowed us to view the table's state before the UPDATE, demonstrating the ability to access historical data."
   ]
  },
  {
   "cell_type": "markdown",
   "metadata": {
    "application/vnd.databricks.v1+cell": {
     "cellMetadata": {},
     "inputWidgets": {},
     "nuid": "8b79a691-e185-424f-b3f3-a846d46ddd07",
     "showTitle": false,
     "tableResultSettingsMap": {},
     "title": ""
    }
   },
   "source": [
    "Task 5: Data Analysis and Insights from Delta Table (Est. 6 - 8 hours)\n",
    "Objective: Query the optimized Delta Lake table using Spark SQL to derive meaningful insights and answer analytical questions.\n",
    "\n"
   ]
  },
  {
   "cell_type": "markdown",
   "metadata": {
    "application/vnd.databricks.v1+cell": {
     "cellMetadata": {},
     "inputWidgets": {},
     "nuid": "87751641-dd02-4073-8b4e-794fc0b5f25a",
     "showTitle": false,
     "tableResultSettingsMap": {},
     "title": ""
    }
   },
   "source": [
    "Action 5.1: Formulate Analytical Questions"
   ]
  },
  {
   "cell_type": "markdown",
   "metadata": {
    "application/vnd.databricks.v1+cell": {
     "cellMetadata": {},
     "inputWidgets": {},
     "nuid": "0571082a-ddf6-47ce-8e95-0dd4e10732b5",
     "showTitle": false,
     "tableResultSettingsMap": {},
     "title": ""
    }
   },
   "source": [
    "Based on the enriched and processed data in your Delta table, we aim to answer 3-5 analytical questions that can provide business value or interesting insights into taxi trip patterns.\n",
    "- How does average fare amount vary by time_of_day_slot and pickup_day_of_week?\n",
    "- What are the top 10 busiest routes (PULocationID to DOLocationID pairs) during peak hours?\n",
    "- Is there a correlation between trip_duration_minutes and tip_amount for different payment_types?\n",
    "- How do airport trips (trips to/from known airport LocationIDs) differ in terms of average distance, fare, and tip percentage compared to non-airport trips?"
   ]
  },
  {
   "cell_type": "markdown",
   "metadata": {
    "application/vnd.databricks.v1+cell": {
     "cellMetadata": {},
     "inputWidgets": {},
     "nuid": "1fc25ca2-696b-43c3-a19b-8a38233e7990",
     "showTitle": false,
     "tableResultSettingsMap": {},
     "title": ""
    }
   },
   "source": [
    "Action 5.2: Write Spark SQL Queries for Analysis"
   ]
  },
  {
   "cell_type": "code",
   "execution_count": 0,
   "metadata": {
    "application/vnd.databricks.v1+cell": {
     "cellMetadata": {
      "byteLimit": 2048000,
      "implicitDf": true,
      "rowLimit": 10000
     },
     "inputWidgets": {},
     "nuid": "d241439c-f3b9-41a5-b70f-632069bf60c5",
     "showTitle": false,
     "tableResultSettingsMap": {},
     "title": ""
    }
   },
   "outputs": [
    {
     "data": {
      "text/html": [
       "<style scoped>\n",
       "  .table-result-container {\n",
       "    max-height: 300px;\n",
       "    overflow: auto;\n",
       "  }\n",
       "  table, th, td {\n",
       "    border: 1px solid black;\n",
       "    border-collapse: collapse;\n",
       "  }\n",
       "  th, td {\n",
       "    padding: 5px;\n",
       "  }\n",
       "  th {\n",
       "    text-align: left;\n",
       "  }\n",
       "</style><div class='table-result-container'><table class='table-result'><thead style='background-color: white'><tr><th>time_of_day_slot</th><th>pickup_day_of_week</th><th>avg_fare_amount</th></tr></thead><tbody><tr><td>Afternoon</td><td>1</td><td>18.195038825540003</td></tr><tr><td>Evening</td><td>1</td><td>19.137561389697545</td></tr><tr><td>Morning</td><td>1</td><td>17.72485988255403</td></tr></tbody></table></div>"
      ]
     },
     "metadata": {
      "application/vnd.databricks.v1+output": {
       "addedWidgets": {},
       "aggData": [],
       "aggError": "",
       "aggOverflow": false,
       "aggSchema": [],
       "aggSeriesLimitReached": false,
       "aggType": "",
       "arguments": {},
       "columnCustomDisplayInfos": {},
       "data": [
        [
         "Afternoon",
         1,
         18.195038825540003
        ],
        [
         "Evening",
         1,
         19.137561389697545
        ],
        [
         "Morning",
         1,
         17.72485988255403
        ]
       ],
       "datasetInfos": [],
       "dbfsResultPath": null,
       "isJsonSchema": true,
       "metadata": {},
       "overflow": false,
       "plotOptions": {
        "customPlotOptions": {},
        "displayType": "table",
        "pivotAggregation": null,
        "pivotColumns": null,
        "xColumns": null,
        "yColumns": null
       },
       "removedWidgets": [],
       "schema": [
        {
         "metadata": "{}",
         "name": "time_of_day_slot",
         "type": "\"string\""
        },
        {
         "metadata": "{}",
         "name": "pickup_day_of_week",
         "type": "\"integer\""
        },
        {
         "metadata": "{}",
         "name": "avg_fare_amount",
         "type": "\"double\""
        }
       ],
       "type": "table"
      }
     },
     "output_type": "display_data"
    }
   ],
   "source": [
    "%python\n",
    "# How does average fare amount vary by time_of_day_slot and pickup_day_of_week?\n",
    "query = \"\"\"\n",
    "    WITH avg_fare AS (\n",
    "        SELECT \n",
    "            time_of_day_slot, \n",
    "            pickup_day_of_week, \n",
    "            AVG(fare_amount) AS avg_fare_amount\n",
    "        FROM delta.`/mount_point/delta/taxi_trips`\n",
    "        GROUP BY time_of_day_slot, pickup_day_of_week\n",
    "    )\n",
    "    SELECT * FROM avg_fare\n",
    "    ORDER BY pickup_day_of_week, time_of_day_slot\n",
    "\"\"\"\n",
    "\n",
    "df = spark.sql(query)\n",
    "display(df.limit(3))"
   ]
  },
  {
   "cell_type": "code",
   "execution_count": 0,
   "metadata": {
    "application/vnd.databricks.v1+cell": {
     "cellMetadata": {
      "byteLimit": 2048000,
      "implicitDf": true,
      "rowLimit": 10000
     },
     "inputWidgets": {},
     "nuid": "0cf78c63-f0dc-412d-b008-597c00db79ee",
     "showTitle": false,
     "tableResultSettingsMap": {},
     "title": ""
    }
   },
   "outputs": [
    {
     "data": {
      "text/html": [
       "<style scoped>\n",
       "  .table-result-container {\n",
       "    max-height: 300px;\n",
       "    overflow: auto;\n",
       "  }\n",
       "  table, th, td {\n",
       "    border: 1px solid black;\n",
       "    border-collapse: collapse;\n",
       "  }\n",
       "  th, td {\n",
       "    padding: 5px;\n",
       "  }\n",
       "  th {\n",
       "    text-align: left;\n",
       "  }\n",
       "</style><div class='table-result-container'><table class='table-result'><thead style='background-color: white'><tr><th>PULocationID</th><th>DOLocationID</th><th>trip_count</th></tr></thead><tbody></tbody></table></div>"
      ]
     },
     "metadata": {
      "application/vnd.databricks.v1+output": {
       "addedWidgets": {},
       "aggData": [],
       "aggError": "",
       "aggOverflow": false,
       "aggSchema": [],
       "aggSeriesLimitReached": false,
       "aggType": "",
       "arguments": {},
       "columnCustomDisplayInfos": {},
       "data": [],
       "datasetInfos": [],
       "dbfsResultPath": null,
       "isJsonSchema": true,
       "metadata": {},
       "overflow": false,
       "plotOptions": {
        "customPlotOptions": {},
        "displayType": "table",
        "pivotAggregation": null,
        "pivotColumns": null,
        "xColumns": null,
        "yColumns": null
       },
       "removedWidgets": [],
       "schema": [
        {
         "metadata": "{}",
         "name": "PULocationID",
         "type": "\"integer\""
        },
        {
         "metadata": "{}",
         "name": "DOLocationID",
         "type": "\"integer\""
        },
        {
         "metadata": "{}",
         "name": "trip_count",
         "type": "\"long\""
        }
       ],
       "type": "table"
      }
     },
     "output_type": "display_data"
    }
   ],
   "source": [
    "%python\n",
    "# How does average fare amount vary by time_of_day_slot and pickup_day_of_week?\n",
    "query = \"\"\"\n",
    "    WITH peak_hours AS (\n",
    "        SELECT \n",
    "            PULocationID, \n",
    "            DOLocationID, \n",
    "            COUNT(*) AS trip_count\n",
    "        FROM delta.`/mount_point/delta/taxi_trips`\n",
    "        WHERE time_of_day_slot IN ('morning_peak', 'evening_peak')\n",
    "        GROUP BY PULocationID, DOLocationID\n",
    "    )\n",
    "    SELECT * FROM peak_hours\n",
    "    ORDER BY trip_count DESC\n",
    "    LIMIT 10\n",
    "\"\"\"\n",
    "df = spark.sql(query)\n",
    "display(df.limit(3))"
   ]
  },
  {
   "cell_type": "code",
   "execution_count": 0,
   "metadata": {
    "application/vnd.databricks.v1+cell": {
     "cellMetadata": {
      "byteLimit": 2048000,
      "rowLimit": 10000
     },
     "inputWidgets": {},
     "nuid": "9cec393b-d6b2-4cb5-b845-bad17332b305",
     "showTitle": false,
     "tableResultSettingsMap": {},
     "title": ""
    }
   },
   "outputs": [
    {
     "data": {
      "text/html": [
       "<style scoped>\n",
       "  .table-result-container {\n",
       "    max-height: 300px;\n",
       "    overflow: auto;\n",
       "  }\n",
       "  table, th, td {\n",
       "    border: 1px solid black;\n",
       "    border-collapse: collapse;\n",
       "  }\n",
       "  th, td {\n",
       "    padding: 5px;\n",
       "  }\n",
       "  th {\n",
       "    text-align: left;\n",
       "  }\n",
       "</style><div class='table-result-container'><table class='table-result'><thead style='background-color: white'><tr><th>payment_type</th><th>correlation</th></tr></thead><tbody><tr><td>3</td><td>0.005434305275568138</td></tr><tr><td>1</td><td>0.20020157269280706</td></tr><tr><td>4</td><td>0.0014307468306927879</td></tr></tbody></table></div>"
      ]
     },
     "metadata": {
      "application/vnd.databricks.v1+output": {
       "addedWidgets": {},
       "aggData": [],
       "aggError": "",
       "aggOverflow": false,
       "aggSchema": [],
       "aggSeriesLimitReached": false,
       "aggType": "",
       "arguments": {},
       "columnCustomDisplayInfos": {},
       "data": [
        [
         "3",
         0.005434305275568138
        ],
        [
         "1",
         0.20020157269280706
        ],
        [
         "4",
         0.0014307468306927879
        ]
       ],
       "datasetInfos": [],
       "dbfsResultPath": null,
       "isJsonSchema": true,
       "metadata": {},
       "overflow": false,
       "plotOptions": {
        "customPlotOptions": {},
        "displayType": "table",
        "pivotAggregation": null,
        "pivotColumns": null,
        "xColumns": null,
        "yColumns": null
       },
       "removedWidgets": [],
       "schema": [
        {
         "metadata": "{}",
         "name": "payment_type",
         "type": "\"string\""
        },
        {
         "metadata": "{}",
         "name": "correlation",
         "type": "\"double\""
        }
       ],
       "type": "table"
      }
     },
     "output_type": "display_data"
    }
   ],
   "source": [
    "# Is there a correlation between trip_duration_minutes and tip_amount for different payment_types?\n",
    "df = spark.sql(\"\"\"\n",
    "    WITH correlation_data AS (\n",
    "        SELECT \n",
    "            payment_type, \n",
    "            trip_duration_min, \n",
    "            tip_amount\n",
    "        FROM delta.`/mount_point/delta/taxi_trips`\n",
    "    )\n",
    "    SELECT \n",
    "        payment_type, \n",
    "        corr(trip_duration_min, tip_amount) AS correlation\n",
    "    FROM correlation_data\n",
    "    GROUP BY payment_type\n",
    "\"\"\")\n",
    "display(df.limit(3))"
   ]
  },
  {
   "cell_type": "code",
   "execution_count": 0,
   "metadata": {
    "application/vnd.databricks.v1+cell": {
     "cellMetadata": {
      "byteLimit": 2048000,
      "rowLimit": 10000
     },
     "inputWidgets": {},
     "nuid": "57658976-4dad-486c-ab07-7568e87e5595",
     "showTitle": false,
     "tableResultSettingsMap": {},
     "title": ""
    }
   },
   "outputs": [
    {
     "data": {
      "text/html": [
       "<style scoped>\n",
       "  .table-result-container {\n",
       "    max-height: 300px;\n",
       "    overflow: auto;\n",
       "  }\n",
       "  table, th, td {\n",
       "    border: 1px solid black;\n",
       "    border-collapse: collapse;\n",
       "  }\n",
       "  th, td {\n",
       "    padding: 5px;\n",
       "  }\n",
       "  th {\n",
       "    text-align: left;\n",
       "  }\n",
       "</style><div class='table-result-container'><table class='table-result'><thead style='background-color: white'><tr><th>trip_type</th><th>avg_distance</th><th>avg_fare</th><th>avg_tip_percentage</th></tr></thead><tbody><tr><td>non_airport</td><td>3.1926727705607414</td><td>17.928830773198005</td><td>21.472844461001984</td></tr><tr><td>airport</td><td>18.395881544802332</td><td>92.76895061822624</td><td>15.65056132718484</td></tr></tbody></table></div>"
      ]
     },
     "metadata": {
      "application/vnd.databricks.v1+output": {
       "addedWidgets": {},
       "aggData": [],
       "aggError": "",
       "aggOverflow": false,
       "aggSchema": [],
       "aggSeriesLimitReached": false,
       "aggType": "",
       "arguments": {},
       "columnCustomDisplayInfos": {},
       "data": [
        [
         "non_airport",
         3.1926727705607414,
         17.928830773198005,
         21.472844461001984
        ],
        [
         "airport",
         18.395881544802332,
         92.76895061822624,
         15.65056132718484
        ]
       ],
       "datasetInfos": [],
       "dbfsResultPath": null,
       "isJsonSchema": true,
       "metadata": {},
       "overflow": false,
       "plotOptions": {
        "customPlotOptions": {},
        "displayType": "table",
        "pivotAggregation": null,
        "pivotColumns": null,
        "xColumns": null,
        "yColumns": null
       },
       "removedWidgets": [],
       "schema": [
        {
         "metadata": "{}",
         "name": "trip_type",
         "type": "\"string\""
        },
        {
         "metadata": "{}",
         "name": "avg_distance",
         "type": "\"double\""
        },
        {
         "metadata": "{}",
         "name": "avg_fare",
         "type": "\"double\""
        },
        {
         "metadata": "{}",
         "name": "avg_tip_percentage",
         "type": "\"double\""
        }
       ],
       "type": "table"
      }
     },
     "output_type": "display_data"
    }
   ],
   "source": [
    "# How do airport trips (trips to/from known airport LocationIDs) differ in terms of average distance, fare, and tip percentage compared to non-airport trips?\n",
    "df = spark.sql(\"\"\"\n",
    "    WITH airport_trips AS (\n",
    "        SELECT \n",
    "            CASE \n",
    "                WHEN PULocationID IN (1, 2, 3) OR DOLocationID IN (1, 2, 3) THEN 'airport'\n",
    "                ELSE 'non_airport'\n",
    "            END AS trip_type,\n",
    "            trip_distance,\n",
    "            fare_amount,\n",
    "            tip_amount / fare_amount * 100 AS tip_percentage\n",
    "        FROM delta.`/mount_point/delta/taxi_trips`\n",
    "    )\n",
    "    SELECT \n",
    "        trip_type, \n",
    "        AVG(trip_distance) AS avg_distance, \n",
    "        AVG(fare_amount) AS avg_fare, \n",
    "        AVG(tip_percentage) AS avg_tip_percentage\n",
    "    FROM airport_trips\n",
    "    GROUP BY trip_type\n",
    "\"\"\")\n",
    "display(df.limit(3))"
   ]
  },
  {
   "cell_type": "markdown",
   "metadata": {
    "application/vnd.databricks.v1+cell": {
     "cellMetadata": {},
     "inputWidgets": {},
     "nuid": "82238c13-1cf8-4779-91fd-3af7e89b1bdb",
     "showTitle": false,
     "tableResultSettingsMap": {},
     "title": ""
    }
   },
   "source": [
    "Action 5.3: Interpret and Document Insights"
   ]
  },
  {
   "cell_type": "markdown",
   "metadata": {
    "application/vnd.databricks.v1+cell": {
     "cellMetadata": {},
     "inputWidgets": {},
     "nuid": "3c4aab85-354d-4581-9a93-dac15915e9cb",
     "showTitle": false,
     "tableResultSettingsMap": {},
     "title": ""
    }
   },
   "source": []
  },
  {
   "cell_type": "code",
   "execution_count": 0,
   "metadata": {
    "application/vnd.databricks.v1+cell": {
     "cellMetadata": {},
     "inputWidgets": {},
     "nuid": "d893b97b-8e15-4091-8657-0b65ba0937fe",
     "showTitle": false,
     "tableResultSettingsMap": {},
     "title": ""
    }
   },
   "outputs": [],
   "source": []
  }
 ],
 "metadata": {
  "application/vnd.databricks.v1+notebook": {
   "computePreferences": null,
   "dashboards": [],
   "environmentMetadata": {
    "base_environment": "",
    "environment_version": "2"
   },
   "inputWidgetPreferences": null,
   "language": "python",
   "notebookMetadata": {
    "mostRecentlyExecutedCommandWithImplicitDF": {
     "commandId": -1,
     "dataframes": [
      "_sqldf"
     ]
    },
    "pythonIndentUnit": 4
   },
   "notebookName": "W2_NYCTaxi_ETL",
   "widgets": {}
  },
  "language_info": {
   "name": "python"
  }
 },
 "nbformat": 4,
 "nbformat_minor": 0
}
